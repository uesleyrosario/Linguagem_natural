{
  "nbformat": 4,
  "nbformat_minor": 0,
  "metadata": {
    "colab": {
      "name": "Linguagem_natural.ipynb",
      "provenance": [],
      "collapsed_sections": []
    },
    "kernelspec": {
      "name": "python3",
      "display_name": "Python 3"
    }
  },
  "cells": [
    {
      "cell_type": "markdown",
      "metadata": {
        "id": "bE8k1o8qFxQd",
        "colab_type": "text"
      },
      "source": [
        "###Bibliotecas"
      ]
    },
    {
      "cell_type": "code",
      "metadata": {
        "id": "L007kvKsUrV4",
        "colab_type": "code",
        "colab": {}
      },
      "source": [
        "import nltk\n",
        "import re\n",
        "import pandas as pd\n",
        "from sklearn.feature_extraction.text import CountVectorizer\n",
        "from sklearn.naive_bayes import MultinomialNB\n",
        "from sklearn import metrics\n",
        "from sklearn.model_selection import cross_val_predict"
      ],
      "execution_count": null,
      "outputs": []
    },
    {
      "cell_type": "markdown",
      "metadata": {
        "id": "-fphAOoiEvt4",
        "colab_type": "text"
      },
      "source": [
        "###Conjunto de dados usado está disponível em:\n"
      ]
    },
    {
      "cell_type": "markdown",
      "metadata": {
        "id": "j6CJz6nCFhH0",
        "colab_type": "text"
      },
      "source": [
        "https://www.kaggle.com\n"
      ]
    },
    {
      "cell_type": "markdown",
      "metadata": {
        "id": "tY-7evyoGW29",
        "colab_type": "text"
      },
      "source": [
        "####Para pesquisas e estudos os arquivos de Tweets são requisitados através de API - \"Application Programming Interface\""
      ]
    },
    {
      "cell_type": "code",
      "metadata": {
        "id": "X3D67poHU0WU",
        "colab_type": "code",
        "colab": {}
      },
      "source": [
        "dataset = pd.read_csv('drive/My Drive/Tweets_Mg.csv',encoding='utf-8')"
      ],
      "execution_count": null,
      "outputs": []
    },
    {
      "cell_type": "code",
      "metadata": {
        "id": "VZw9hrw7U0Bu",
        "colab_type": "code",
        "colab": {
          "base_uri": "https://localhost:8080/",
          "height": 578
        },
        "outputId": "6ae759d3-9b2f-4158-9de4-d7a0bfac9402"
      },
      "source": [
        "dataset.info()"
      ],
      "execution_count": null,
      "outputs": [
        {
          "output_type": "stream",
          "text": [
            "<class 'pandas.core.frame.DataFrame'>\n",
            "RangeIndex: 8199 entries, 0 to 8198\n",
            "Data columns (total 26 columns):\n",
            " #   Column                     Non-Null Count  Dtype  \n",
            "---  ------                     --------------  -----  \n",
            " 0   Unnamed: 0                 8199 non-null   int64  \n",
            " 1   Created At                 8199 non-null   object \n",
            " 2   Text                       8199 non-null   object \n",
            " 3   Geo Coordinates.latitude   104 non-null    float64\n",
            " 4   Geo Coordinates.longitude  104 non-null    float64\n",
            " 5   User Location              5489 non-null   object \n",
            " 6   Username                   8199 non-null   object \n",
            " 7   User Screen Name           8199 non-null   object \n",
            " 8   Retweet Count              8199 non-null   int64  \n",
            " 9   Classificacao              8199 non-null   object \n",
            " 10  Observação                 1 non-null      object \n",
            " 11  Unnamed: 10                0 non-null      float64\n",
            " 12  Unnamed: 11                0 non-null      float64\n",
            " 13  Unnamed: 12                0 non-null      float64\n",
            " 14  Unnamed: 13                0 non-null      float64\n",
            " 15  Unnamed: 14                0 non-null      float64\n",
            " 16  Unnamed: 15                0 non-null      float64\n",
            " 17  Unnamed: 16                0 non-null      float64\n",
            " 18  Unnamed: 17                0 non-null      float64\n",
            " 19  Unnamed: 18                0 non-null      float64\n",
            " 20  Unnamed: 19                0 non-null      float64\n",
            " 21  Unnamed: 20                0 non-null      float64\n",
            " 22  Unnamed: 21                0 non-null      float64\n",
            " 23  Unnamed: 22                0 non-null      float64\n",
            " 24  Unnamed: 23                0 non-null      float64\n",
            " 25  Unnamed: 24                0 non-null      float64\n",
            "dtypes: float64(17), int64(2), object(7)\n",
            "memory usage: 1.6+ MB\n"
          ],
          "name": "stdout"
        }
      ]
    },
    {
      "cell_type": "code",
      "metadata": {
        "id": "x6BxD454WA36",
        "colab_type": "code",
        "colab": {
          "base_uri": "https://localhost:8080/",
          "height": 434
        },
        "outputId": "643a3f45-6fd9-4b5c-d9a6-066a0a6eacf8"
      },
      "source": [
        "dataset.head(3)"
      ],
      "execution_count": null,
      "outputs": [
        {
          "output_type": "execute_result",
          "data": {
            "text/html": [
              "<div>\n",
              "<style scoped>\n",
              "    .dataframe tbody tr th:only-of-type {\n",
              "        vertical-align: middle;\n",
              "    }\n",
              "\n",
              "    .dataframe tbody tr th {\n",
              "        vertical-align: top;\n",
              "    }\n",
              "\n",
              "    .dataframe thead th {\n",
              "        text-align: right;\n",
              "    }\n",
              "</style>\n",
              "<table border=\"1\" class=\"dataframe\">\n",
              "  <thead>\n",
              "    <tr style=\"text-align: right;\">\n",
              "      <th></th>\n",
              "      <th>Unnamed: 0</th>\n",
              "      <th>Created At</th>\n",
              "      <th>Text</th>\n",
              "      <th>Geo Coordinates.latitude</th>\n",
              "      <th>Geo Coordinates.longitude</th>\n",
              "      <th>User Location</th>\n",
              "      <th>Username</th>\n",
              "      <th>User Screen Name</th>\n",
              "      <th>Retweet Count</th>\n",
              "      <th>Classificacao</th>\n",
              "      <th>Observação</th>\n",
              "      <th>Unnamed: 10</th>\n",
              "      <th>Unnamed: 11</th>\n",
              "      <th>Unnamed: 12</th>\n",
              "      <th>Unnamed: 13</th>\n",
              "      <th>Unnamed: 14</th>\n",
              "      <th>Unnamed: 15</th>\n",
              "      <th>Unnamed: 16</th>\n",
              "      <th>Unnamed: 17</th>\n",
              "      <th>Unnamed: 18</th>\n",
              "      <th>Unnamed: 19</th>\n",
              "      <th>Unnamed: 20</th>\n",
              "      <th>Unnamed: 21</th>\n",
              "      <th>Unnamed: 22</th>\n",
              "      <th>Unnamed: 23</th>\n",
              "      <th>Unnamed: 24</th>\n",
              "    </tr>\n",
              "  </thead>\n",
              "  <tbody>\n",
              "    <tr>\n",
              "      <th>0</th>\n",
              "      <td>0</td>\n",
              "      <td>Sun Jan 08 01:22:05 +0000 2017</td>\n",
              "      <td>���⛪ @ Catedral de Santo Antônio - Governador ...</td>\n",
              "      <td>NaN</td>\n",
              "      <td>NaN</td>\n",
              "      <td>Brasil</td>\n",
              "      <td>Leonardo C Schneider</td>\n",
              "      <td>LeoCSchneider</td>\n",
              "      <td>0</td>\n",
              "      <td>Neutro</td>\n",
              "      <td>NaN</td>\n",
              "      <td>NaN</td>\n",
              "      <td>NaN</td>\n",
              "      <td>NaN</td>\n",
              "      <td>NaN</td>\n",
              "      <td>NaN</td>\n",
              "      <td>NaN</td>\n",
              "      <td>NaN</td>\n",
              "      <td>NaN</td>\n",
              "      <td>NaN</td>\n",
              "      <td>NaN</td>\n",
              "      <td>NaN</td>\n",
              "      <td>NaN</td>\n",
              "      <td>NaN</td>\n",
              "      <td>NaN</td>\n",
              "      <td>NaN</td>\n",
              "    </tr>\n",
              "    <tr>\n",
              "      <th>1</th>\n",
              "      <td>1</td>\n",
              "      <td>Sun Jan 08 01:49:01 +0000 2017</td>\n",
              "      <td>� @ Governador Valadares, Minas Gerais https:/...</td>\n",
              "      <td>-41.9333</td>\n",
              "      <td>-18.85</td>\n",
              "      <td>NaN</td>\n",
              "      <td>Wândell</td>\n",
              "      <td>klefnews</td>\n",
              "      <td>0</td>\n",
              "      <td>Neutro</td>\n",
              "      <td>NaN</td>\n",
              "      <td>NaN</td>\n",
              "      <td>NaN</td>\n",
              "      <td>NaN</td>\n",
              "      <td>NaN</td>\n",
              "      <td>NaN</td>\n",
              "      <td>NaN</td>\n",
              "      <td>NaN</td>\n",
              "      <td>NaN</td>\n",
              "      <td>NaN</td>\n",
              "      <td>NaN</td>\n",
              "      <td>NaN</td>\n",
              "      <td>NaN</td>\n",
              "      <td>NaN</td>\n",
              "      <td>NaN</td>\n",
              "      <td>NaN</td>\n",
              "    </tr>\n",
              "    <tr>\n",
              "      <th>2</th>\n",
              "      <td>2</td>\n",
              "      <td>Sun Jan 08 01:01:46 +0000 2017</td>\n",
              "      <td>�� @ Governador Valadares, Minas Gerais https:...</td>\n",
              "      <td>-41.9333</td>\n",
              "      <td>-18.85</td>\n",
              "      <td>NaN</td>\n",
              "      <td>Wândell</td>\n",
              "      <td>klefnews</td>\n",
              "      <td>0</td>\n",
              "      <td>Neutro</td>\n",
              "      <td>NaN</td>\n",
              "      <td>NaN</td>\n",
              "      <td>NaN</td>\n",
              "      <td>NaN</td>\n",
              "      <td>NaN</td>\n",
              "      <td>NaN</td>\n",
              "      <td>NaN</td>\n",
              "      <td>NaN</td>\n",
              "      <td>NaN</td>\n",
              "      <td>NaN</td>\n",
              "      <td>NaN</td>\n",
              "      <td>NaN</td>\n",
              "      <td>NaN</td>\n",
              "      <td>NaN</td>\n",
              "      <td>NaN</td>\n",
              "      <td>NaN</td>\n",
              "    </tr>\n",
              "  </tbody>\n",
              "</table>\n",
              "</div>"
            ],
            "text/plain": [
              "   Unnamed: 0                      Created At  ... Unnamed: 23  Unnamed: 24\n",
              "0           0  Sun Jan 08 01:22:05 +0000 2017  ...         NaN          NaN\n",
              "1           1  Sun Jan 08 01:49:01 +0000 2017  ...         NaN          NaN\n",
              "2           2  Sun Jan 08 01:01:46 +0000 2017  ...         NaN          NaN\n",
              "\n",
              "[3 rows x 26 columns]"
            ]
          },
          "metadata": {
            "tags": []
          },
          "execution_count": 4
        }
      ]
    },
    {
      "cell_type": "code",
      "metadata": {
        "id": "hm3d3YkxUzvi",
        "colab_type": "code",
        "colab": {
          "base_uri": "https://localhost:8080/",
          "height": 275
        },
        "outputId": "0016a978-9369-48a9-96ab-b4d3772107f6"
      },
      "source": [
        "# Expande o tamanho de exibição da coluna de texto. #\n",
        "pd.set_option('display.max_colwidth', -1)\n",
        "dataset.Text.head(100)"
      ],
      "execution_count": null,
      "outputs": [
        {
          "output_type": "stream",
          "text": [
            "/usr/local/lib/python3.6/dist-packages/ipykernel_launcher.py:2: FutureWarning: Passing a negative integer is deprecated in version 1.0 and will not be supported in future version. Instead, use None to not limit the column width.\n",
            "  \n"
          ],
          "name": "stderr"
        },
        {
          "output_type": "execute_result",
          "data": {
            "text/plain": [
              "0     ���⛪ @ Catedral de Santo Antônio - Governador Valadares/MG https://t.co/JSbKamIqUJ                                                         \n",
              "1     � @ Governador Valadares, Minas Gerais https://t.co/B3ThIDJCSf                                                                             \n",
              "2     �� @ Governador Valadares, Minas Gerais https://t.co/dPkgzVR2Qw                                                                            \n",
              "3     ��� https://t.co/BnDsO34qK0                                                                                                                \n",
              "4     ��� PSOL vai questionar aumento de vereadores e prefeito de BH na Justiça - Politica - Estado de Minas https://t.co/DMg7BGsek5             \n",
              "                                                                   ...                                                                           \n",
              "95    #noticiasdorenan Uso de depósitos judiciais pelo governo tem nova polêmica em MG: O Banco… https://t.co/kHuZpKQaj5                         \n",
              "96    #OperacaoBetaLab #TimBeta #Beta #BetaLab #BetaAjudaBeta #BetaSegueBeta UOL: Desastre ambiental em MG: Empresas ped… https://t.co/kwyeKjhtcI\n",
              "97    #OperacaoBetaLab #TimBeta #Beta #BetaLab #BetaAjudaBeta #BetaSegueBeta UOL: Governo em calamidade financeira: BB a… https://t.co/1rWaHUACqt\n",
              "98    #OperacaoBetaLab #TimBeta #Beta #BetaLab #BetaAjudaBeta #BetaSegueBeta UOL: Polêmica com filho de Pimentel: Govern… https://t.co/E1EhSA9Ti3\n",
              "99    #operacaobetalab BB avisa Justiça que governo de MG não tem recursos em conta judicial https://t.co/W6AoFMMsvA #rt #sdv                    \n",
              "Name: Text, Length: 100, dtype: object"
            ]
          },
          "metadata": {
            "tags": []
          },
          "execution_count": 5
        }
      ]
    },
    {
      "cell_type": "code",
      "metadata": {
        "id": "y6saqhkSUzb9",
        "colab_type": "code",
        "colab": {}
      },
      "source": [
        "# Eliminando dados duplicados. #\n",
        "dataset.drop_duplicates(['Text'],inplace=True)"
      ],
      "execution_count": null,
      "outputs": []
    },
    {
      "cell_type": "code",
      "metadata": {
        "id": "Z90nVmt9UzI_",
        "colab_type": "code",
        "colab": {
          "base_uri": "https://localhost:8080/",
          "height": 476
        },
        "outputId": "bc20aaea-30f0-45e5-8db1-7baeb28891db"
      },
      "source": [
        "# Verificando a contagem dos dados. #\n",
        "dataset.count()"
      ],
      "execution_count": null,
      "outputs": [
        {
          "output_type": "execute_result",
          "data": {
            "text/plain": [
              "Unnamed: 0                   5765\n",
              "Created At                   5765\n",
              "Text                         5765\n",
              "Geo Coordinates.latitude     104 \n",
              "Geo Coordinates.longitude    104 \n",
              "User Location                3851\n",
              "Username                     5765\n",
              "User Screen Name             5765\n",
              "Retweet Count                5765\n",
              "Classificacao                5765\n",
              "Observação                   1   \n",
              "Unnamed: 10                  0   \n",
              "Unnamed: 11                  0   \n",
              "Unnamed: 12                  0   \n",
              "Unnamed: 13                  0   \n",
              "Unnamed: 14                  0   \n",
              "Unnamed: 15                  0   \n",
              "Unnamed: 16                  0   \n",
              "Unnamed: 17                  0   \n",
              "Unnamed: 18                  0   \n",
              "Unnamed: 19                  0   \n",
              "Unnamed: 20                  0   \n",
              "Unnamed: 21                  0   \n",
              "Unnamed: 22                  0   \n",
              "Unnamed: 23                  0   \n",
              "Unnamed: 24                  0   \n",
              "dtype: int64"
            ]
          },
          "metadata": {
            "tags": []
          },
          "execution_count": 7
        }
      ]
    },
    {
      "cell_type": "markdown",
      "metadata": {
        "id": "KIgubYQwLi6k",
        "colab_type": "text"
      },
      "source": [
        "####Eliminando as colunas sem nome."
      ]
    },
    {
      "cell_type": "code",
      "metadata": {
        "id": "H9M1zST8Uy1j",
        "colab_type": "code",
        "colab": {
          "base_uri": "https://localhost:8080/",
          "height": 289
        },
        "outputId": "71f83ad0-0b9f-46f5-cd8e-031cb673dc4f"
      },
      "source": [
        "for i in dataset.columns.values:\n",
        "    if i.startswith('Unnamed'):\n",
        "        dataset.drop(i, axis=1, inplace=True)\n",
        "        print ('Colunas Deletadas:', i)"
      ],
      "execution_count": null,
      "outputs": [
        {
          "output_type": "stream",
          "text": [
            "Colunas Deletadas: Unnamed: 0\n",
            "Colunas Deletadas: Unnamed: 10\n",
            "Colunas Deletadas: Unnamed: 11\n",
            "Colunas Deletadas: Unnamed: 12\n",
            "Colunas Deletadas: Unnamed: 13\n",
            "Colunas Deletadas: Unnamed: 14\n",
            "Colunas Deletadas: Unnamed: 15\n",
            "Colunas Deletadas: Unnamed: 16\n",
            "Colunas Deletadas: Unnamed: 17\n",
            "Colunas Deletadas: Unnamed: 18\n",
            "Colunas Deletadas: Unnamed: 19\n",
            "Colunas Deletadas: Unnamed: 20\n",
            "Colunas Deletadas: Unnamed: 21\n",
            "Colunas Deletadas: Unnamed: 22\n",
            "Colunas Deletadas: Unnamed: 23\n",
            "Colunas Deletadas: Unnamed: 24\n"
          ],
          "name": "stdout"
        }
      ]
    },
    {
      "cell_type": "code",
      "metadata": {
        "id": "qEAL8tEDUygK",
        "colab_type": "code",
        "colab": {
          "base_uri": "https://localhost:8080/",
          "height": 85
        },
        "outputId": "a5735dc2-a42c-4333-f944-160f51ba816e"
      },
      "source": [
        "# Visualizando as colunas do conjunto de dados. #\n",
        "dataset.columns"
      ],
      "execution_count": null,
      "outputs": [
        {
          "output_type": "execute_result",
          "data": {
            "text/plain": [
              "Index(['Created At', 'Text', 'Geo Coordinates.latitude',\n",
              "       'Geo Coordinates.longitude', 'User Location', 'Username',\n",
              "       'User Screen Name', 'Retweet Count', 'Classificacao', 'Observação'],\n",
              "      dtype='object')"
            ]
          },
          "metadata": {
            "tags": []
          },
          "execution_count": 9
        }
      ]
    },
    {
      "cell_type": "markdown",
      "metadata": {
        "id": "jwnWMv3vMy2Y",
        "colab_type": "text"
      },
      "source": [
        "#### Os arquivos de Tweets são usados para a pesquisa de sentimentos e são classificados como positivo, negativo e neutro.\n",
        "####Nota: Todas as redes sociais são utilizadas para pesquisas de opinião sobre produtos e serviços.\n",
        "####Outro uso frequente está relacionado a reação das pessoas ao noticiário político."
      ]
    },
    {
      "cell_type": "code",
      "metadata": {
        "id": "uUqOSGwTUyNV",
        "colab_type": "code",
        "colab": {
          "base_uri": "https://localhost:8080/",
          "height": 317
        },
        "outputId": "555083f3-22c0-439b-ab48-4fd7e01ef709"
      },
      "source": [
        "# Verificando a classificação do arquivo previamente classificado #\n",
        "%matplotlib inline\n",
        "dataset.Classificacao.value_counts().plot(kind='bar')"
      ],
      "execution_count": null,
      "outputs": [
        {
          "output_type": "execute_result",
          "data": {
            "text/plain": [
              "<matplotlib.axes._subplots.AxesSubplot at 0x7f8f2e1abe10>"
            ]
          },
          "metadata": {
            "tags": []
          },
          "execution_count": 10
        },
        {
          "output_type": "display_data",
          "data": {
            "image/png": "[encoded data removed]",
            "text/plain": [
              "<Figure size 432x288 with 1 Axes>"
            ]
          },
          "metadata": {
            "tags": [],
            "needs_background": "light"
          }
        }
      ]
    },
    {
      "cell_type": "markdown",
      "metadata": {
        "id": "0DMkYYcOphZG",
        "colab_type": "text"
      },
      "source": [
        "####Processamento de texto."
      ]
    },
    {
      "cell_type": "code",
      "metadata": {
        "id": "I8kdt85eXAsK",
        "colab_type": "code",
        "colab": {}
      },
      "source": [
        "tweets = dataset['Text']\n",
        "classes = dataset['Classificacao']"
      ],
      "execution_count": null,
      "outputs": []
    },
    {
      "cell_type": "code",
      "metadata": {
        "id": "_wNn66TbXARV",
        "colab_type": "code",
        "colab": {}
      },
      "source": [
        "vectorizer = CountVectorizer(analyzer=\"word\")\n",
        "freq_tweets = vectorizer.fit_transform(tweets)"
      ],
      "execution_count": null,
      "outputs": []
    },
    {
      "cell_type": "code",
      "metadata": {
        "id": "JzBn8g7bW_0i",
        "colab_type": "code",
        "colab": {
          "base_uri": "https://localhost:8080/",
          "height": 34
        },
        "outputId": "52bbdc51-5f4f-4b5f-c778-ba72ed460ff6"
      },
      "source": [
        "type(freq_tweets)"
      ],
      "execution_count": null,
      "outputs": [
        {
          "output_type": "execute_result",
          "data": {
            "text/plain": [
              "scipy.sparse.csr.csr_matrix"
            ]
          },
          "metadata": {
            "tags": []
          },
          "execution_count": 13
        }
      ]
    },
    {
      "cell_type": "code",
      "metadata": {
        "id": "sQcd2MQ8W_dF",
        "colab_type": "code",
        "colab": {
          "base_uri": "https://localhost:8080/",
          "height": 34
        },
        "outputId": "8fdb317b-6a12-44b2-f92c-7d53b1dd1cc8"
      },
      "source": [
        "freq_tweets.shape"
      ],
      "execution_count": null,
      "outputs": [
        {
          "output_type": "execute_result",
          "data": {
            "text/plain": [
              "(5765, 13029)"
            ]
          },
          "metadata": {
            "tags": []
          },
          "execution_count": 14
        }
      ]
    },
    {
      "cell_type": "code",
      "metadata": {
        "id": "0aYwbxZXW_CY",
        "colab_type": "code",
        "colab": {
          "base_uri": "https://localhost:8080/",
          "height": 136
        },
        "outputId": "b90c4593-58f2-4030-d8a1-a2582817b825"
      },
      "source": [
        "freq_tweets.A"
      ],
      "execution_count": null,
      "outputs": [
        {
          "output_type": "execute_result",
          "data": {
            "text/plain": [
              "array([[0, 0, 0, ..., 0, 0, 0],\n",
              "       [0, 0, 0, ..., 0, 0, 0],\n",
              "       [0, 0, 0, ..., 0, 0, 0],\n",
              "       ...,\n",
              "       [0, 0, 0, ..., 0, 0, 0],\n",
              "       [0, 0, 0, ..., 0, 0, 0],\n",
              "       [0, 0, 0, ..., 0, 0, 0]])"
            ]
          },
          "metadata": {
            "tags": []
          },
          "execution_count": 15
        }
      ]
    },
    {
      "cell_type": "code",
      "metadata": {
        "id": "xuVMmG5jW-od",
        "colab_type": "code",
        "colab": {
          "base_uri": "https://localhost:8080/",
          "height": 34
        },
        "outputId": "7e7e3174-43c6-4dd1-8ab1-ad06e4588c8c"
      },
      "source": [
        "modelo = MultinomialNB() # O modelo usou o parâmetro alpha = 1 #\n",
        "modelo.fit(freq_tweets,classes)"
      ],
      "execution_count": null,
      "outputs": [
        {
          "output_type": "execute_result",
          "data": {
            "text/plain": [
              "MultinomialNB(alpha=1.0, class_prior=None, fit_prior=True)"
            ]
          },
          "metadata": {
            "tags": []
          },
          "execution_count": 17
        }
      ]
    },
    {
      "cell_type": "code",
      "metadata": {
        "id": "v_hHyDe0W-Rd",
        "colab_type": "code",
        "colab": {}
      },
      "source": [
        "# Define frases para teste dentro de uma lista. #\n",
        "testes = ['Gosto de chocolate',\n",
        "          'Estes cogumelos são comestíveis',\n",
        "          'Gosto de viajar',\n",
        "          'Esse governo está no início, vamos ver o que vai dar',\n",
        "          'Estou muito feliz com o governo de Minas esse ano',\n",
        "          'O estado de Minas Gerais decretou calamidade financeira!!!',\n",
        "          'A segurança desse país está deixando a desejar',]\n",
        "          "
      ],
      "execution_count": null,
      "outputs": []
    },
    {
      "cell_type": "code",
      "metadata": {
        "id": "OES5g2yMW95x",
        "colab_type": "code",
        "colab": {}
      },
      "source": [
        "# Transforma os dados de teste em vetores de palavras. #\n",
        "freq_testes = vectorizer.transform(testes)"
      ],
      "execution_count": null,
      "outputs": []
    },
    {
      "cell_type": "code",
      "metadata": {
        "id": "IJEVTYshW9eq",
        "colab_type": "code",
        "colab": {
          "base_uri": "https://localhost:8080/",
          "height": 136
        },
        "outputId": "28480ecc-25a1-44f8-f460-aa54a98810bb"
      },
      "source": [
        "# Classificação com o modelo treinado. #\n",
        "for t, c in zip (testes,modelo.predict(freq_testes)):\n",
        "    print (t +\", \"+ c)"
      ],
      "execution_count": null,
      "outputs": [
        {
          "output_type": "stream",
          "text": [
            "Gosto de chocolate, Neutro\n",
            "Estes cogumelos são comestíveis, Positivo\n",
            "Gosto de viajar, Neutro\n",
            "Esse governo está no início, vamos ver o que vai dar, Neutro\n",
            "Estou muito feliz com o governo de Minas esse ano, Neutro\n",
            "O estado de Minas Gerais decretou calamidade financeira!!!, Negativo\n",
            "A segurança desse país está deixando a desejar, Neutro\n"
          ],
          "name": "stdout"
        }
      ]
    },
    {
      "cell_type": "code",
      "metadata": {
        "id": "bDLJyUxuW8-y",
        "colab_type": "code",
        "colab": {
          "base_uri": "https://localhost:8080/",
          "height": 153
        },
        "outputId": "4374dbb4-5807-4f81-efcf-1c0763959081"
      },
      "source": [
        "# Probabilidades de classe. #\n",
        "print (modelo.classes_)\n",
        "modelo.predict_proba(freq_testes).round(2)"
      ],
      "execution_count": null,
      "outputs": [
        {
          "output_type": "stream",
          "text": [
            "['Negativo' 'Neutro' 'Positivo']\n"
          ],
          "name": "stdout"
        },
        {
          "output_type": "execute_result",
          "data": {
            "text/plain": [
              "array([[0.27, 0.44, 0.29],\n",
              "       [0.02, 0.13, 0.85],\n",
              "       [0.39, 0.41, 0.21],\n",
              "       [0.18, 0.82, 0.  ],\n",
              "       [0.02, 0.98, 0.  ],\n",
              "       [0.99, 0.01, 0.  ],\n",
              "       [0.1 , 0.89, 0.01]])"
            ]
          },
          "metadata": {
            "tags": []
          },
          "execution_count": 21
        }
      ]
    },
    {
      "cell_type": "code",
      "metadata": {
        "id": "wT3C3k6RUx45",
        "colab_type": "code",
        "colab": {}
      },
      "source": [
        "# Validação cruzada do modelo. #\n",
        "resultados = cross_val_predict(modelo, freq_tweets, classes, cv=10) # Validação cruzada - cv=10. #"
      ],
      "execution_count": null,
      "outputs": []
    },
    {
      "cell_type": "code",
      "metadata": {
        "id": "zufLpKFUYBaS",
        "colab_type": "code",
        "colab": {
          "base_uri": "https://localhost:8080/",
          "height": 119
        },
        "outputId": "4e707420-7c69-4dec-c213-a9f1980fb358"
      },
      "source": [
        "# Resultado da validação cruzada - parâmetros alpha = 1 e cv=10. #\n",
        "print (pd.crosstab(classes, resultados, rownames=['Real'], colnames=['Predito'], margins=True))"
      ],
      "execution_count": null,
      "outputs": [
        {
          "output_type": "stream",
          "text": [
            "Predito   Negativo  Neutro  Positivo   All\n",
            "Real                                      \n",
            "Negativo  846       100     5         951 \n",
            "Neutro    206       1656    112       1974\n",
            "Positivo  53        294     2493      2840\n",
            "All       1105      2050    2610      5765\n"
          ],
          "name": "stdout"
        }
      ]
    },
    {
      "cell_type": "code",
      "metadata": {
        "id": "bgURpbq5YA_G",
        "colab_type": "code",
        "colab": {
          "base_uri": "https://localhost:8080/",
          "height": 187
        },
        "outputId": "c21499e5-7984-427a-97fc-cd43acfe2676"
      },
      "source": [
        "# Verificando as métricas do modelo com os parâmetro alpha = 1  e cv=10 #\n",
        "sentimento=['Positivo','Negativo','Neutro']\n",
        "print (metrics.classification_report(classes,resultados,sentimento))"
      ],
      "execution_count": null,
      "outputs": [
        {
          "output_type": "stream",
          "text": [
            "              precision    recall  f1-score   support\n",
            "\n",
            "    Positivo       0.96      0.88      0.91      2840\n",
            "    Negativo       0.77      0.89      0.82       951\n",
            "      Neutro       0.81      0.84      0.82      1974\n",
            "\n",
            "    accuracy                           0.87      5765\n",
            "   macro avg       0.84      0.87      0.85      5765\n",
            "weighted avg       0.87      0.87      0.87      5765\n",
            "\n"
          ],
          "name": "stdout"
        }
      ]
    },
    {
      "cell_type": "code",
      "metadata": {
        "id": "zQDgXajtYAln",
        "colab_type": "code",
        "colab": {}
      },
      "source": [
        "from sklearn.model_selection import GridSearchCV"
      ],
      "execution_count": null,
      "outputs": []
    },
    {
      "cell_type": "code",
      "metadata": {
        "id": "BvCP-E1tYAME",
        "colab_type": "code",
        "colab": {
          "base_uri": "https://localhost:8080/",
          "height": 34
        },
        "outputId": "c1abee0a-9697-4d1c-fc81-164a2c9d388c"
      },
      "source": [
        "# Cria uma lista com o parâmetro alpha variando entre 1 e 10 #\n",
        "lista_alpha = list(range(1,11))\n",
        "lista_alpha"
      ],
      "execution_count": null,
      "outputs": [
        {
          "output_type": "execute_result",
          "data": {
            "text/plain": [
              "[1, 2, 3, 4, 5, 6, 7, 8, 9, 10]"
            ]
          },
          "metadata": {
            "tags": []
          },
          "execution_count": 26
        }
      ]
    },
    {
      "cell_type": "code",
      "metadata": {
        "id": "IlMn251zX_yf",
        "colab_type": "code",
        "colab": {}
      },
      "source": [
        "parametros_grid = dict(alpha=lista_alpha)"
      ],
      "execution_count": null,
      "outputs": []
    },
    {
      "cell_type": "code",
      "metadata": {
        "id": "CYaio-ymX_YK",
        "colab_type": "code",
        "colab": {}
      },
      "source": [
        "nvModelo = MultinomialNB()"
      ],
      "execution_count": null,
      "outputs": []
    },
    {
      "cell_type": "code",
      "metadata": {
        "id": "HS-klEb_X--b",
        "colab_type": "code",
        "colab": {}
      },
      "source": [
        "grid = GridSearchCV(nvModelo, parametros_grid, cv=10, scoring='accuracy')"
      ],
      "execution_count": null,
      "outputs": []
    },
    {
      "cell_type": "code",
      "metadata": {
        "id": "fcpHaMLAX-jX",
        "colab_type": "code",
        "colab": {
          "base_uri": "https://localhost:8080/",
          "height": 136
        },
        "outputId": "efaedcb2-c098-41cf-8668-3c5df6a085b2"
      },
      "source": [
        "freq_tweets = vectorizer.fit_transform(tweets)\n",
        "grid.fit(freq_tweets, classes)"
      ],
      "execution_count": null,
      "outputs": [
        {
          "output_type": "execute_result",
          "data": {
            "text/plain": [
              "GridSearchCV(cv=10, error_score=nan,\n",
              "             estimator=MultinomialNB(alpha=1.0, class_prior=None,\n",
              "                                     fit_prior=True),\n",
              "             iid='deprecated', n_jobs=None,\n",
              "             param_grid={'alpha': [1, 2, 3, 4, 5, 6, 7, 8, 9, 10]},\n",
              "             pre_dispatch='2*n_jobs', refit=True, return_train_score=False,\n",
              "             scoring='accuracy', verbose=0)"
            ]
          },
          "metadata": {
            "tags": []
          },
          "execution_count": 30
        }
      ]
    },
    {
      "cell_type": "code",
      "metadata": {
        "id": "evqqtgiMX9xr",
        "colab_type": "code",
        "colab": {
          "base_uri": "https://localhost:8080/",
          "height": 850
        },
        "outputId": "cfee8470-520d-4359-b73c-3bf2ec1556ac"
      },
      "source": [
        "grid.cv_results_"
      ],
      "execution_count": null,
      "outputs": [
        {
          "output_type": "execute_result",
          "data": {
            "text/plain": [
              "{'mean_fit_time': array([0.01548645, 0.01562812, 0.01534214, 0.01562512, 0.01589468,\n",
              "        0.01776278, 0.01625695, 0.01546531, 0.01515522, 0.01535134]),\n",
              " 'mean_score_time': array([0.00103798, 0.00101519, 0.00101998, 0.00103898, 0.00100367,\n",
              "        0.00114858, 0.00112832, 0.00099838, 0.00099823, 0.0010123 ]),\n",
              " 'mean_test_score': array([0.86648463, 0.86439889, 0.86196924, 0.85537593, 0.84965007,\n",
              "        0.85779114, 0.8539756 , 0.84027958, 0.83785083, 0.83177715]),\n",
              " 'param_alpha': masked_array(data=[1, 2, 3, 4, 5, 6, 7, 8, 9, 10],\n",
              "              mask=[False, False, False, False, False, False, False, False,\n",
              "                    False, False],\n",
              "        fill_value='?',\n",
              "             dtype=object),\n",
              " 'params': [{'alpha': 1},\n",
              "  {'alpha': 2},\n",
              "  {'alpha': 3},\n",
              "  {'alpha': 4},\n",
              "  {'alpha': 5},\n",
              "  {'alpha': 6},\n",
              "  {'alpha': 7},\n",
              "  {'alpha': 8},\n",
              "  {'alpha': 9},\n",
              "  {'alpha': 10}],\n",
              " 'rank_test_score': array([ 1,  2,  3,  5,  7,  4,  6,  8,  9, 10], dtype=int32),\n",
              " 'split0_test_score': array([0.50259965, 0.50433276, 0.52339688, 0.52166378, 0.51819757,\n",
              "        0.51993068, 0.51646447, 0.52686308, 0.53379549, 0.53206239]),\n",
              " 'split1_test_score': array([0.86655113, 0.89948007, 0.90641248, 0.89948007, 0.89774697,\n",
              "        0.89428076, 0.89254766, 0.89254766, 0.88908146, 0.88214905]),\n",
              " 'split2_test_score': array([0.82322357, 0.82149047, 0.80935875, 0.80762565, 0.79896014,\n",
              "        0.91334489, 0.90294627, 0.78856153, 0.78336222, 0.78336222]),\n",
              " 'split3_test_score': array([0.91854419, 0.90294627, 0.89601386, 0.88561525, 0.88388215,\n",
              "        0.87868284, 0.87694974, 0.87521664, 0.87001733, 0.87001733]),\n",
              " 'split4_test_score': array([0.93760832, 0.93414211, 0.9220104 , 0.9202773 , 0.91681109,\n",
              "        0.91681109, 0.91161179, 0.90641248, 0.90294627, 0.89601386]),\n",
              " 'split5_test_score': array([0.96875   , 0.94618056, 0.94097222, 0.93576389, 0.93576389,\n",
              "        0.93402778, 0.93229167, 0.92708333, 0.92708333, 0.92361111]),\n",
              " 'split6_test_score': array([0.91840278, 0.91493056, 0.92013889, 0.90277778, 0.87847222,\n",
              "        0.86458333, 0.86111111, 0.85590278, 0.85069444, 0.82465278]),\n",
              " 'split7_test_score': array([0.89756944, 0.91319444, 0.91145833, 0.90277778, 0.90277778,\n",
              "        0.89756944, 0.89236111, 0.890625  , 0.88888889, 0.88194444]),\n",
              " 'split8_test_score': array([0.91666667, 0.89756944, 0.88194444, 0.88020833, 0.875     ,\n",
              "        0.87326389, 0.86979167, 0.86458333, 0.86111111, 0.85590278]),\n",
              " 'split9_test_score': array([0.91493056, 0.90972222, 0.90798611, 0.89756944, 0.88888889,\n",
              "        0.88541667, 0.88368056, 0.875     , 0.87152778, 0.86805556]),\n",
              " 'std_fit_time': array([0.00040486, 0.00045672, 0.00016379, 0.00030151, 0.00178257,\n",
              "        0.00362464, 0.00118053, 0.000205  , 0.00014033, 0.00033532]),\n",
              " 'std_score_time': array([8.55828522e-05, 3.88211050e-05, 4.53497520e-05, 4.62240442e-05,\n",
              "        3.51953067e-05, 1.89824832e-04, 1.68343685e-04, 2.51996709e-05,\n",
              "        4.77841571e-05, 4.08725456e-05]),\n",
              " 'std_test_score': array([0.12690066, 0.12403493, 0.11778336, 0.11578804, 0.11561883,\n",
              "        0.11442477, 0.11421022, 0.1101547 , 0.10757453, 0.10639459])}"
            ]
          },
          "metadata": {
            "tags": []
          },
          "execution_count": 31
        }
      ]
    },
    {
      "cell_type": "code",
      "metadata": {
        "id": "xVfUPkIfc78M",
        "colab_type": "code",
        "colab": {
          "base_uri": "https://localhost:8080/",
          "height": 34
        },
        "outputId": "26ce3794-8e43-4006-fcd3-17e211583184"
      },
      "source": [
        "# Verificando o melhor parâmetro alpha #\n",
        "grid.best_params_"
      ],
      "execution_count": null,
      "outputs": [
        {
          "output_type": "execute_result",
          "data": {
            "text/plain": [
              "{'alpha': 1}"
            ]
          },
          "metadata": {
            "tags": []
          },
          "execution_count": 32
        }
      ]
    },
    {
      "cell_type": "code",
      "metadata": {
        "id": "-AwkeaRzc7gm",
        "colab_type": "code",
        "colab": {
          "base_uri": "https://localhost:8080/",
          "height": 34
        },
        "outputId": "b27302c4-99d6-4d92-fc61-d265bea6bf56"
      },
      "source": [
        "grid.best_score_"
      ],
      "execution_count": null,
      "outputs": [
        {
          "output_type": "execute_result",
          "data": {
            "text/plain": [
              "0.8664846307529368"
            ]
          },
          "metadata": {
            "tags": []
          },
          "execution_count": 33
        }
      ]
    },
    {
      "cell_type": "code",
      "metadata": {
        "id": "T1Q9JhPbc7Gy",
        "colab_type": "code",
        "colab": {
          "base_uri": "https://localhost:8080/",
          "height": 34
        },
        "outputId": "41b2c4e4-95a4-4c28-a085-f6ed9fc5dfc2"
      },
      "source": [
        "vectorizer = CountVectorizer(analyzer=\"word\")\n",
        "freq_tweets = vectorizer.fit_transform(tweets)\n",
        "modelo = MultinomialNB(alpha=5) # Usando alpha = 5 # - # No primeiro modelo foi usado alpha = 1 #\n",
        "modelo.fit(freq_tweets,classes)"
      ],
      "execution_count": null,
      "outputs": [
        {
          "output_type": "execute_result",
          "data": {
            "text/plain": [
              "MultinomialNB(alpha=5, class_prior=None, fit_prior=True)"
            ]
          },
          "metadata": {
            "tags": []
          },
          "execution_count": 34
        }
      ]
    },
    {
      "cell_type": "code",
      "metadata": {
        "id": "0HNMmXCMc6rN",
        "colab_type": "code",
        "colab": {}
      },
      "source": [
        "freq_testes = vectorizer.transform(testes)"
      ],
      "execution_count": null,
      "outputs": []
    },
    {
      "cell_type": "code",
      "metadata": {
        "id": "Y3YRGR3Jc6O5",
        "colab_type": "code",
        "colab": {
          "base_uri": "https://localhost:8080/",
          "height": 51
        },
        "outputId": "797cd96e-cf40-4a9f-a22a-610e457a03ef"
      },
      "source": [
        "# Classificação com o modelo treinado.\n",
        "modelo.predict(freq_testes)"
      ],
      "execution_count": null,
      "outputs": [
        {
          "output_type": "execute_result",
          "data": {
            "text/plain": [
              "array(['Positivo', 'Positivo', 'Positivo', 'Neutro', 'Neutro', 'Negativo',\n",
              "       'Neutro'], dtype='<U8')"
            ]
          },
          "metadata": {
            "tags": []
          },
          "execution_count": 36
        }
      ]
    },
    {
      "cell_type": "code",
      "metadata": {
        "id": "UZEbECvnczgB",
        "colab_type": "code",
        "colab": {}
      },
      "source": [
        "resultados = cross_val_predict(modelo, freq_tweets, classes, cv=10)"
      ],
      "execution_count": null,
      "outputs": []
    },
    {
      "cell_type": "code",
      "metadata": {
        "id": "KRTPq2l8czFy",
        "colab_type": "code",
        "colab": {
          "base_uri": "https://localhost:8080/",
          "height": 187
        },
        "outputId": "0fe30edb-6628-49e5-ab2c-93c05a97be28"
      },
      "source": [
        "# Verificando as métricas do modelo com os parâmetro alpha = 5  e cv=10 #\n",
        "sentimento=['Positivo','Negativo','Neutro']\n",
        "print (metrics.classification_report(classes,resultados,sentimento))"
      ],
      "execution_count": null,
      "outputs": [
        {
          "output_type": "stream",
          "text": [
            "              precision    recall  f1-score   support\n",
            "\n",
            "    Positivo       0.89      0.92      0.90      2840\n",
            "    Negativo       0.84      0.78      0.81       951\n",
            "      Neutro       0.79      0.79      0.79      1974\n",
            "\n",
            "    accuracy                           0.85      5765\n",
            "   macro avg       0.84      0.83      0.83      5765\n",
            "weighted avg       0.85      0.85      0.85      5765\n",
            "\n"
          ],
          "name": "stdout"
        }
      ]
    },
    {
      "cell_type": "code",
      "metadata": {
        "id": "og-ny8Hvcyqm",
        "colab_type": "code",
        "colab": {}
      },
      "source": [
        "import nltk\n",
        "import re\n",
        "from nltk.corpus import wordnet\n",
        "import nltk\n"
      ],
      "execution_count": null,
      "outputs": []
    },
    {
      "cell_type": "code",
      "metadata": {
        "id": "QXuBqdHecyPh",
        "colab_type": "code",
        "colab": {
          "base_uri": "https://localhost:8080/",
          "height": 37
        },
        "outputId": "4d1dc697-27cf-440e-918b-4c7f71c5de74"
      },
      "source": [
        "frase = 'Os sábios não dizem o que sabem,'; frase"
      ],
      "execution_count": null,
      "outputs": [
        {
          "output_type": "execute_result",
          "data": {
            "application/vnd.google.colaboratory.intrinsic+json": {
              "type": "string"
            },
            "text/plain": [
              "'Os sábios não dizem o que sabem,'"
            ]
          },
          "metadata": {
            "tags": []
          },
          "execution_count": 40
        }
      ]
    },
    {
      "cell_type": "code",
      "metadata": {
        "id": "iwP-kWBtctdU",
        "colab_type": "code",
        "colab": {}
      },
      "source": [
        "frase1 = ' os tolos não sabem o que dizem.'"
      ],
      "execution_count": null,
      "outputs": []
    },
    {
      "cell_type": "code",
      "metadata": {
        "id": "mR7Q7RxScs9y",
        "colab_type": "code",
        "colab": {
          "base_uri": "https://localhost:8080/",
          "height": 37
        },
        "outputId": "2153be4a-7c43-4855-94f7-806477488d5e"
      },
      "source": [
        "frase + frase1"
      ],
      "execution_count": null,
      "outputs": [
        {
          "output_type": "execute_result",
          "data": {
            "application/vnd.google.colaboratory.intrinsic+json": {
              "type": "string"
            },
            "text/plain": [
              "'Os sábios não dizem o que sabem, os tolos não sabem o que dizem.'"
            ]
          },
          "metadata": {
            "tags": []
          },
          "execution_count": 42
        }
      ]
    },
    {
      "cell_type": "code",
      "metadata": {
        "id": "kAY2HFtPcsjN",
        "colab_type": "code",
        "colab": {
          "base_uri": "https://localhost:8080/",
          "height": 34
        },
        "outputId": "7c6b6f4a-b0d8-4ac0-d456-8a6b9c7e3789"
      },
      "source": [
        "['Segunda','Terça','Quarta'] + ['Quinta','Sexta','Sábado']"
      ],
      "execution_count": null,
      "outputs": [
        {
          "output_type": "execute_result",
          "data": {
            "text/plain": [
              "['Segunda', 'Terça', 'Quarta', 'Quinta', 'Sexta', 'Sábado']"
            ]
          },
          "metadata": {
            "tags": []
          },
          "execution_count": 43
        }
      ]
    },
    {
      "cell_type": "code",
      "metadata": {
        "id": "NyCjeAWwcsLA",
        "colab_type": "code",
        "colab": {
          "base_uri": "https://localhost:8080/",
          "height": 34
        },
        "outputId": "c6653f3e-480c-4742-9b34-3ff38cab817a"
      },
      "source": [
        "lista = ['Segunda','Terça','Quarta']\n",
        "lista.append('Quinta-feira')\n",
        "lista"
      ],
      "execution_count": null,
      "outputs": [
        {
          "output_type": "execute_result",
          "data": {
            "text/plain": [
              "['Segunda', 'Terça', 'Quarta', 'Quinta-feira']"
            ]
          },
          "metadata": {
            "tags": []
          },
          "execution_count": 44
        }
      ]
    },
    {
      "cell_type": "code",
      "metadata": {
        "id": "ZyWAV95ccrwe",
        "colab_type": "code",
        "colab": {
          "base_uri": "https://localhost:8080/",
          "height": 37
        },
        "outputId": "5a1e03b8-02f6-45d9-c158-d587ef55b0f6"
      },
      "source": [
        "frase1[0:31]"
      ],
      "execution_count": null,
      "outputs": [
        {
          "output_type": "execute_result",
          "data": {
            "application/vnd.google.colaboratory.intrinsic+json": {
              "type": "string"
            },
            "text/plain": [
              "' os tolos não sabem o que dizem'"
            ]
          },
          "metadata": {
            "tags": []
          },
          "execution_count": 45
        }
      ]
    },
    {
      "cell_type": "code",
      "metadata": {
        "id": "qMCR7xzKcrT0",
        "colab_type": "code",
        "colab": {
          "base_uri": "https://localhost:8080/",
          "height": 34
        },
        "outputId": "6b1d902c-dd8a-462e-84cc-250e1656cc96"
      },
      "source": [
        "lista[3:8]"
      ],
      "execution_count": null,
      "outputs": [
        {
          "output_type": "execute_result",
          "data": {
            "text/plain": [
              "['Quinta-feira']"
            ]
          },
          "metadata": {
            "tags": []
          },
          "execution_count": 46
        }
      ]
    },
    {
      "cell_type": "code",
      "metadata": {
        "id": "Tt8Lb4WwfdeP",
        "colab_type": "code",
        "colab": {
          "base_uri": "https://localhost:8080/",
          "height": 34
        },
        "outputId": "7305f0d9-b5a2-4abb-929a-ea56bac1098f"
      },
      "source": [
        "len(lista)"
      ],
      "execution_count": null,
      "outputs": [
        {
          "output_type": "execute_result",
          "data": {
            "text/plain": [
              "4"
            ]
          },
          "metadata": {
            "tags": []
          },
          "execution_count": 47
        }
      ]
    },
    {
      "cell_type": "code",
      "metadata": {
        "id": "5MDzlFBtfdAW",
        "colab_type": "code",
        "colab": {
          "base_uri": "https://localhost:8080/",
          "height": 34
        },
        "outputId": "2b34a981-3dad-4025-ed27-9d2214a71030"
      },
      "source": [
        "frase2='Amar é sonhar, sonhar é viver, viver é curtir, curtir é amar.'\n",
        "frase2 = frase2.lower()\n",
        "frase2.count('amar')"
      ],
      "execution_count": null,
      "outputs": [
        {
          "output_type": "execute_result",
          "data": {
            "text/plain": [
              "2"
            ]
          },
          "metadata": {
            "tags": []
          },
          "execution_count": 48
        }
      ]
    },
    {
      "cell_type": "code",
      "metadata": {
        "id": "457TxAq-fcjI",
        "colab_type": "code",
        "colab": {
          "base_uri": "https://localhost:8080/",
          "height": 34
        },
        "outputId": "060f1ca6-fa1e-4b98-b937-a7f01569ea94"
      },
      "source": [
        "len(frase2)"
      ],
      "execution_count": null,
      "outputs": [
        {
          "output_type": "execute_result",
          "data": {
            "text/plain": [
              "61"
            ]
          },
          "metadata": {
            "tags": []
          },
          "execution_count": 49
        }
      ]
    },
    {
      "cell_type": "code",
      "metadata": {
        "id": "6fyxQsKXfcGS",
        "colab_type": "code",
        "colab": {
          "base_uri": "https://localhost:8080/",
          "height": 34
        },
        "outputId": "ce8e0ca5-f069-4a23-ae4d-bc973c32bb2b"
      },
      "source": [
        "frase1.index('tolos')"
      ],
      "execution_count": null,
      "outputs": [
        {
          "output_type": "execute_result",
          "data": {
            "text/plain": [
              "4"
            ]
          },
          "metadata": {
            "tags": []
          },
          "execution_count": 50
        }
      ]
    },
    {
      "cell_type": "code",
      "metadata": {
        "id": "V9VBey_-3SsG",
        "colab_type": "code",
        "colab": {
          "base_uri": "https://localhost:8080/",
          "height": 37
        },
        "outputId": "dab4c7c4-2ef4-43f7-b580-ad1b346c2432"
      },
      "source": [
        "frase1[0:3]"
      ],
      "execution_count": null,
      "outputs": [
        {
          "output_type": "execute_result",
          "data": {
            "application/vnd.google.colaboratory.intrinsic+json": {
              "type": "string"
            },
            "text/plain": [
              "' os'"
            ]
          },
          "metadata": {
            "tags": []
          },
          "execution_count": 51
        }
      ]
    },
    {
      "cell_type": "code",
      "metadata": {
        "id": "lii4FAW3fbpH",
        "colab_type": "code",
        "colab": {
          "base_uri": "https://localhost:8080/",
          "height": 37
        },
        "outputId": "709e7b98-c2e9-4715-923f-542a55a77dac"
      },
      "source": [
        "frase2[14:30]"
      ],
      "execution_count": null,
      "outputs": [
        {
          "output_type": "execute_result",
          "data": {
            "application/vnd.google.colaboratory.intrinsic+json": {
              "type": "string"
            },
            "text/plain": [
              "' sonhar é viver,'"
            ]
          },
          "metadata": {
            "tags": []
          },
          "execution_count": 52
        }
      ]
    },
    {
      "cell_type": "code",
      "metadata": {
        "id": "KpPqIvnKfbLJ",
        "colab_type": "code",
        "colab": {
          "base_uri": "https://localhost:8080/",
          "height": 37
        },
        "outputId": "d84eccb0-ac45-4bba-a032-6c6e667e30ef"
      },
      "source": [
        "lista = ['hot','dog']\n",
        "' '.join(lista)"
      ],
      "execution_count": null,
      "outputs": [
        {
          "output_type": "execute_result",
          "data": {
            "application/vnd.google.colaboratory.intrinsic+json": {
              "type": "string"
            },
            "text/plain": [
              "'hot dog'"
            ]
          },
          "metadata": {
            "tags": []
          },
          "execution_count": 53
        }
      ]
    },
    {
      "cell_type": "code",
      "metadata": {
        "id": "fjEex3ARfau2",
        "colab_type": "code",
        "colab": {
          "base_uri": "https://localhost:8080/",
          "height": 37
        },
        "outputId": "9dc9dee1-94d9-467b-eba8-3355871b0fae"
      },
      "source": [
        "# Excluindo números de uma frase. #\n",
        "texto = 'O número do prédio  56, apto 306'\n",
        "re.sub('[-|0-9]',' ', texto)"
      ],
      "execution_count": null,
      "outputs": [
        {
          "output_type": "execute_result",
          "data": {
            "application/vnd.google.colaboratory.intrinsic+json": {
              "type": "string"
            },
            "text/plain": [
              "'O número do prédio    , apto    '"
            ]
          },
          "metadata": {
            "tags": []
          },
          "execution_count": 54
        }
      ]
    },
    {
      "cell_type": "code",
      "metadata": {
        "id": "_jsW36ER5JWA",
        "colab_type": "code",
        "colab": {
          "base_uri": "https://localhost:8080/",
          "height": 34
        },
        "outputId": "8a3a5e73-99b6-41cf-cacc-07dd7d09729f"
      },
      "source": [
        "len(texto)"
      ],
      "execution_count": null,
      "outputs": [
        {
          "output_type": "execute_result",
          "data": {
            "text/plain": [
              "32"
            ]
          },
          "metadata": {
            "tags": []
          },
          "execution_count": 55
        }
      ]
    },
    {
      "cell_type": "code",
      "metadata": {
        "id": "kXXM3cZbfaQR",
        "colab_type": "code",
        "colab": {
          "base_uri": "https://localhost:8080/",
          "height": 37
        },
        "outputId": "35b1ce09-b0e3-4a56-a4f5-fa06c107a59d"
      },
      "source": [
        "texto = \"A close mounth!!!,catches no flies ??;;;()\"\n",
        "re.sub(r'[-./?!,\":;()\\']',' ',texto)"
      ],
      "execution_count": null,
      "outputs": [
        {
          "output_type": "execute_result",
          "data": {
            "application/vnd.google.colaboratory.intrinsic+json": {
              "type": "string"
            },
            "text/plain": [
              "'A close mounth    catches no flies        '"
            ]
          },
          "metadata": {
            "tags": []
          },
          "execution_count": 56
        }
      ]
    },
    {
      "cell_type": "code",
      "metadata": {
        "id": "mnxeU8__gqtC",
        "colab_type": "code",
        "colab": {
          "base_uri": "https://localhost:8080/",
          "height": 68
        },
        "outputId": "d1db7afa-1e0e-4973-a5f7-847f55e075b8"
      },
      "source": [
        "import nltk\n",
        "nltk.download('punkt')\n",
        "frase3 = 'Behind every great man there is a great woman'\n",
        "palavras = nltk.word_tokenize(frase)\n",
        "palavras"
      ],
      "execution_count": null,
      "outputs": [
        {
          "output_type": "stream",
          "text": [
            "[nltk_data] Downloading package punkt to /root/nltk_data...\n",
            "[nltk_data]   Unzipping tokenizers/punkt.zip.\n"
          ],
          "name": "stdout"
        },
        {
          "output_type": "execute_result",
          "data": {
            "text/plain": [
              "['Os', 'sábios', 'não', 'dizem', 'o', 'que', 'sabem', ',']"
            ]
          },
          "metadata": {
            "tags": []
          },
          "execution_count": 57
        }
      ]
    },
    {
      "cell_type": "code",
      "metadata": {
        "id": "ZWRTTL5UgqMi",
        "colab_type": "code",
        "colab": {
          "base_uri": "https://localhost:8080/",
          "height": 34
        },
        "outputId": "484f074b-2c3e-4388-de03-095801486b12"
      },
      "source": [
        "from nltk import FreqDist\n",
        "frequencia = FreqDist(['Amar', 'é','sonhar', 'sonhar', 'é', 'viver', 'viver', 'é','curtir', 'curtir', 'é', 'amar'])\n",
        "frequencia"
      ],
      "execution_count": null,
      "outputs": [
        {
          "output_type": "execute_result",
          "data": {
            "text/plain": [
              "FreqDist({'Amar': 1, 'amar': 1, 'curtir': 2, 'sonhar': 2, 'viver': 2, 'é': 4})"
            ]
          },
          "metadata": {
            "tags": []
          },
          "execution_count": 58
        }
      ]
    },
    {
      "cell_type": "code",
      "metadata": {
        "id": "Ov9kYbXAgpj9",
        "colab_type": "code",
        "colab": {
          "base_uri": "https://localhost:8080/",
          "height": 34
        },
        "outputId": "73bee814-4dc3-4fe9-c9a7-289c7ee38770"
      },
      "source": [
        "print (frequencia.values())"
      ],
      "execution_count": null,
      "outputs": [
        {
          "output_type": "stream",
          "text": [
            "dict_values([1, 4, 2, 2, 2, 1])\n"
          ],
          "name": "stdout"
        }
      ]
    },
    {
      "cell_type": "code",
      "metadata": {
        "id": "NUctO4A8gpE4",
        "colab_type": "code",
        "colab": {
          "base_uri": "https://localhost:8080/",
          "height": 37
        },
        "outputId": "48b6dd7a-d031-4648-f89e-7efd422050c1"
      },
      "source": [
        "frequencia.max()"
      ],
      "execution_count": null,
      "outputs": [
        {
          "output_type": "execute_result",
          "data": {
            "application/vnd.google.colaboratory.intrinsic+json": {
              "type": "string"
            },
            "text/plain": [
              "'é'"
            ]
          },
          "metadata": {
            "tags": []
          },
          "execution_count": 60
        }
      ]
    },
    {
      "cell_type": "code",
      "metadata": {
        "id": "Zjf8vEsGgolK",
        "colab_type": "code",
        "colab": {
          "base_uri": "https://localhost:8080/",
          "height": 34
        },
        "outputId": "28a9e12c-5a29-4848-bc9f-b9c63bc578f1"
      },
      "source": [
        "frequencia.items()"
      ],
      "execution_count": null,
      "outputs": [
        {
          "output_type": "execute_result",
          "data": {
            "text/plain": [
              "dict_items([('Amar', 1), ('é', 4), ('sonhar', 2), ('viver', 2), ('curtir', 2), ('amar', 1)])"
            ]
          },
          "metadata": {
            "tags": []
          },
          "execution_count": 61
        }
      ]
    },
    {
      "cell_type": "code",
      "metadata": {
        "id": "QOrn87xpgoES",
        "colab_type": "code",
        "colab": {
          "base_uri": "https://localhost:8080/",
          "height": 281
        },
        "outputId": "fd279869-ace6-428d-fc14-cfcb47f4b015"
      },
      "source": [
        "%matplotlib inline\n",
        "import numpy as np\n",
        "import matplotlib.pyplot as plt\n",
        "\n",
        "palavras = frequencia.keys()\n",
        "y_pos = np.arange(len(palavras))\n",
        "contagem = frequencia.values()\n",
        "\n",
        "plt.bar(y_pos, contagem, align='center', alpha=0.5)\n",
        "plt.xticks(y_pos, palavras)\n",
        "plt.ylabel('Frequencia')\n",
        "plt.title('Frequencia das palavras na frase')\n",
        "\n",
        "plt.show()\n",
        "\n"
      ],
      "execution_count": null,
      "outputs": [
        {
          "output_type": "display_data",
          "data": {
            "image/png": "[encoded data removed]",
            "text/plain": [
              "<Figure size 432x288 with 1 Axes>"
            ]
          },
          "metadata": {
            "tags": [],
            "needs_background": "light"
          }
        }
      ]
    },
    {
      "cell_type": "code",
      "metadata": {
        "id": "0ZviplqDgnjl",
        "colab_type": "code",
        "colab": {
          "base_uri": "https://localhost:8080/",
          "height": 51
        },
        "outputId": "652a1f1b-e76d-4ca8-f5d9-9eadc9bc6433"
      },
      "source": [
        "# Stemming em Português\n",
        "nltk.download('rslp')\n",
        "stemmer = nltk.stem.RSLPStemmer()"
      ],
      "execution_count": null,
      "outputs": [
        {
          "output_type": "stream",
          "text": [
            "[nltk_data] Downloading package rslp to /root/nltk_data...\n",
            "[nltk_data]   Unzipping stemmers/rslp.zip.\n"
          ],
          "name": "stdout"
        }
      ]
    },
    {
      "cell_type": "code",
      "metadata": {
        "id": "zsU8jwADgnDN",
        "colab_type": "code",
        "colab": {
          "base_uri": "https://localhost:8080/",
          "height": 37
        },
        "outputId": "135b88c0-c249-4a25-80bf-d52b9ed133d8"
      },
      "source": [
        "stemmer.stem('Trabalhou')\n",
        "stemmer.stem('Trabalhava')\n",
        "stemmer.stem('Trabalha')"
      ],
      "execution_count": null,
      "outputs": [
        {
          "output_type": "execute_result",
          "data": {
            "application/vnd.google.colaboratory.intrinsic+json": {
              "type": "string"
            },
            "text/plain": [
              "'trabalh'"
            ]
          },
          "metadata": {
            "tags": []
          },
          "execution_count": 64
        }
      ]
    },
    {
      "cell_type": "code",
      "metadata": {
        "id": "cZ2fGbViglXJ",
        "colab_type": "code",
        "colab": {
          "base_uri": "https://localhost:8080/",
          "height": 37
        },
        "outputId": "5364b5f4-d4f4-4774-d0b0-1410e1ccc976"
      },
      "source": [
        "stemmer.stem('Carro')\n",
        "stemmer.stem('correu')\n",
        "stemmer.stem('corrida')"
      ],
      "execution_count": null,
      "outputs": [
        {
          "output_type": "execute_result",
          "data": {
            "application/vnd.google.colaboratory.intrinsic+json": {
              "type": "string"
            },
            "text/plain": [
              "'corr'"
            ]
          },
          "metadata": {
            "tags": []
          },
          "execution_count": 65
        }
      ]
    },
    {
      "cell_type": "code",
      "metadata": {
        "id": "V2r1uXDqgk30",
        "colab_type": "code",
        "colab": {}
      },
      "source": [
        "#Stemming em Inglês\n",
        "stemmer = nltk.stem.SnowballStemmer(\"english\")"
      ],
      "execution_count": null,
      "outputs": []
    },
    {
      "cell_type": "code",
      "metadata": {
        "id": "74yJ4Bk5gkY9",
        "colab_type": "code",
        "colab": {
          "base_uri": "https://localhost:8080/",
          "height": 37
        },
        "outputId": "1492988d-5c96-4c7f-d734-35f71fe53c1c"
      },
      "source": [
        "stemmer.stem('running')\n",
        "stemmer.stem('run')"
      ],
      "execution_count": null,
      "outputs": [
        {
          "output_type": "execute_result",
          "data": {
            "application/vnd.google.colaboratory.intrinsic+json": {
              "type": "string"
            },
            "text/plain": [
              "'run'"
            ]
          },
          "metadata": {
            "tags": []
          },
          "execution_count": 67
        }
      ]
    },
    {
      "cell_type": "code",
      "metadata": {
        "id": "VVqpMAzhgj42",
        "colab_type": "code",
        "colab": {
          "base_uri": "https://localhost:8080/",
          "height": 37
        },
        "outputId": "a13c2534-924d-4247-b495-55794f89e94e"
      },
      "source": [
        "stemmer.stem('have')\n",
        "stemmer.stem('having')"
      ],
      "execution_count": null,
      "outputs": [
        {
          "output_type": "execute_result",
          "data": {
            "application/vnd.google.colaboratory.intrinsic+json": {
              "type": "string"
            },
            "text/plain": [
              "'have'"
            ]
          },
          "metadata": {
            "tags": []
          },
          "execution_count": 68
        }
      ]
    },
    {
      "cell_type": "code",
      "metadata": {
        "id": "RzqiqCvkjzsx",
        "colab_type": "code",
        "colab": {}
      },
      "source": [
        "def Stemming(instancia):\n",
        "    stemmer = nltk.stem.RSLPStemmer()\n",
        "    palavras=[]\n",
        "    for w in instancia.split():\n",
        "        palavras.append(stemmer.stem(w))\n",
        "    return (\" \".join(palavras))"
      ],
      "execution_count": null,
      "outputs": []
    },
    {
      "cell_type": "code",
      "metadata": {
        "id": "dbbmsmwXgjUJ",
        "colab_type": "code",
        "colab": {
          "base_uri": "https://localhost:8080/",
          "height": 37
        },
        "outputId": "06a1e044-cc30-4d32-c111-6aa73e1cd634"
      },
      "source": [
        "Stemming('Ele trabalhava frequentemente no projeto de novos produtos')"
      ],
      "execution_count": null,
      "outputs": [
        {
          "output_type": "execute_result",
          "data": {
            "application/vnd.google.colaboratory.intrinsic+json": {
              "type": "string"
            },
            "text/plain": [
              "'ele trabalh frequ no projet de nov produt'"
            ]
          },
          "metadata": {
            "tags": []
          },
          "execution_count": 70
        }
      ]
    },
    {
      "cell_type": "code",
      "metadata": {
        "id": "91r8KrLQgi07",
        "colab_type": "code",
        "colab": {
          "base_uri": "https://localhost:8080/",
          "height": 51
        },
        "outputId": "76b946fa-2be4-42ce-d87a-59db69bdf194"
      },
      "source": [
        "import nltk\n",
        "nltk.download('wordnet')\n",
        "from nltk.stem import WordNetLemmatizer\n",
        "lemmatizer = WordNetLemmatizer()"
      ],
      "execution_count": null,
      "outputs": [
        {
          "output_type": "stream",
          "text": [
            "[nltk_data] Downloading package wordnet to /root/nltk_data...\n",
            "[nltk_data]   Unzipping corpora/wordnet.zip.\n"
          ],
          "name": "stdout"
        }
      ]
    },
    {
      "cell_type": "code",
      "metadata": {
        "id": "yOs5f-argiUV",
        "colab_type": "code",
        "colab": {
          "base_uri": "https://localhost:8080/",
          "height": 34
        },
        "outputId": "0c880ea4-21c5-422b-8e22-225186deeda6"
      },
      "source": [
        "print (lemmatizer.lemmatize(\"cats\"))"
      ],
      "execution_count": null,
      "outputs": [
        {
          "output_type": "stream",
          "text": [
            "cat\n"
          ],
          "name": "stdout"
        }
      ]
    },
    {
      "cell_type": "code",
      "metadata": {
        "id": "-My-1ABWkDUj",
        "colab_type": "code",
        "colab": {
          "base_uri": "https://localhost:8080/",
          "height": 37
        },
        "outputId": "06db5bcb-7576-48ec-d130-13fc433f5b1a"
      },
      "source": [
        "# Busca um lemma para 'is' do tipo verbo\n",
        "lemmatizer.lemmatize('is', pos='v')"
      ],
      "execution_count": null,
      "outputs": [
        {
          "output_type": "execute_result",
          "data": {
            "application/vnd.google.colaboratory.intrinsic+json": {
              "type": "string"
            },
            "text/plain": [
              "'be'"
            ]
          },
          "metadata": {
            "tags": []
          },
          "execution_count": 73
        }
      ]
    },
    {
      "cell_type": "code",
      "metadata": {
        "id": "tkaCyoxikCxu",
        "colab_type": "code",
        "colab": {
          "base_uri": "https://localhost:8080/",
          "height": 37
        },
        "outputId": "b06662ba-edf6-4dc6-84ab-1a6f3f221152"
      },
      "source": [
        "lemmatizer.lemmatize('are', pos='v')"
      ],
      "execution_count": null,
      "outputs": [
        {
          "output_type": "execute_result",
          "data": {
            "application/vnd.google.colaboratory.intrinsic+json": {
              "type": "string"
            },
            "text/plain": [
              "'be'"
            ]
          },
          "metadata": {
            "tags": []
          },
          "execution_count": 74
        }
      ]
    },
    {
      "cell_type": "code",
      "metadata": {
        "id": "7JgZKP8qkCIv",
        "colab_type": "code",
        "colab": {
          "base_uri": "https://localhost:8080/",
          "height": 34
        },
        "outputId": "c4208475-cb91-4833-817d-f898d61c9770"
      },
      "source": [
        "# Busca um adjetivo para 'better'\n",
        "print (lemmatizer.lemmatize(\"better\", pos=\"a\"))"
      ],
      "execution_count": null,
      "outputs": [
        {
          "output_type": "stream",
          "text": [
            "good\n"
          ],
          "name": "stdout"
        }
      ]
    },
    {
      "cell_type": "code",
      "metadata": {
        "id": "4EwocZPHkBiL",
        "colab_type": "code",
        "colab": {
          "base_uri": "https://localhost:8080/",
          "height": 34
        },
        "outputId": "593ff3ba-788b-4743-c181-1e8344be02b0"
      },
      "source": [
        "print (lemmatizer.lemmatize(\"running\", pos=\"n\"))"
      ],
      "execution_count": null,
      "outputs": [
        {
          "output_type": "stream",
          "text": [
            "running\n"
          ],
          "name": "stdout"
        }
      ]
    },
    {
      "cell_type": "code",
      "metadata": {
        "id": "qqWBZaDnlDAK",
        "colab_type": "code",
        "colab": {
          "base_uri": "https://localhost:8080/",
          "height": 34
        },
        "outputId": "8f362a13-f77e-4de7-f176-673b33e128e7"
      },
      "source": [
        "print (lemmatizer.lemmatize(\"running\", pos=\"a\"))"
      ],
      "execution_count": null,
      "outputs": [
        {
          "output_type": "stream",
          "text": [
            "running\n"
          ],
          "name": "stdout"
        }
      ]
    },
    {
      "cell_type": "code",
      "metadata": {
        "id": "9uSYJjpelCWR",
        "colab_type": "code",
        "colab": {
          "base_uri": "https://localhost:8080/",
          "height": 51
        },
        "outputId": "8d3a55b4-636f-4cab-fd0c-432f2d6198ba"
      },
      "source": [
        "import nltk\n",
        "nltk.download('stopwords')\n",
        "stopwords = nltk.corpus.stopwords.words('portuguese')"
      ],
      "execution_count": null,
      "outputs": [
        {
          "output_type": "stream",
          "text": [
            "[nltk_data] Downloading package stopwords to /root/nltk_data...\n",
            "[nltk_data]   Unzipping corpora/stopwords.zip.\n"
          ],
          "name": "stdout"
        }
      ]
    },
    {
      "cell_type": "code",
      "metadata": {
        "id": "SQkvx56VlBvz",
        "colab_type": "code",
        "colab": {}
      },
      "source": [
        "stopwords"
      ],
      "execution_count": null,
      "outputs": []
    },
    {
      "cell_type": "code",
      "metadata": {
        "id": "pbK8V7RzlAXz",
        "colab_type": "code",
        "colab": {}
      },
      "source": [
        "def RemoviStopWords(instancia):\n",
        "    instancia = instancia.lower()\n",
        "    stopwords = set(nltk.corpus.stopwords.words('portuguese'))\n",
        "    palavras = [i for i in instancia.split() if not i in stopwords]\n",
        "    return (\" \".join(palavras))"
      ],
      "execution_count": null,
      "outputs": []
    },
    {
      "cell_type": "code",
      "metadata": {
        "id": "pU3Q2FiVk_3Z",
        "colab_type": "code",
        "colab": {}
      },
      "source": [
        "sentenca1 = 'Ele trabalhava frequentemente no projeto de criação de novos produtos'"
      ],
      "execution_count": null,
      "outputs": []
    },
    {
      "cell_type": "code",
      "metadata": {
        "id": "VimnbXFzk_W4",
        "colab_type": "code",
        "colab": {
          "base_uri": "https://localhost:8080/",
          "height": 37
        },
        "outputId": "898269b1-e83b-4acc-cf62-858367217f75"
      },
      "source": [
        "RemoviStopWords(sentenca1)"
      ],
      "execution_count": null,
      "outputs": [
        {
          "output_type": "execute_result",
          "data": {
            "application/vnd.google.colaboratory.intrinsic+json": {
              "type": "string"
            },
            "text/plain": [
              "'trabalhava frequentemente projeto criação novos produtos'"
            ]
          },
          "metadata": {
            "tags": []
          },
          "execution_count": 82
        }
      ]
    },
    {
      "cell_type": "code",
      "metadata": {
        "id": "3E8pkNqfk-1D",
        "colab_type": "code",
        "colab": {}
      },
      "source": [
        "sentenca2 = 'Ele estuda pensando em soluções para a industria 4.0'"
      ],
      "execution_count": null,
      "outputs": []
    },
    {
      "cell_type": "code",
      "metadata": {
        "id": "hnMkoPwsmlhk",
        "colab_type": "code",
        "colab": {
          "base_uri": "https://localhost:8080/",
          "height": 37
        },
        "outputId": "39c71a78-33d5-464b-d094-1745c911bd32"
      },
      "source": [
        "RemoviStopWords(sentenca2)"
      ],
      "execution_count": null,
      "outputs": [
        {
          "output_type": "execute_result",
          "data": {
            "application/vnd.google.colaboratory.intrinsic+json": {
              "type": "string"
            },
            "text/plain": [
              "'estuda pensando soluções industria 4.0'"
            ]
          },
          "metadata": {
            "tags": []
          },
          "execution_count": 84
        }
      ]
    },
    {
      "cell_type": "code",
      "metadata": {
        "id": "Ya8XTFiimk7x",
        "colab_type": "code",
        "colab": {
          "base_uri": "https://localhost:8080/",
          "height": 272
        },
        "outputId": "b248203d-1ae2-486f-a181-02b1c58cf983"
      },
      "source": [
        "import nltk\n",
        "nltk.download('averaged_perceptron_tagger')\n",
        "nltk.download('tagsets')\n",
        "text = nltk.word_tokenize('Os indivíduos diferem na habilidade de entender ideias complexas.')\n",
        "nltk.pos_tag(text)"
      ],
      "execution_count": null,
      "outputs": [
        {
          "output_type": "stream",
          "text": [
            "[nltk_data] Downloading package averaged_perceptron_tagger to\n",
            "[nltk_data]     /root/nltk_data...\n",
            "[nltk_data]   Unzipping taggers/averaged_perceptron_tagger.zip.\n",
            "[nltk_data] Downloading package tagsets to /root/nltk_data...\n",
            "[nltk_data]   Unzipping help/tagsets.zip.\n"
          ],
          "name": "stdout"
        },
        {
          "output_type": "execute_result",
          "data": {
            "text/plain": [
              "[('Os', 'NNP'),\n",
              " ('indivíduos', 'NN'),\n",
              " ('diferem', 'NN'),\n",
              " ('na', 'TO'),\n",
              " ('habilidade', 'VB'),\n",
              " ('de', 'FW'),\n",
              " ('entender', 'FW'),\n",
              " ('ideias', 'NNS'),\n",
              " ('complexas', 'VBP'),\n",
              " ('.', '.')]"
            ]
          },
          "metadata": {
            "tags": []
          },
          "execution_count": 85
        }
      ]
    },
    {
      "cell_type": "code",
      "metadata": {
        "id": "7tBO2qpWmkUt",
        "colab_type": "code",
        "colab": {
          "base_uri": "https://localhost:8080/",
          "height": 119
        },
        "outputId": "75bc700e-7ce5-4b6d-f198-4458c7ef5bf6"
      },
      "source": [
        "text = nltk.word_tokenize('João Comprou um presente muito legal')\n",
        "nltk.pos_tag(text)"
      ],
      "execution_count": null,
      "outputs": [
        {
          "output_type": "execute_result",
          "data": {
            "text/plain": [
              "[('João', 'NNP'),\n",
              " ('Comprou', 'NNP'),\n",
              " ('um', 'JJ'),\n",
              " ('presente', 'NN'),\n",
              " ('muito', 'FW'),\n",
              " ('legal', 'JJ')]"
            ]
          },
          "metadata": {
            "tags": []
          },
          "execution_count": 86
        }
      ]
    },
    {
      "cell_type": "code",
      "metadata": {
        "id": "DD6YtdrqmjxD",
        "colab_type": "code",
        "colab": {
          "base_uri": "https://localhost:8080/",
          "height": 85
        },
        "outputId": "7142f2b2-b735-469c-b7c7-2b080376c54a"
      },
      "source": [
        "nltk.help.upenn_tagset('NNP')"
      ],
      "execution_count": null,
      "outputs": [
        {
          "output_type": "stream",
          "text": [
            "NNP: noun, proper, singular\n",
            "    Motown Venneboerger Czestochwa Ranzer Conchita Trumplane Christos\n",
            "    Oceanside Escobar Kreisler Sawyer Cougar Yvette Ervin ODI Darryl CTCA\n",
            "    Shannon A.K.C. Meltex Liverpool ...\n"
          ],
          "name": "stdout"
        }
      ]
    },
    {
      "cell_type": "code",
      "metadata": {
        "id": "rBVyGvDRmjHq",
        "colab_type": "code",
        "colab": {
          "base_uri": "https://localhost:8080/",
          "height": 85
        },
        "outputId": "50b49f4b-6505-49df-e9eb-2ed86ea6bfb1"
      },
      "source": [
        "nltk.help.upenn_tagset('JJ')"
      ],
      "execution_count": null,
      "outputs": [
        {
          "output_type": "stream",
          "text": [
            "JJ: adjective or numeral, ordinal\n",
            "    third ill-mannered pre-war regrettable oiled calamitous first separable\n",
            "    ectoplasmic battery-powered participatory fourth still-to-be-named\n",
            "    multilingual multi-disciplinary ...\n"
          ],
          "name": "stdout"
        }
      ]
    },
    {
      "cell_type": "code",
      "metadata": {
        "id": "N3DQkNtKrOwv",
        "colab_type": "code",
        "colab": {
          "base_uri": "https://localhost:8080/",
          "height": 85
        },
        "outputId": "ddf3ee5b-62ac-4923-92a0-c0580bd5dda3"
      },
      "source": [
        "nltk.help.upenn_tagset('NN')"
      ],
      "execution_count": null,
      "outputs": [
        {
          "output_type": "stream",
          "text": [
            "NN: noun, common, singular or mass\n",
            "    common-carrier cabbage knuckle-duster Casino afghan shed thermostat\n",
            "    investment slide humour falloff slick wind hyena override subhumanity\n",
            "    machinist ...\n"
          ],
          "name": "stdout"
        }
      ]
    },
    {
      "cell_type": "code",
      "metadata": {
        "id": "GfnZs1SWrOJu",
        "colab_type": "code",
        "colab": {
          "base_uri": "https://localhost:8080/",
          "height": 85
        },
        "outputId": "aacbb607-babe-4d8e-bde7-d0ddb43dc190"
      },
      "source": [
        "nltk.help.upenn_tagset('FW')"
      ],
      "execution_count": null,
      "outputs": [
        {
          "output_type": "stream",
          "text": [
            "FW: foreign word\n",
            "    gemeinschaft hund ich jeux habeas Haementeria Herr K'ang-si vous\n",
            "    lutihaw alai je jour objets salutaris fille quibusdam pas trop Monte\n",
            "    terram fiche oui corporis ...\n"
          ],
          "name": "stdout"
        }
      ]
    },
    {
      "cell_type": "code",
      "metadata": {
        "id": "wubXew-frNe_",
        "colab_type": "code",
        "colab": {
          "base_uri": "https://localhost:8080/",
          "height": 85
        },
        "outputId": "7d9b68fe-c19d-43ef-a787-0f5658e4db78"
      },
      "source": [
        "nltk.help.upenn_tagset('VB')"
      ],
      "execution_count": null,
      "outputs": [
        {
          "output_type": "stream",
          "text": [
            "VB: verb, base form\n",
            "    ask assemble assess assign assume atone attention avoid bake balkanize\n",
            "    bank begin behold believe bend benefit bevel beware bless boil bomb\n",
            "    boost brace break bring broil brush build ...\n"
          ],
          "name": "stdout"
        }
      ]
    },
    {
      "cell_type": "code",
      "metadata": {
        "id": "vG8JLLKOrM2J",
        "colab_type": "code",
        "colab": {
          "base_uri": "https://localhost:8080/",
          "height": 85
        },
        "outputId": "58cd967f-4590-4d81-fc20-69ee80cb3747"
      },
      "source": [
        "nltk.help.upenn_tagset('NNS')"
      ],
      "execution_count": null,
      "outputs": [
        {
          "output_type": "stream",
          "text": [
            "NNS: noun, common, plural\n",
            "    undergraduates scotches bric-a-brac products bodyguards facets coasts\n",
            "    divestitures storehouses designs clubs fragrances averages\n",
            "    subjectivists apprehensions muses factory-jobs ...\n"
          ],
          "name": "stdout"
        }
      ]
    },
    {
      "cell_type": "code",
      "metadata": {
        "id": "jB29ssw3rMNf",
        "colab_type": "code",
        "colab": {
          "base_uri": "https://localhost:8080/",
          "height": 85
        },
        "outputId": "65903ee8-e5a1-445c-d281-60880a415e43"
      },
      "source": [
        "nltk.help.upenn_tagset('VBP')"
      ],
      "execution_count": null,
      "outputs": [
        {
          "output_type": "stream",
          "text": [
            "VBP: verb, present tense, not 3rd person singular\n",
            "    predominate wrap resort sue twist spill cure lengthen brush terminate\n",
            "    appear tend stray glisten obtain comprise detest tease attract\n",
            "    emphasize mold postpone sever return wag ...\n"
          ],
          "name": "stdout"
        }
      ]
    },
    {
      "cell_type": "code",
      "metadata": {
        "id": "5VNe4c9OsZI2",
        "colab_type": "code",
        "colab": {
          "base_uri": "https://localhost:8080/",
          "height": 170
        },
        "outputId": "4c72cb7e-0615-4c60-e09f-3b4792819140"
      },
      "source": [
        "text = nltk.word_tokenize(\"Behind every great man there is a great woman\")\n",
        "nltk.pos_tag(text)"
      ],
      "execution_count": null,
      "outputs": [
        {
          "output_type": "execute_result",
          "data": {
            "text/plain": [
              "[('Behind', 'IN'),\n",
              " ('every', 'DT'),\n",
              " ('great', 'JJ'),\n",
              " ('man', 'NN'),\n",
              " ('there', 'EX'),\n",
              " ('is', 'VBZ'),\n",
              " ('a', 'DT'),\n",
              " ('great', 'JJ'),\n",
              " ('woman', 'NN')]"
            ]
          },
          "metadata": {
            "tags": []
          },
          "execution_count": 94
        }
      ]
    },
    {
      "cell_type": "code",
      "metadata": {
        "id": "6PAgufcBsYgd",
        "colab_type": "code",
        "colab": {
          "base_uri": "https://localhost:8080/",
          "height": 68
        },
        "outputId": "d8acd6db-047e-42de-e348-1b2c67084bfe"
      },
      "source": [
        "nltk.help.upenn_tagset('DT')"
      ],
      "execution_count": null,
      "outputs": [
        {
          "output_type": "stream",
          "text": [
            "DT: determiner\n",
            "    all an another any both del each either every half la many much nary\n",
            "    neither no some such that the them these this those\n"
          ],
          "name": "stdout"
        }
      ]
    },
    {
      "cell_type": "code",
      "metadata": {
        "id": "aO16xdNAsX7u",
        "colab_type": "code",
        "colab": {
          "base_uri": "https://localhost:8080/",
          "height": 85
        },
        "outputId": "82a2b446-9455-471b-c3f1-b34134a617f9"
      },
      "source": [
        "nltk.help.upenn_tagset('IN')"
      ],
      "execution_count": null,
      "outputs": [
        {
          "output_type": "stream",
          "text": [
            "IN: preposition or conjunction, subordinating\n",
            "    astride among uppon whether out inside pro despite on by throughout\n",
            "    below within for towards near behind atop around if like until below\n",
            "    next into if beside ...\n"
          ],
          "name": "stdout"
        }
      ]
    },
    {
      "cell_type": "code",
      "metadata": {
        "id": "W8_79b3IsXXO",
        "colab_type": "code",
        "colab": {
          "base_uri": "https://localhost:8080/",
          "height": 51
        },
        "outputId": "58197100-76f1-4714-bed7-d87111b71427"
      },
      "source": [
        "nltk.help.upenn_tagset('EX')"
      ],
      "execution_count": null,
      "outputs": [
        {
          "output_type": "stream",
          "text": [
            "EX: existential there\n",
            "    there\n"
          ],
          "name": "stdout"
        }
      ]
    },
    {
      "cell_type": "code",
      "metadata": {
        "id": "FEP4_StXsWzI",
        "colab_type": "code",
        "colab": {
          "base_uri": "https://localhost:8080/",
          "height": 85
        },
        "outputId": "01f5a850-429c-4867-96ff-0eb8f1c2c391"
      },
      "source": [
        "nltk.help.upenn_tagset('VBZ')"
      ],
      "execution_count": null,
      "outputs": [
        {
          "output_type": "stream",
          "text": [
            "VBZ: verb, present tense, 3rd person singular\n",
            "    bases reconstructs marks mixes displeases seals carps weaves snatches\n",
            "    slumps stretches authorizes smolders pictures emerges stockpiles\n",
            "    seduces fizzes uses bolsters slaps speaks pleads ...\n"
          ],
          "name": "stdout"
        }
      ]
    },
    {
      "cell_type": "code",
      "metadata": {
        "id": "rlD9YOVzsWO6",
        "colab_type": "code",
        "colab": {
          "base_uri": "https://localhost:8080/",
          "height": 34
        },
        "outputId": "46c2a5c4-b106-4f15-af37-97b8b0b95361"
      },
      "source": [
        "from nltk.corpus import wordnet\n",
        "wordnet.synsets('bike')"
      ],
      "execution_count": null,
      "outputs": [
        {
          "output_type": "execute_result",
          "data": {
            "text/plain": [
              "[Synset('motorcycle.n.01'), Synset('bicycle.n.01'), Synset('bicycle.v.01')]"
            ]
          },
          "metadata": {
            "tags": []
          },
          "execution_count": 99
        }
      ]
    },
    {
      "cell_type": "code",
      "metadata": {
        "id": "QSNcEDBrsVqK",
        "colab_type": "code",
        "colab": {
          "base_uri": "https://localhost:8080/",
          "height": 37
        },
        "outputId": "6efaf567-ffdd-46f3-9142-f01fba56baff"
      },
      "source": [
        "wordnet.synset('bicycle.n.01').definition()"
      ],
      "execution_count": null,
      "outputs": [
        {
          "output_type": "execute_result",
          "data": {
            "application/vnd.google.colaboratory.intrinsic+json": {
              "type": "string"
            },
            "text/plain": [
              "'a wheeled vehicle that has two wheels and is moved by foot pedals'"
            ]
          },
          "metadata": {
            "tags": []
          },
          "execution_count": 100
        }
      ]
    },
    {
      "cell_type": "code",
      "metadata": {
        "id": "ur4PnV3iv-Ug",
        "colab_type": "code",
        "colab": {
          "base_uri": "https://localhost:8080/",
          "height": 37
        },
        "outputId": "e065c008-25fe-4608-d65d-ea18de481059"
      },
      "source": [
        "wordnet.synset('motorcycle.n.01').definition()"
      ],
      "execution_count": null,
      "outputs": [
        {
          "output_type": "execute_result",
          "data": {
            "application/vnd.google.colaboratory.intrinsic+json": {
              "type": "string"
            },
            "text/plain": [
              "'a motor vehicle with two wheels and a strong frame'"
            ]
          },
          "metadata": {
            "tags": []
          },
          "execution_count": 101
        }
      ]
    },
    {
      "cell_type": "code",
      "metadata": {
        "id": "FdITHUJ-v-KL",
        "colab_type": "code",
        "colab": {
          "base_uri": "https://localhost:8080/",
          "height": 119
        },
        "outputId": "5293caaa-8c9f-4723-a14d-1809b566d317"
      },
      "source": [
        "# Hiponimos da palavra 'bicycle'.\n",
        "# Conceitos mais específicos.\n",
        "wordnet.synset('bicycle.n.01').hyponyms()"
      ],
      "execution_count": null,
      "outputs": [
        {
          "output_type": "execute_result",
          "data": {
            "text/plain": [
              "[Synset('bicycle-built-for-two.n.01'),\n",
              " Synset('mountain_bike.n.01'),\n",
              " Synset('ordinary.n.04'),\n",
              " Synset('push-bike.n.01'),\n",
              " Synset('safety_bicycle.n.01'),\n",
              " Synset('velocipede.n.01')]"
            ]
          },
          "metadata": {
            "tags": []
          },
          "execution_count": 102
        }
      ]
    },
    {
      "cell_type": "code",
      "metadata": {
        "id": "Eemp3kaSv86J",
        "colab_type": "code",
        "colab": {
          "base_uri": "https://localhost:8080/",
          "height": 34
        },
        "outputId": "ac68156f-6b13-42e3-d52b-99375c5f40a0"
      },
      "source": [
        "# Hiperonimos da palavra 'bicycle'\n",
        "# Conceitos mais genéricos\n",
        "wordnet.synset('bicycle.n.01').hypernyms()"
      ],
      "execution_count": null,
      "outputs": [
        {
          "output_type": "execute_result",
          "data": {
            "text/plain": [
              "[Synset('wheeled_vehicle.n.01')]"
            ]
          },
          "metadata": {
            "tags": []
          },
          "execution_count": 103
        }
      ]
    },
    {
      "cell_type": "code",
      "metadata": {
        "id": "qT1yoB8Xv72h",
        "colab_type": "code",
        "colab": {
          "base_uri": "https://localhost:8080/",
          "height": 170
        },
        "outputId": "979beffd-414c-47bd-9730-9ee4919b22e5"
      },
      "source": [
        "# Meronyms da palavra 'bicycle'\n",
        "# Conceitos partes de outros conceitos\n",
        "wordnet.synset('bicycle.n.01').part_meronyms()"
      ],
      "execution_count": null,
      "outputs": [
        {
          "output_type": "execute_result",
          "data": {
            "text/plain": [
              "[Synset('bicycle_seat.n.01'),\n",
              " Synset('bicycle_wheel.n.01'),\n",
              " Synset('chain.n.03'),\n",
              " Synset('coaster_brake.n.01'),\n",
              " Synset('handlebar.n.01'),\n",
              " Synset('kickstand.n.01'),\n",
              " Synset('mudguard.n.01'),\n",
              " Synset('pedal.n.02'),\n",
              " Synset('sprocket.n.02')]"
            ]
          },
          "metadata": {
            "tags": []
          },
          "execution_count": 104
        }
      ]
    },
    {
      "cell_type": "code",
      "metadata": {
        "id": "b7-8a3V7v7q3",
        "colab_type": "code",
        "colab": {
          "base_uri": "https://localhost:8080/",
          "height": 272
        },
        "outputId": "656b8c1e-d877-484e-ceeb-c0594c3e2375"
      },
      "source": [
        "!python -m textblob.download_corpora"
      ],
      "execution_count": null,
      "outputs": [
        {
          "output_type": "stream",
          "text": [
            "[nltk_data] Downloading package brown to /root/nltk_data...\n",
            "[nltk_data]   Unzipping corpora/brown.zip.\n",
            "[nltk_data] Downloading package punkt to /root/nltk_data...\n",
            "[nltk_data]   Package punkt is already up-to-date!\n",
            "[nltk_data] Downloading package wordnet to /root/nltk_data...\n",
            "[nltk_data]   Package wordnet is already up-to-date!\n",
            "[nltk_data] Downloading package averaged_perceptron_tagger to\n",
            "[nltk_data]     /root/nltk_data...\n",
            "[nltk_data]   Package averaged_perceptron_tagger is already up-to-\n",
            "[nltk_data]       date!\n",
            "[nltk_data] Downloading package conll2000 to /root/nltk_data...\n",
            "[nltk_data]   Unzipping corpora/conll2000.zip.\n",
            "[nltk_data] Downloading package movie_reviews to /root/nltk_data...\n",
            "[nltk_data]   Unzipping corpora/movie_reviews.zip.\n",
            "Finished.\n"
          ],
          "name": "stdout"
        }
      ]
    },
    {
      "cell_type": "code",
      "metadata": {
        "id": "Y_ofpPc5v6aH",
        "colab_type": "code",
        "colab": {}
      },
      "source": [
        "from textblob import TextBlob"
      ],
      "execution_count": null,
      "outputs": []
    },
    {
      "cell_type": "code",
      "metadata": {
        "id": "XxmQdNYhv565",
        "colab_type": "code",
        "colab": {}
      },
      "source": [
        "frases = TextBlob(\"Python é uma ótima linguagem para ciência de dados\")"
      ],
      "execution_count": null,
      "outputs": []
    },
    {
      "cell_type": "code",
      "metadata": {
        "id": "NZGZ5pgJv5ef",
        "colab_type": "code",
        "colab": {
          "base_uri": "https://localhost:8080/",
          "height": 34
        },
        "outputId": "24c48e2c-0121-44d7-a0b2-3a9dce6188bb"
      },
      "source": [
        "frases.tokens"
      ],
      "execution_count": null,
      "outputs": [
        {
          "output_type": "execute_result",
          "data": {
            "text/plain": [
              "WordList(['Python', 'é', 'uma', 'ótima', 'linguagem', 'para', 'ciência', 'de', 'dados'])"
            ]
          },
          "metadata": {
            "tags": []
          },
          "execution_count": 108
        }
      ]
    },
    {
      "cell_type": "code",
      "metadata": {
        "id": "VRdzQhRfv4sk",
        "colab_type": "code",
        "colab": {
          "base_uri": "https://localhost:8080/",
          "height": 34
        },
        "outputId": "34e36d35-c69f-416f-beff-482664a19259"
      },
      "source": [
        "frases.sentences"
      ],
      "execution_count": null,
      "outputs": [
        {
          "output_type": "execute_result",
          "data": {
            "text/plain": [
              "[Sentence(\"Python é uma ótima linguagem para ciência de dados\")]"
            ]
          },
          "metadata": {
            "tags": []
          },
          "execution_count": 109
        }
      ]
    },
    {
      "cell_type": "code",
      "metadata": {
        "id": "G3NfoLvzKvG9",
        "colab_type": "code",
        "colab": {
          "base_uri": "https://localhost:8080/",
          "height": 37
        },
        "outputId": "55b22f8a-8d20-4871-d1f4-aa27b9b30972"
      },
      "source": [
        "frases.detect_language()"
      ],
      "execution_count": null,
      "outputs": [
        {
          "output_type": "execute_result",
          "data": {
            "application/vnd.google.colaboratory.intrinsic+json": {
              "type": "string"
            },
            "text/plain": [
              "'pt'"
            ]
          },
          "metadata": {
            "tags": []
          },
          "execution_count": 110
        }
      ]
    },
    {
      "cell_type": "code",
      "metadata": {
        "id": "Hf4c5mQUKudO",
        "colab_type": "code",
        "colab": {
          "base_uri": "https://localhost:8080/",
          "height": 34
        },
        "outputId": "f88a7a07-8c78-4c60-ca31-3a7622d68152"
      },
      "source": [
        "frases.translate(to='en')"
      ],
      "execution_count": null,
      "outputs": [
        {
          "output_type": "execute_result",
          "data": {
            "text/plain": [
              "TextBlob(\"Python is a great language for data science\")"
            ]
          },
          "metadata": {
            "tags": []
          },
          "execution_count": 111
        }
      ]
    },
    {
      "cell_type": "code",
      "metadata": {
        "id": "WyJA7IJUKtzC",
        "colab_type": "code",
        "colab": {
          "base_uri": "https://localhost:8080/",
          "height": 34
        },
        "outputId": "9b52f1cc-8bbf-4737-c8cb-d81de8de4566"
      },
      "source": [
        "frases.translate(from_lang='pt',to='es')"
      ],
      "execution_count": null,
      "outputs": [
        {
          "output_type": "execute_result",
          "data": {
            "text/plain": [
              "TextBlob(\"Python es un gran lenguaje para la ciencia de datos\")"
            ]
          },
          "metadata": {
            "tags": []
          },
          "execution_count": 112
        }
      ]
    },
    {
      "cell_type": "code",
      "metadata": {
        "id": "Svj_WSRQKtGe",
        "colab_type": "code",
        "colab": {}
      },
      "source": [
        "frase4 = TextBlob('I havv othyr idea, ok !! comi on')"
      ],
      "execution_count": null,
      "outputs": []
    },
    {
      "cell_type": "code",
      "metadata": {
        "id": "ggZswrllKsYs",
        "colab_type": "code",
        "colab": {
          "base_uri": "https://localhost:8080/",
          "height": 34
        },
        "outputId": "4b3317e6-3075-434a-e87d-06884c3008cf"
      },
      "source": [
        "frase4.correct()"
      ],
      "execution_count": null,
      "outputs": [
        {
          "output_type": "execute_result",
          "data": {
            "text/plain": [
              "TextBlob(\"I have other idea, ok !! come on\")"
            ]
          },
          "metadata": {
            "tags": []
          },
          "execution_count": 114
        }
      ]
    },
    {
      "cell_type": "code",
      "metadata": {
        "id": "fr9Qha-BKrsE",
        "colab_type": "code",
        "colab": {
          "base_uri": "https://localhost:8080/",
          "height": 136
        },
        "outputId": "11484378-d657-47ac-ae6c-8b3c9dd2cf23"
      },
      "source": [
        "frase = TextBlob(\"Python is a great language for Data Science\")\n",
        "frase.ngrams(n=2)"
      ],
      "execution_count": null,
      "outputs": [
        {
          "output_type": "execute_result",
          "data": {
            "text/plain": [
              "[WordList(['Python', 'is']),\n",
              " WordList(['is', 'a']),\n",
              " WordList(['a', 'great']),\n",
              " WordList(['great', 'language']),\n",
              " WordList(['language', 'for']),\n",
              " WordList(['for', 'Data']),\n",
              " WordList(['Data', 'Science'])]"
            ]
          },
          "metadata": {
            "tags": []
          },
          "execution_count": 115
        }
      ]
    },
    {
      "cell_type": "code",
      "metadata": {
        "id": "VsagcttXMAaf",
        "colab_type": "code",
        "colab": {
          "base_uri": "https://localhost:8080/",
          "height": 119
        },
        "outputId": "94779c7b-a3b7-4bfd-8b90-fc5449189d7b"
      },
      "source": [
        "frase = TextBlob(\"Python is a great language for Data Science\")\n",
        "frase.ngrams(n=3)"
      ],
      "execution_count": null,
      "outputs": [
        {
          "output_type": "execute_result",
          "data": {
            "text/plain": [
              "[WordList(['Python', 'is', 'a']),\n",
              " WordList(['is', 'a', 'great']),\n",
              " WordList(['a', 'great', 'language']),\n",
              " WordList(['great', 'language', 'for']),\n",
              " WordList(['language', 'for', 'Data']),\n",
              " WordList(['for', 'Data', 'Science'])]"
            ]
          },
          "metadata": {
            "tags": []
          },
          "execution_count": 116
        }
      ]
    },
    {
      "cell_type": "code",
      "metadata": {
        "id": "pz1vsyA5L_ri",
        "colab_type": "code",
        "colab": {}
      },
      "source": [
        "frase = TextBlob(\"Python é uma ótima linguagem\")"
      ],
      "execution_count": null,
      "outputs": []
    },
    {
      "cell_type": "code",
      "metadata": {
        "id": "eWn8TWqxL-v4",
        "colab_type": "code",
        "colab": {
          "base_uri": "https://localhost:8080/",
          "height": 34
        },
        "outputId": "9d9987e9-c60a-4c62-8341-3604b66d9934"
      },
      "source": [
        "frase.sentiment"
      ],
      "execution_count": null,
      "outputs": [
        {
          "output_type": "execute_result",
          "data": {
            "text/plain": [
              "Sentiment(polarity=0.0, subjectivity=0.0)"
            ]
          },
          "metadata": {
            "tags": []
          },
          "execution_count": 118
        }
      ]
    },
    {
      "cell_type": "code",
      "metadata": {
        "id": "HmYZHNfnL-CU",
        "colab_type": "code",
        "colab": {}
      },
      "source": [
        "frase = TextBlob(\"Eu gosto de chocolate\")"
      ],
      "execution_count": null,
      "outputs": []
    },
    {
      "cell_type": "code",
      "metadata": {
        "id": "LE2BBOqeL9Ql",
        "colab_type": "code",
        "colab": {
          "base_uri": "https://localhost:8080/",
          "height": 34
        },
        "outputId": "9488bb24-54af-4d27-ac00-f69b97f484ce"
      },
      "source": [
        "frase.sentiment"
      ],
      "execution_count": null,
      "outputs": [
        {
          "output_type": "execute_result",
          "data": {
            "text/plain": [
              "Sentiment(polarity=0.0, subjectivity=0.0)"
            ]
          },
          "metadata": {
            "tags": []
          },
          "execution_count": 120
        }
      ]
    },
    {
      "cell_type": "code",
      "metadata": {
        "id": "uPM1bnJdNWDW",
        "colab_type": "code",
        "colab": {
          "base_uri": "https://localhost:8080/",
          "height": 34
        },
        "outputId": "0ecb2f12-2989-4372-d3c8-d3097ffb6794"
      },
      "source": [
        "frase = TextBlob(\"Python is a terrible language!\")\n",
        "frase.sentiment"
      ],
      "execution_count": null,
      "outputs": [
        {
          "output_type": "execute_result",
          "data": {
            "text/plain": [
              "Sentiment(polarity=-1.0, subjectivity=1.0)"
            ]
          },
          "metadata": {
            "tags": []
          },
          "execution_count": 121
        }
      ]
    },
    {
      "cell_type": "code",
      "metadata": {
        "id": "IUvL2bLXNVXl",
        "colab_type": "code",
        "colab": {
          "base_uri": "https://localhost:8080/",
          "height": 34
        },
        "outputId": "60f5a8b7-fc5e-4b46-d757-b836c9ac7d8c"
      },
      "source": [
        "from textblob.sentiments import NaiveBayesAnalyzer\n",
        "frase = TextBlob(\"Python is a great language for Data Science.\", analyzer=NaiveBayesAnalyzer())\n",
        "frase.sentiment"
      ],
      "execution_count": null,
      "outputs": [
        {
          "output_type": "execute_result",
          "data": {
            "text/plain": [
              "Sentiment(classification='pos', p_pos=0.6635684561319586, p_neg=0.33643154386804197)"
            ]
          },
          "metadata": {
            "tags": []
          },
          "execution_count": 122
        }
      ]
    },
    {
      "cell_type": "markdown",
      "metadata": {
        "id": "2BVZ478WqK4M",
        "colab_type": "text"
      },
      "source": [
        "####Exemplo - Classificação de noticias. - Fake News."
      ]
    },
    {
      "cell_type": "code",
      "metadata": {
        "id": "oFHFBg5vNUpT",
        "colab_type": "code",
        "colab": {}
      },
      "source": [
        "import pandas as pd\n",
        "from textblob import TextBlob"
      ],
      "execution_count": null,
      "outputs": []
    },
    {
      "cell_type": "code",
      "metadata": {
        "id": "M8X-j50xNT3I",
        "colab_type": "code",
        "colab": {}
      },
      "source": [
        "# Exemplo de clasificação de notícias. #\n",
        "news = pd.read_csv('drive/My Drive/news.csv', sep=',', header=None)"
      ],
      "execution_count": null,
      "outputs": []
    },
    {
      "cell_type": "code",
      "metadata": {
        "id": "HA2H66_RNTGp",
        "colab_type": "code",
        "colab": {
          "base_uri": "https://localhost:8080/",
          "height": 204
        },
        "outputId": "bc356a7a-e54b-4cf5-8243-5d72cc42278e"
      },
      "source": [
        "news.head()"
      ],
      "execution_count": null,
      "outputs": [
        {
          "output_type": "execute_result",
          "data": {
            "text/html": [
              "<div>\n",
              "<style scoped>\n",
              "    .dataframe tbody tr th:only-of-type {\n",
              "        vertical-align: middle;\n",
              "    }\n",
              "\n",
              "    .dataframe tbody tr th {\n",
              "        vertical-align: top;\n",
              "    }\n",
              "\n",
              "    .dataframe thead th {\n",
              "        text-align: right;\n",
              "    }\n",
              "</style>\n",
              "<table border=\"1\" class=\"dataframe\">\n",
              "  <thead>\n",
              "    <tr style=\"text-align: right;\">\n",
              "      <th></th>\n",
              "      <th>0</th>\n",
              "    </tr>\n",
              "  </thead>\n",
              "  <tbody>\n",
              "    <tr>\n",
              "      <th>0</th>\n",
              "      <td>O capitão américa aparece sobrevoando São Paulo e diz que irá se candidatar;verdadeiro</td>\n",
              "    </tr>\n",
              "    <tr>\n",
              "      <th>1</th>\n",
              "      <td>A polarização da população gera guerra civil;fake_news</td>\n",
              "    </tr>\n",
              "    <tr>\n",
              "      <th>2</th>\n",
              "      <td>O Chaves se pronuncia e diz está indignado com tanta mentira.;verdadeiro</td>\n",
              "    </tr>\n",
              "    <tr>\n",
              "      <th>3</th>\n",
              "      <td>Morte do precidenciavel X por acidente de aviao;verdadeiro</td>\n",
              "    </tr>\n",
              "    <tr>\n",
              "      <th>4</th>\n",
              "      <td>Monumento de Brasilia é atacado por manifestantes e eleicoes seráo canceladas;fake_news</td>\n",
              "    </tr>\n",
              "  </tbody>\n",
              "</table>\n",
              "</div>"
            ],
            "text/plain": [
              "                                                                                         0\n",
              "0  O capitão américa aparece sobrevoando São Paulo e diz que irá se candidatar;verdadeiro \n",
              "1  A polarização da população gera guerra civil;fake_news                                 \n",
              "2  O Chaves se pronuncia e diz está indignado com tanta mentira.;verdadeiro               \n",
              "3  Morte do precidenciavel X por acidente de aviao;verdadeiro                             \n",
              "4  Monumento de Brasilia é atacado por manifestantes e eleicoes seráo canceladas;fake_news"
            ]
          },
          "metadata": {
            "tags": []
          },
          "execution_count": 125
        }
      ]
    },
    {
      "cell_type": "code",
      "metadata": {
        "id": "GQWCIfSQNSTs",
        "colab_type": "code",
        "colab": {
          "base_uri": "https://localhost:8080/",
          "height": 289
        },
        "outputId": "851ecbf1-8ce4-4a86-99e3-7c951662e018"
      },
      "source": [
        "news.values"
      ],
      "execution_count": null,
      "outputs": [
        {
          "output_type": "execute_result",
          "data": {
            "text/plain": [
              "array([['O capitão américa aparece sobrevoando São Paulo e diz que irá se candidatar;verdadeiro'],\n",
              "       ['A polarização da população gera guerra civil;fake_news'],\n",
              "       ['O Chaves se pronuncia e diz está indignado com tanta mentira.;verdadeiro'],\n",
              "       ['Morte do precidenciavel X por acidente de aviao;verdadeiro'],\n",
              "       ['Monumento de Brasilia é atacado por manifestantes e eleicoes seráo canceladas;fake_news'],\n",
              "       ['Novo presidente se diz confiante para governar o pais;verdadeiro'],\n",
              "       ['Jair Bolsonaro sobe no ranking de rejeicao no nordeste;verdadeiro'],\n",
              "       ['Haddad melhora nas pesquisas apos apoio de Lula;verdadeiro'],\n",
              "       ['Disputa no segundo turno está cada vez mais acirrada entre os extremos;verdadeiro'],\n",
              "       ['Amoedo declara apoio ao PT;fake_news'],\n",
              "       ['Manifestantes em Sao Paulo param avenida pedem intervençao militar!;fake_news'],\n",
              "       ['Padre Marcelo Rossi diz que irá se candidatar a presidencia;fake_news'],\n",
              "       ['Ex presidente Lula consegue habeas Corpus e pode ser candidato;fake_news'],\n",
              "       ['Presidente temmer declara apoio ao partido NOVO;fake_news'],\n",
              "       ['Mourao declara que é contra o 13 salario e adiantamento de férias de funcionários;verdadeiro']],\n",
              "      dtype=object)"
            ]
          },
          "metadata": {
            "tags": []
          },
          "execution_count": 126
        }
      ]
    },
    {
      "cell_type": "markdown",
      "metadata": {
        "id": "XPtKjxX1qsPe",
        "colab_type": "text"
      },
      "source": [
        "####Processamento de texto."
      ]
    },
    {
      "cell_type": "code",
      "metadata": {
        "id": "3bfosme5QOpb",
        "colab_type": "code",
        "colab": {}
      },
      "source": [
        "!pip install fuzzywuzzy"
      ],
      "execution_count": null,
      "outputs": []
    },
    {
      "cell_type": "code",
      "metadata": {
        "id": "c7VBDE2FQN8M",
        "colab_type": "code",
        "colab": {}
      },
      "source": [
        "!pip install fuzzywuzzy[speedup]"
      ],
      "execution_count": null,
      "outputs": []
    },
    {
      "cell_type": "code",
      "metadata": {
        "id": "6m7sXNyQQNKa",
        "colab_type": "code",
        "colab": {}
      },
      "source": [
        "from fuzzywuzzy import fuzz\n",
        "from fuzzywuzzy import process"
      ],
      "execution_count": null,
      "outputs": []
    },
    {
      "cell_type": "markdown",
      "metadata": {
        "id": "US_54-G7rlc3",
        "colab_type": "text"
      },
      "source": [
        "####Consultando o resultado com o método - \"ratio\""
      ]
    },
    {
      "cell_type": "code",
      "metadata": {
        "id": "HUDMUkJ2QMYx",
        "colab_type": "code",
        "colab": {
          "base_uri": "https://localhost:8080/",
          "height": 34
        },
        "outputId": "0272ef06-8032-4573-9ee2-8c414043ca79"
      },
      "source": [
        "s1 = 'Doença Cardiovascular'\n",
        "s2 = 'Doença Cardiovascular'\n",
        "fuzz.ratio(s1,s2)"
      ],
      "execution_count": null,
      "outputs": [
        {
          "output_type": "execute_result",
          "data": {
            "text/plain": [
              "100"
            ]
          },
          "metadata": {
            "tags": []
          },
          "execution_count": 130
        }
      ]
    },
    {
      "cell_type": "code",
      "metadata": {
        "id": "-B1U4RgzVEUn",
        "colab_type": "code",
        "colab": {
          "base_uri": "https://localhost:8080/",
          "height": 34
        },
        "outputId": "b6b50a37-cfdb-42db-e674-ffe95a776b4c"
      },
      "source": [
        "s1 = 'Doença Cardiovascular'\n",
        "s2 = 'Doença Cardiovasculhar'\n",
        "fuzz.ratio(s1,s2)"
      ],
      "execution_count": null,
      "outputs": [
        {
          "output_type": "execute_result",
          "data": {
            "text/plain": [
              "98"
            ]
          },
          "metadata": {
            "tags": []
          },
          "execution_count": 131
        }
      ]
    },
    {
      "cell_type": "code",
      "metadata": {
        "id": "fZHQUzlFVEON",
        "colab_type": "code",
        "colab": {
          "base_uri": "https://localhost:8080/",
          "height": 34
        },
        "outputId": "15bb8b34-8737-450a-b0bb-7ffbe1f8aa7b"
      },
      "source": [
        "s1 = 'Doença Cardiovascular'\n",
        "s2 = 'doença Cardiovascular'\n",
        "fuzz.ratio(s1,s2)"
      ],
      "execution_count": null,
      "outputs": [
        {
          "output_type": "execute_result",
          "data": {
            "text/plain": [
              "95"
            ]
          },
          "metadata": {
            "tags": []
          },
          "execution_count": 132
        }
      ]
    },
    {
      "cell_type": "code",
      "metadata": {
        "id": "6Su-eoe2VEIs",
        "colab_type": "code",
        "colab": {
          "base_uri": "https://localhost:8080/",
          "height": 34
        },
        "outputId": "e07e1957-6c66-4946-a760-27275d3509a1"
      },
      "source": [
        "s1 = 'Doença Cardiovascular'\n",
        "s2 = 'Doença Cardiovascular!!'\n",
        "fuzz.ratio(s1,s2)"
      ],
      "execution_count": null,
      "outputs": [
        {
          "output_type": "execute_result",
          "data": {
            "text/plain": [
              "95"
            ]
          },
          "metadata": {
            "tags": []
          },
          "execution_count": 133
        }
      ]
    },
    {
      "cell_type": "code",
      "metadata": {
        "id": "YIs52Nh2VEDH",
        "colab_type": "code",
        "colab": {
          "base_uri": "https://localhost:8080/",
          "height": 34
        },
        "outputId": "dde09dfe-ffab-47d1-dd1b-1e66bb3a3405"
      },
      "source": [
        "s1 = 'Doença Cardiovascular'\n",
        "s2 = '###$$%$!Doença Cardiovascular#$#%#ˆˆˆˆˆ!!'\n",
        "fuzz.ratio(s1,s2)"
      ],
      "execution_count": null,
      "outputs": [
        {
          "output_type": "execute_result",
          "data": {
            "text/plain": [
              "68"
            ]
          },
          "metadata": {
            "tags": []
          },
          "execution_count": 134
        }
      ]
    },
    {
      "cell_type": "markdown",
      "metadata": {
        "id": "W5cRJNP6sOL-",
        "colab_type": "text"
      },
      "source": [
        "####Consultando o resultado com o método - \"partial\""
      ]
    },
    {
      "cell_type": "code",
      "metadata": {
        "id": "1behUOb_VD9q",
        "colab_type": "code",
        "colab": {
          "base_uri": "https://localhost:8080/",
          "height": 34
        },
        "outputId": "fb3c93e1-8674-470b-a49e-d98c177987f4"
      },
      "source": [
        "s1 = 'Doença Cardiovascular'\n",
        "s2 = '###$$%$!Doença Cardiovascular#$#%#ˆˆˆˆˆ!!'\n",
        "fuzz.partial_ratio(s1,s2)"
      ],
      "execution_count": null,
      "outputs": [
        {
          "output_type": "execute_result",
          "data": {
            "text/plain": [
              "100"
            ]
          },
          "metadata": {
            "tags": []
          },
          "execution_count": 135
        }
      ]
    },
    {
      "cell_type": "code",
      "metadata": {
        "id": "8aZZs9KzVDbH",
        "colab_type": "code",
        "colab": {
          "base_uri": "https://localhost:8080/",
          "height": 34
        },
        "outputId": "44e7871f-9442-4519-a0ac-612b62d1c348"
      },
      "source": [
        "s1 = 'Doença Cardiovascular'\n",
        "s2 = '###$$%$!Doença Cardiovasculhar#$#%#ˆˆˆˆˆ!!'\n",
        "fuzz.partial_ratio(s1,s2)"
      ],
      "execution_count": null,
      "outputs": [
        {
          "output_type": "execute_result",
          "data": {
            "text/plain": [
              "95"
            ]
          },
          "metadata": {
            "tags": []
          },
          "execution_count": 136
        }
      ]
    },
    {
      "cell_type": "code",
      "metadata": {
        "id": "m29nqpx0VDVo",
        "colab_type": "code",
        "colab": {
          "base_uri": "https://localhost:8080/",
          "height": 34
        },
        "outputId": "e2025bae-b04c-4ae5-931f-981216116ebf"
      },
      "source": [
        "s1 = 'Doença Cardiovascular'\n",
        "s2 = 'Cardiovascular Doença'\n",
        "fuzz.partial_ratio(s1,s2)"
      ],
      "execution_count": null,
      "outputs": [
        {
          "output_type": "execute_result",
          "data": {
            "text/plain": [
              "67"
            ]
          },
          "metadata": {
            "tags": []
          },
          "execution_count": 137
        }
      ]
    },
    {
      "cell_type": "code",
      "metadata": {
        "id": "9Z_aVBvNVDPa",
        "colab_type": "code",
        "colab": {
          "base_uri": "https://localhost:8080/",
          "height": 34
        },
        "outputId": "e896a025-fc5c-42d3-fa73-ef085a819fe6"
      },
      "source": [
        "s1 = 'Doença Cardiovascular'\n",
        "s2 = 'Cardiovascular Doença'\n",
        "fuzz.partial_token_sort_ratio(s1,s2)"
      ],
      "execution_count": null,
      "outputs": [
        {
          "output_type": "execute_result",
          "data": {
            "text/plain": [
              "100"
            ]
          },
          "metadata": {
            "tags": []
          },
          "execution_count": 138
        }
      ]
    },
    {
      "cell_type": "code",
      "metadata": {
        "id": "lP_MWQ8yVDIR",
        "colab_type": "code",
        "colab": {
          "base_uri": "https://localhost:8080/",
          "height": 34
        },
        "outputId": "495b9b76-ff70-4831-b3a4-0418298b3dc6"
      },
      "source": [
        "s1 = 'Doença Cardiovascular'\n",
        "s2 = 'cardiovascular doença'\n",
        "fuzz.partial_token_sort_ratio(s1,s2)"
      ],
      "execution_count": null,
      "outputs": [
        {
          "output_type": "execute_result",
          "data": {
            "text/plain": [
              "100"
            ]
          },
          "metadata": {
            "tags": []
          },
          "execution_count": 139
        }
      ]
    },
    {
      "cell_type": "code",
      "metadata": {
        "id": "kiHhnMCAVDC1",
        "colab_type": "code",
        "colab": {
          "base_uri": "https://localhost:8080/",
          "height": 34
        },
        "outputId": "66d726cb-6c92-4171-a69d-19401e8b1143"
      },
      "source": [
        "s1 = 'Doença Cardiovascular'\n",
        "s2 = '%%%%%cardiovascular doença&&&&****@@@'\n",
        "fuzz.partial_token_sort_ratio(s1,s2)"
      ],
      "execution_count": null,
      "outputs": [
        {
          "output_type": "execute_result",
          "data": {
            "text/plain": [
              "100"
            ]
          },
          "metadata": {
            "tags": []
          },
          "execution_count": 140
        }
      ]
    },
    {
      "cell_type": "markdown",
      "metadata": {
        "id": "yUzOhTBzvMkf",
        "colab_type": "text"
      },
      "source": [
        "####Abrindo o arquivo \"SentiLex-lem-PT01.txt', 'r')\" para leitura da polaridade das palavras. #"
      ]
    },
    {
      "cell_type": "code",
      "metadata": {
        "id": "5x6KpbPkVCgB",
        "colab_type": "code",
        "colab": {}
      },
      "source": [
        "sentilexpt = open('drive/My Drive/SentiLex-PT01/SentiLex-lem-PT01.txt','r')"
      ],
      "execution_count": null,
      "outputs": []
    },
    {
      "cell_type": "code",
      "metadata": {
        "id": "O2ARVRJIVCai",
        "colab_type": "code",
        "colab": {}
      },
      "source": [
        "dic_palavra_polaridade = {}\n",
        "for i in sentilexpt.readlines():\n",
        "    pos_ponto = i.find('.')            # obtem a posição do caracter ponto\n",
        "    palavra = (i[:pos_ponto])          # Pega a palavra\n",
        "    pol_pos = i.find('POL')            # obtem a posição do inicio da string POL\n",
        "    polaridade = (i[pol_pos+4:pol_pos+6]).replace(';','')         # obtem a polaridade da palavra\n",
        "    dic_palavra_polaridade[palavra] = polaridade                  # atualiza o dicionário com a palavra e polaridade"
      ],
      "execution_count": null,
      "outputs": []
    },
    {
      "cell_type": "code",
      "metadata": {
        "id": "DYCd3XRsVCVA",
        "colab_type": "code",
        "colab": {
          "base_uri": "https://localhost:8080/",
          "height": 54
        },
        "outputId": "1dd90510-862b-4bf7-a28f-55316e15c085"
      },
      "source": [
        "print (dic_palavra_polaridade)"
      ],
      "execution_count": null,
      "outputs": [
        {
          "output_type": "stream",
          "text": [
            "{'\\ufeffabafado': '-1', 'abafante': '-1', 'abaixado': '-1', 'abalado': '-1', 'abalizado': '1', 'abandalhado': '-1', 'abandonado': '-1', 'abarcante': '-1', 'abarrotado': '-1', 'abastado': '1', 'abastecido': '0', 'abatido': '-1', 'abelhudo': '-1', 'abençoado': '1', 'aberrante': '-1', 'aberrativo': '-1', 'aberto': '1', 'abespinhado': '-1', 'abestalhado': '-1', 'abilolado': '-1', 'abismado': '-1', 'abismal': '-1', 'abjecto': '-1', 'abjeto': '-1', 'abnegado': '1', 'abobado': '-1', 'abobalhado': '-1', 'abolicionista': '0', 'abolido': '-1', 'abominador': '-1', 'abominando': '-1', 'abominável': '-1', 'abonado': '1', 'abonatório': '1', 'abonecado': '0', 'aborígene': '-1', 'aborrecido': '-1', 'abortado': '-1', 'abraçado': '1', 'abrangente': '-1', 'abrangido': '-1', 'abrasileirado': '0', 'abrigado': '0', 'abrilhantado': '1', 'abrupto': '-1', 'abrutalhado': '-1', 'absentista': '-1', 'absolutista': '0', 'absoluto': '0', 'absolvido': '0', 'absorto': '-1', 'absorvente': '1', 'abstémico': '1', 'abstémio': '1', 'abstencionista': '0', 'abstinente': '0', 'abstraccionista': '0', 'abstracto': '-1', 'abstraído': '-1', 'abstrato': '-1', 'abstruso': '-1', 'absurdo': '-1', 'abúlico': '-1', 'aburguesado': '0', 'abusado': '-1', 'abusador': '-1', 'abusivo': '-1', 'acabado': '-1', 'acabadote': '-1', 'acabrunhado': '-1', 'acaciano': '-1', 'académico': '-1', 'acadêmico': '0', 'acalorado': '0', 'açambarcador': '-1', 'acanhado': '-1', 'acarinhado': '-1', 'acatado': '1', 'acatador': '0', 'acautelado': '0', 'accionado': '-1', 'acéfalo': '-1', 'aceitável': '1', 'aceite': '0', 'aceito': '0', 'acelerado': '0', 'acentuado': '0', 'acerado': '-1', 'acerbo': '-1', 'acérrimo': '-1', 'acertado': '1', 'aceso': '0', 'acessível': '1', 'achacado': '-1', 'achado': '0', 'achatado': '-1', 'achegado': '1', 'achinesado': '0', 'acidentado': '-1', 'aciganado': '-1', 'acintoso': '-1', 'acirrado': '-1', 'aclamado': '0', 'acobardado': '-1', 'acobertado': '-1', 'acobreado': '0', 'acocado': '-1', 'açoitado': '-1', 'acolhedor': '1', 'acolhido': '0', 'acomodadiço': '-1', 'acomodado': '-1', 'acomodatício': '0', 'acompanhado': '0', 'acompanhador': '0', 'acompanhante': '0', 'aconchegado': '1', 'acoplado': '-1', 'acordado': '0', 'acorde': '1', 'acorrentado': '-1', 'acossado': '-1', 'acostumado': '0', 'açougueiro': '-1', 'acre': '-1', 'acreditado': '1', 'acreditável': '0', 'acrescentado': '1', 'acriançado': '-1', 'acrisolado': '0', 'acrítico': '-1', 'activo': '1', 'actualista': '0', 'açucarado': '-1', 'aculturado': '-1', 'acurado': '1', 'acusado': '-1', 'acutilante': '-1', 'agudo': '0', 'adâmico': '-1', 'adaptado': '0', 'adaptável': '1', 'adepto': '1', 'adequado': '1', 'aderente': '1', 'adestrado': '1', 'adicional': '0', 'adicto': '1', 'adido': '-1', 'adiposo': '-1', 'adjacente': '0', 'adjunto': '-1', 'administrado': '0', 'administrador': '1', 'admirado': '-1', 'admirando': '-1', 'admirável': '1', 'admitido': '0', 'admoestador': '-1', 'adoentado': '-1', 'adorado': '1', 'adorando': '1', 'adorável': '1', 'adormecido': '-1', 'adornado': '-1', 'adotado': '-1', 'adstrito': '-1', 'adubado': '1', 'adulador': '-1', 'adulterado': '0', 'adulterador': '-1', 'adulterino': '-1', 'adultero': '-1', 'adúltero': '-1', 'adulto': '0', 'adventício': '-1', 'adventista': '0', 'adversário': '-1', 'adverso': '-1', 'advertido': '1', 'aéreo': '-1', 'afamado': '1', 'afanado': '-1', 'afásico': '-1', 'afastado': '-1', 'afável': '1', 'afectado': '-1', 'afectivo': '1', 'afecto': '0', 'afectuoso': '1', 'afeiçoado': '1', 'afeito': '0', 'afeminado': '-1', 'aferido': '0', 'aferrado': '0', 'afetado': '-1', 'afetuoso': '1', 'afiado': '-1', 'afidalgado': '0', 'afilado': '0', 'afilhado': '0', 'afim': '-1', 'afinado': '1', 'afincado': '0', 'afirmativo': '1', 'afixo': '1', 'afligido': '-1', 'aflitivo': '-1', 'aflito': '-1', 'afluente': '1', 'afobado': '-1', 'afogado': '-1', 'afogueado': '0', 'afoito': '1', 'afortunado': '1', 'afrancesado': '0', 'afrontado': '-1', 'afrontoso': '-1', 'afundado': '-1', 'agachado': '-1', 'agarotado': '-1', 'agarrado': '-1', 'agasalhado': '0', 'agastadiço': '-1', 'agastado': '-1', 'agigantado': '-1', 'ágil': '1', 'agiota': '-1', 'agitado': '-1', 'agitador': '-1', 'aglomerado': '0', 'aglutinante': '-1', 'agnóstico': '0', 'agoirento': '-1', 'agoniado': '-1', 'agoniante': '-1', 'agonizante': '-1', 'agoureiro': '-1', 'agourento': '-1', 'agraciado': '0', 'agradado': '1', 'agradável': '1', 'agradecido': '-1', 'agravado': '-1', 'agre': '-1', 'agregado': '0', 'agressivo': '-1', 'agressor': '-1', 'agreste': '-1', 'agricultor': '-1', 'agrilhoado': '-1', 'agrosseirado': '-1', 'agrupado': '-1', 'aguado': '-1', 'aguardado': '0', 'aguçado': '-1', 'aguerrido': '0', 'airoso': '1', 'ajanotado': '0', 'ajoelhado': '-1', 'ajoujado': '-1', 'ajudado': '1', 'ajudante': '-1', 'ajuizado': '1', 'ajustado': '-1', 'alado': '1', 'alapado': '-1', 'alarmante': '-1', 'alarmista': '-1', 'alarve': '-1', 'albigense': '0', 'albino': '-1', 'alcandorado': '0', 'alcoólatra': '-1', 'alcoólico': '-1', 'alcoolizado': '-1', 'alcunhado': '0', 'aldeão': '-1', 'aldrabão': '-1', 'alegado': '-1', 'alegre': '1', 'alegrete': '0', 'alegrote': '0', 'aleijado': '-1', 'aleivoso': '-1', 'alentado': '1', 'alentador': '1', 'alérgico': '0', 'alerta': '1', 'alfabetizado': '0', 'algarvio': '-1', 'algemado': '-1', 'alheado': '-1', 'alheio': '-1', 'aliado': '0', 'alicerçado': '1', 'aliciado': '-1', 'alienado': '-1', 'alienígena': '-1', 'aligeirado': '0', 'alimentado': '0', 'alinhado': '1', 'alinhavado': '-1', 'alistado': '-1', 'aliviado': '0', 'almo': '1', 'almóada': '0', 'almorávida': '0', 'aloirado': '0', 'alourado': '0', 'alquebrado': '-1', 'altamente': '1', 'altaneiro': '-1', 'alteroso': '0', 'altivo': '-1', 'alto': '0', 'altruísta': '1', 'altruístico': '1', 'aluado': '-1', 'alucinado': '-1', 'alucinante': '1', 'alumbrado': '-1', 'alumiado': '1', 'alvejado': '0', 'alvissareiro': '0', 'alvo': '1', 'alvoraçado': '-1', 'alvoroçado': '-1', 'amachucado': '-1', 'amado': '1', 'amador': '0', 'amadurecido': '1', 'amaldiçoado': '-1', 'amalucado': '-1', 'amamentado': '0', 'amaneirado': '-1', 'amante': '1', 'amarantino': '-1', 'amarelado': '-1', 'amarelo': '-1', 'amargado': '-1', 'amargo': '-1', 'amargurado': '-1', 'amaricado': '-1', 'amarrado': '-1', 'amassado': '-1', 'amável': '1', 'ambicioso': '0', 'ambidestro': '0', 'ambidextro': '0', 'ambíguo': '-1', 'ambrosiano': '0', 'ambulante': '-1', 'ameaçador': '-1', 'ameaçante': '-1', 'amedrontado': '-1', 'amedrontador': '-1', 'ameno': '1', 'americanista': '0', 'americanófilo': '0', 'americanófobo': '-1', 'amestrado': '1', 'amigalhaço': '1', 'amigalhão': '1', 'amigável': '1', 'amigo': '1', 'amigo da onça': '-1', 'amigo da pinga': '-1', 'amigo dos copos': '-1', 'amistoso': '1', 'amnésico': '-1', 'amontado': '-1', 'amontoado': '-1', 'amoral': '-1', 'amoralista': '-1', 'amorável': '1', 'amorfo': '-1', 'amoroso': '1', 'amortecido': '-1', 'amotinado': '-1', 'amparado': '-1', 'amputado': '-1', 'amuado': '-1', 'anabaptista': '0', 'anacrónico': '-1', 'anacrônico': '-1', 'anafado': '-1', 'analfabeto': '-1', 'analisador': '0', 'analista': '0', 'análogo': '-1', 'anão': '-1', 'anárquico': '-1', 'anarquista': '-1', 'ancestral': '-1', 'ancião': '0', 'ancorado': '-1', 'andado': '-1', 'andante': '-1', 'andarilho': '0', 'andejo': '-1', 'andrajoso': '-1', 'anedótico': '-1', 'anémico': '-1', 'anêmico': '-1', 'anestesiado': '-1', 'anexado': '0', 'anexionista': '0', 'anexo': '-1', 'angelical': '1', 'angélico': '1', 'angelita': '0', 'anglicano': '0', 'anglófilo': '0', 'anglófobo': '-1', 'anguloso': '-1', 'angustiado': '-1', 'angustiante': '-1', 'animado': '1', 'animador': '1', 'animal': '-1', 'animista': '0', 'animoso': '1', 'aniquilado': '-1', 'anjinho': '-1', 'anódino': '-1', 'anómalo': '-1', 'anónimo': '-1', 'anoréctico': '-1', 'anormal': '-1', 'ansioso': '-1', 'antagónico': '-1', 'antagonista': '-1', 'antepassado': '0', 'anticonformista': '-1', 'antidemocrata': '-1', 'antidesportista': '-1', 'antidogmático': '1', 'antifascista': '1', 'antifederalista': '0', 'antigo': '-1', 'antiliberal': '-1', 'antiliberalista': '-1', 'antimilitarista': '0', 'antinatural': '-1', 'antinazista': '1', 'antinómico': '-1', 'antipapista': '0', 'antipartidário': '0', 'antipático': '-1', 'antipatriota': '-1', 'antipolítico': '-1', 'antiquado': '-1', 'anti-republicano': '-1', 'antisocial': '-1', 'antoniano': '0', 'antonino': '0', 'antropófago': '-1', 'anunciador': '-1', 'apadrinhado': '0', 'apagado': '-1', 'apaixonado': '0', 'apaixonante': '1', 'apalavrado': '0', 'apalermado': '-1', 'apalhaçado': '-1', 'apalpado': '-1', 'apancado': '-1', 'apanhado': '-1', 'apaniguado': '-1', 'aparentado': '-1', 'aparente': '-1', 'aparolado': '-1', 'apartado': '-1', 'aparvalhado': '-1', 'apatetado': '-1', 'apático': '-1', 'apatriota': '-1', 'apavorado': '-1', 'apavorante': '-1', 'apaziguador': '1', 'apeado': '-1', 'apedantado': '-1', 'apedrejado': '-1', 'apegado': '-1', 'apelativo': '1', 'apele': '0', 'apelidado': '0', 'aperaltado': '-1', 'aperfeiçoado': '0', 'aperreado': '-1', 'apessoado': '1', 'apetecível': '-1', 'apetitoso': '0', 'aplaudido': '-1', 'aplicado': '1', 'apocalíptico': '-1', 'apócrifo': '-1', 'apoderado': '1', 'apoiado': '-1', 'apolíneo': '1', 'apologético': '0', 'apologista': '1', 'apontado': '-1', 'apopléctico': '-1', 'apoquentado': '-1', 'apoquentador': '-1', 'aposentado': '0', 'apostado': '1', 'apóstata': '-1', 'aposto': '1', 'apoteótico': '0', 'aprazível': '1', 'apreciado': '1', 'apreciador': '1', 'apreciável': '1', 'apreendido': '-1', 'apreensivo': '-1', 'apresentado': '-1', 'apresentável': '1', 'apressado': '0', 'aprimorado': '1', 'apriorista': '-1', 'aprisionado': '-1', 'aprofundado': '1', 'aprontado': '0', 'apropriado': '1', 'aprovado': '1', 'aproveitador': '-1', 'aproveitável': '1', 'aprumado': '1', 'apto': '1', 'apunhalado': '-1', 'apupado': '0', 'apurado': '1', 'aquietador': '-1', 'árabe': '0', 'arbitrário': '-1', 'arcaico': '-1', 'ardente': '1', 'ardido': '1', 'ardiloso': '-1', 'ardoroso': '0', 'árduo': '-1', 'arfante': '-1', 'argivo': '-1', 'arguido': '0', 'arguto': '0', 'ariano': '0', 'árido': '-1', 'arisco': '-1', 'aristocrata': '0', 'aristocrático': '1', 'aristotélico': '0', 'armado': '0', 'arnaz': '1', 'arquejante': '-1', 'arqueológico': '-1', 'arraigado': '-1', 'arrancado': '0', 'arranhado': '-1', 'arranjado': '1', 'arrasado': '-1', 'arrasador': '0', 'arrasante': '0', 'arrastadeiro': '-1', 'arrastado': '-1', 'arrazoado': '1', 'arrebatado': '0', 'arrebatador': '0', 'arrebentado': '-1', 'arrebitado': '-1', 'arrecadado': '-1', 'arredado': '-1', 'arredio': '-1', 'arredondado': '-1', 'arreliado': '-1', 'arreliador': '-1', 'arremessado': '0', 'arrenegado': '-1', 'arrependido': '-1', 'arrepiado': '-1', 'arrepiante': '-1', 'arretado': '1', 'arrevesado': '-1', 'arriscado': '-1', 'arrivista': '-1', 'arrogante': '-1', 'arrojado': '1', 'arrolado': '-1', 'arrozeiro': '0', 'arruaceiro': '-1', 'arrufado': '-1', 'arruinado': '-1', 'arruivado': '0', 'arrumado': '1', 'arteiro': '-1', 'arteriosclerótico': '-1', 'articulado': '-1', 'artificial': '-1', 'artificioso': '-1', 'artista': '0', 'artístico': '1', 'ascético': '0', 'aselha': '-1', 'asfixiante': '-1', 'asiático': '-1', 'asilado': '-1', 'asneirento': '-1', 'asno': '-1', 'áspero': '-1', 'aspirante': '0', 'asqueroso': '-1', 'assalariado': '-1', 'assaloiado': '-1', 'assaltado': '0', 'assaltante': '-1', 'assanhadiço': '-1', 'assanhado': '-1', 'assarapantado': '-1', 'assassinado': '1', 'assassino': '-1', 'assaz': '0', 'asseado': '1', 'assediado': '-1', 'assediador': '-1', 'assegurado': '1', 'assentado': '1', 'assente': '1', 'assertivo': '1', 'assessor': '-1', 'assexuado': '0', 'assexual': '0', 'assíduo': '1', 'assimétrico': '-1', 'assimilado': '0', 'assinado': '0', 'assinalado': '1', 'assinalável': '1', 'assinante': '1', 'assisado': '1', 'assistente': '-1', 'assistido': '-1', 'assoberbado': '-1', 'assobiado': '0', 'associado': '-1', 'assolado': '-1', 'assolador': '-1', 'assomadiço': '-1', 'assombrado': '-1', 'assombroso': '1', 'assumido': '-1', 'assustadiço': '-1', 'assustado': '-1', 'assustador': '-1', 'asténico': '-1', 'astucioso': '-1', 'astuto': '-1', 'atabalhoado': '-1', 'atacado': '0', 'atacante': '-1', 'atado': '-1', 'atafulhado': '-1', 'atamancado': '-1', 'atarantado': '-1', 'atarefado': '0', 'atarracado': '-1', 'atascado': '0', 'ateado': '-1', 'atemorizado': '-1', 'atencioso': '1', 'atento': '1', 'aterrado': '-1', 'aterrador': '-1', 'aterrorizado': '-1', 'aterrorizador': '-1', 'ateu': '-1', 'atiçado': '0', 'atilado': '1', 'atinado': '1', 'atingido': '-1', 'atiradiço': '0', 'ativado': '0', 'ativo': '1', 'atleta': '1', 'atlético': '1', 'atolado': '0', 'atoleimado': '-1', 'atónito': '-1', 'atônito': '-1', 'atordoado': '-1', 'atordoador': '-1', 'atormentado': '-1', 'atormentador': '-1', 'atracado': '-1', 'atractivo': '1', 'atraente': '1', 'atraiçoado': '-1', 'atraído': '-1', 'atrapalhado': '-1', 'atrasado': '-1', 'atrasado mental': '-1', 'atrativo': '1', 'atravessadiço': '-1', 'atravessado': '-1', 'atreito': '-1', 'atrelado': '1', 'atrevido': '0', 'atrevidote': '0', 'atribulado': '-1', 'atroador': '-1', 'atrofiado': '-1', 'atrofiante': '-1', 'atropelado': '-1', 'atroz': '-1', 'atulhado': '-1', 'aturdido': '-1', 'audacioso': '0', 'audaz': '0', 'áureo': '1', 'ausente': '-1', 'auspicioso': '1', 'austero': '-1', 'autarca': '0', 'autêntico': '1', 'autista': '-1', 'autoconfiante': '1', 'autocrata': '0', 'autóctone': '0', 'autodestrutivo': '-1', 'autodidacta': '1', 'autonomista': '1', 'autónomo': '1', 'autônomo': '0', 'autoritário': '-1', 'autorizado': '1', 'autosuficiente': '1', 'auxiliado': '0', 'auxiliar': '-1', 'avançado': '1', 'avantajado': '0', 'avarento': '-1', 'avariado': '-1', 'avaro': '-1', 'avassalador': '-1', 'avassalante': '-1', 'aveludado': '1', 'avençado': '0', 'aventurado': '0', 'aventureiro': '0', 'aventuroso': '0', 'averiguador': '0', 'avermelhado': '0', 'averroísta': '0', 'averso': '-1', 'avesso': '-1', 'ávido': '-1', 'aviltado': '-1', 'aviltador': '-1', 'aviltante': '-1', 'avinagrado': '-1', 'avinhado': '-1', 'avisado': '1', 'avulso': '-1', 'axiomático': '1', 'azafamado': '-1', 'azambrado': '-1', 'azarado': '-1', 'azarento': '-1', 'azedo': '-1', 'azeiteiro': '-1', 'azelha': '-1', 'azoinante': '-1', 'azougado': '-1', 'azul': '-1', 'babaca': '-1', 'babado': '-1', 'babão': '-1', 'babilónico': '1', 'baboso': '-1', 'bacano': '1', 'baço para espelho': '-1', 'bacoco': '-1', 'baconiano': '0', 'badalhoco': '-1', 'baderneiro': '-1', 'bagaceiro': '-1', 'bagunceiro': '-1', 'bairrista': '0', 'baita': '1', 'baixote': '-1', 'bajulador': '-1', 'balbuciante': '-1', 'balofo': '-1', 'bambo': '-1', 'banal': '-1', 'banana': '-1', 'bandido': '-1', 'banhado': '0', 'banido': '-1', 'banzado': '-1', 'baralhado': '-1', 'barateiro': '0', 'barato': '-1', 'barbado': '0', 'bárbaro': '-1', 'barbeado': '0', 'barbilongo': '0', 'barbudo': '0', 'barrado': '-1', 'barraqueiro': '-1', 'barrigana': '-1', 'barrigudo': '-1', 'barroco': '-1', 'barulhento': '-1', 'baselga': '-1', 'básico': '-1', 'bastardo': '-1', 'basto': '0', 'batalhador': '1', 'batalhante': '1', 'batateiro': '0', 'batatudo': '-1', 'batido': '-1', 'batoteiro': '-1', 'batuta': '1', 'bazófio': '-1', 'beatificado': '-1', 'beato': '-1', 'bêbado': '-1', 'bêbedo': '-1', 'bebedor': '-1', 'beberrão': '-1', 'bebido': '-1', 'bebum': '-1', 'beiçudo': '-1', 'beijado': '-1', 'beijoqueiro': '0', 'belfo': '-1', 'belicista': '-1', 'bélico': '-1', 'belicoso': '-1', 'beligerante': '0', 'belo': '1', 'bem ataviado': '0', 'bem constituído': '0', 'bem disposto': '1', 'bem vestido': '1', 'bem-amado': '1', 'bem-apessoado': '1', 'bem-aventurado': '1', 'bem-colocado': '1', 'bem-comportado': '1', 'bem-criado': '1', 'bem-educado': '1', 'bem-encarado': '1', 'bem-falante': '1', 'bem-formado': '1', 'bem-humorado': '1', 'bem-intencionado': '1', 'bem-mandado': '0', 'bem-pago': '0', 'bem-parecido': '1', 'bem-pensante': '1', 'bem-posto': '1', 'bem-sucedido': '1', 'bem-vindo': '1', 'bendito': '1', 'beneditino': '0', 'beneficiado': '0', 'beneficiário': '0', 'benéfico': '1', 'benemérito': '1', 'benevolente': '1', 'benévolo': '1', 'benêvolo': '1', 'benfazejo': '1', 'benfeitor': '1', 'benfiquista': '0', 'benigno': '1', 'benquisto': '1', 'bera': '-1', 'bernardo': '-1', 'besta': '-1', 'bestial': '0', 'bestificado': '-1', 'bexiguento': '-1', 'bibliómano': '0', 'bígamo': '0', 'bilingue': '0', 'bilioso': '-1', 'biltre': '-1', 'bimbo': '-1', 'biqueiro': '-1', 'birrento': '-1', 'biruta': '-1', 'bisbilhoteiro': '-1', 'bisonho': '-1', 'bissexual': '0', 'bizarro': '-1', 'blasfemador': '-1', 'blasfemo': '-1', 'blindado': '0', 'bloqueado': '-1', 'boateiro': '-1', 'bobo': '-1', 'boboca': '-1', 'boçal': '-1', 'bochechudo': '-1', 'bocó': '-1', 'boémio': '-1', 'boêmio': '-1', 'bojudo': '-1', 'bolachudo': '-1', 'bolchevique': '0', 'bolchevista': '0', 'bolorento': '-1', 'bom': '1', 'bom aluno': '1', 'bombástico': '-1', 'bombeado': '-1', 'bom-samaritano': '1', 'bonachão': '-1', 'bonacheirão': '0', 'bonacheiro': '0', 'bonapartista': '0', 'bondoso': '1', 'bonito': '1', 'boquiaberto': '-1', 'borbulhento': '-1', 'borguista': '-1', 'borracho': '-1', 'borrachudo': '-1', 'borrado': '-1', 'borralheiro': '0', 'boto': '-1', 'botocudo': '-1', 'brabo': '0', 'braçal': '0', 'braceiro': '1', 'branco': '-1', 'brando': '0', 'bravateador': '-1', 'bravo': '0', 'brega': '-1', 'brejeiro': '-1', 'brejeirote': '-1', 'breve': '1', 'brigador': '-1', 'brigante': '-1', 'brigão': '-1', 'briguento': '-1', 'brilhante': '1', 'brincalhão': '0', 'brioso': '1', 'britânico': '0', 'broeiro': '0', 'bronco': '-1', 'bronzeado': '0', 'brônzeo': '0', 'brotado': '0', 'brunido': '0', 'bruno': '-1', 'brusco': '-1', 'brutal': '-1', 'bruto': '-1', 'bucha': '-1', 'bucólico': '0', 'budista': '0', 'bufo': '-1', 'bulhão': '-1', 'bulhento': '-1', 'buliçoso': '-1', 'burguês': '-1', 'burlado': '-1', 'burlador': '-1', 'burlão': '-1', 'burlesco': '-1', 'burlista': '-1', 'burocrático': '0', 'burro': '-1', 'cabeça dura': '-1', 'cabeçudo': '-1', 'cabeludo': '0', 'cabisbaixo': '-1', 'caboclo': '-1', 'cabotino': '-1', 'cabralino': '0', 'cabrão': '-1', 'cabrito': '0', 'cábula': '-1', 'caçado': '-1', 'cacete': '-1', 'caceteiro': '-1', 'cachaceiro': '-1', 'cadastrado': '-1', 'cadavérico': '-1', 'cadaveroso': '-1', 'cadelo': '-1', 'cadente': '-1', 'caduco': '-1', 'cafeeiro': '0', 'cafezeiro': '0', 'cafona': '-1', 'cafuzo': '0', 'cagão': '-1', 'cagarola': '-1', 'cagativo': '-1', 'caguinchas': '-1', 'caído': '-1', 'caipira': '-1', 'calaceiro': '-1', 'calado': '0', 'calão': '-1', 'calcado': '-1', 'calculista': '-1', 'calejado': '0', 'calhandreiro': '-1', 'calhorda': '-1', 'cálido': '0', 'calino': '-1', 'calipígio': '1', 'calmante': '1', 'calmo': '1', 'caloroso': '1', 'caloteiro': '-1', 'caluniado': '-1', 'caluniador': '-1', 'calvinista': '0', 'calvo': '0', 'camarada': '1', 'cambaleante': '-1', 'camelo': '-1', 'caminhante': '-1', 'caminheiro': '0', 'camoniano': '0', 'campestre': '-1', 'camponês': '-1', 'campónio': '-1', 'canalha': '-1', 'canalizado': '0', 'canceroso': '-1', 'cândido': '0', 'candongueiro': '-1', 'cangalheiro': '-1', 'canhenho': '0', 'canhestro': '-1', 'canho': '0', 'canhoto': '0', 'canibal': '-1', 'canino': '-1', 'canonizado': '0', 'cansado': '-1', 'cansativo': '-1', 'cão': '-1', 'caótico': '-1', 'capacitado': '1', 'capaz': '1', 'capcioso': '-1', 'capenga': '-1', 'capital': '-1', 'capitalista': '1', 'capitoso': '-1', 'caprichoso': '-1', 'caquéctico': '-1', 'caquético': '-1', 'característico': '1', 'caramuleiro': '0', 'caraterístico': '0', 'carbonizado': '-1', 'carcomido': '-1', 'cardeal': '-1', 'careca': '0', 'carecido': '-1', 'careiro': '-1', 'carenciado': '-1', 'carente': '-1', 'caricato': '-1', 'caricioso': '1', 'caridoso': '1', 'carinhoso': '1', 'carismático': '1', 'caritativo': '1', 'carnal': '0', 'carnavalesco': '-1', 'carniceiro': '-1', 'carnívoro': '-1', 'carnudo': '-1', 'caro': '0', 'carola': '1', 'carrancudo': '-1', 'carregado': '-1', 'cartista': '0', 'casadeiro': '0', 'casado': '0', 'casadoiro': '0', 'casamenteiro': '0', 'caseiro': '0', 'casmurro': '-1', 'casquilho': '-1', 'cassado': '0', 'casso': '-1', 'castiço': '1', 'castigado': '-1', 'castigador': '-1', 'casto': '1', 'castrador': '-1', 'cátaro': '0', 'catastrófico': '-1', 'categorial': '-1', 'categórico': '0', 'categorizado': '1', 'catinguento': '-1', 'catita': '0', 'cativante': '1', 'cativo': '-1', 'católico': '0', 'caturra': '-1', 'caucasiano': '-1', 'caudaloso': '0', 'causado': '1', 'causador': '-1', 'causticante': '-1', 'cáustico': '-1', 'cauteloso': '1', 'cauto': '1', 'cavalheiresco': '1', 'cavalheiro': '1', 'cavaqueador': '0', 'cavaquista': '0', 'cavernícola': '-1', 'cavernoso': '-1', 'caviloso': '-1', 'cavo': '-1', 'cedido': '-1', 'cego': '-1', 'cegueta': '-1', 'celebrado': '0', 'célebre': '1', 'celerado': '-1', 'celeste': '1', 'celestial': '1', 'censor': '0', 'censurado': '-1', 'censurador': '0', 'central': '-1', 'centralista': '0', 'centralizado': '-1', 'centralizador': '0', 'centrista': '0', 'cepo': '-1', 'céptico': '0', 'cercado': '-1', 'cérceo': '-1', 'cerebral': '0', 'cerebrino': '0', 'cerimonial': '0', 'cerimonioso': '0', 'cerrado': '0', 'certeiro': '1', 'certificado': '1', 'certo': '1', 'certo nas contas': '1', 'cesarista': '0', 'cético': '0', 'chalaceiro': '-1', 'chalado': '-1', 'chamado': '0', 'chamativo': '1', 'chanfrado': '-1', 'chantagista': '-1', 'chapado': '-1', 'charlatão': '-1', 'charmoso': '1', 'chateado': '-1', 'chato': '-1', 'chauvinista': '-1', 'chazeiro': '0', 'chefiado': '0', 'chegado': '1', 'cheio': '0', 'cheio de nove horas': '-1', 'cheiroso': '1', 'chibante': '-1', 'chicaneiro': '-1', 'chico esperto': '-1', 'chicoteador': '-1', 'chifrudo': '-1', 'chinfrim': '-1', 'chinfrineiro': '-1', 'chique': '1', 'chistoso': '0', 'chocalheiro': '-1', 'chocante': '0', 'chocarreiro': '-1', 'chocho': '-1', 'choco': '-1', 'choné': '-1', 'choramingão': '-1', 'choramingas': '-1', 'chorão': '-1', 'choroso': '-1', 'chulo': '-1', 'chumbado': '-1', 'chunga': '-1', 'chupado': '-1', 'chupador': '-1', 'chupista': '-1', 'ciceroniano': '0', 'cidadão': '0', 'ciente': '1', 'cigano': '-1', 'cilíndrico': '-1', 'cinéfilo': '0', 'cingido': '1', 'cínico': '-1', 'cinza': '0', 'cinzento': '0', 'cioso': '-1', 'circular': '-1', 'circuncidado': '0', 'circunciso': '0', 'circunscrito': '-1', 'circunspecto': '1', 'circunstanciado': '1', 'circunstancial': '0', 'circunstante': '0', 'cismado': '-1', 'cismático': '-1', 'cisterciense': '0', 'citadino': '0', 'citado': '-1', 'ciumento': '-1', 'cívico': '1', 'civilista': '0', 'civilizado': '1', 'clamoroso': '-1', 'clandestino': '-1', 'clarificado': '0', 'clarificador': '1', 'clarista': '0', 'clarividente': '1', 'claro': '1', 'clássico': '1', 'claudicante': '-1', 'clemente': '1', 'cleptomaníaco': '-1', 'cleptómano': '-1', 'clericalista': '0', 'coadjuvante': '0', 'coagido': '-1', 'coartado': '-1', 'cobarde': '-1', 'cobardola': '-1', 'cobardolas': '-1', 'coberto': '-1', 'cobiçado': '0', 'cobiçoso': '-1', 'cocainómano': '-1', 'codificado': '0', 'coercivo': '-1', 'coerente': '1', 'coeso': '1', 'coevo': '1', 'cogitabundo': '-1', 'cogitativo': '-1', 'cognominado': '0', 'coio': '-1', 'coitado': '-1', 'colaboracionista': '-1', 'colado': '-1', 'colante': '1', 'colectado': '-1', 'colectivista': '0', 'colérico': '-1', 'colhido': '-1', 'colocado': '0', 'colonialista': '0', 'coloquial': '0', 'colorido': '0', 'colossal': '0', 'colunável': '0', 'comandante': '0', 'combalido': '-1', 'combatente': '0', 'combativo': '0', 'combinado': '0', 'comedido': '1', 'comedor': '-1', 'comemorado': '-1', 'comentador': '0', 'comentarista': '0', 'comercial': '-1', 'comerciante': '-1', 'comezinho': '0', 'comichento': '-1', 'comichoso': '-1', 'cómico': '0', 'cômico': '-1', 'comido': '-1', 'comilão': '-1', 'comodista': '-1', 'cômodo': '1', 'comovedor': '0', 'comovente': '0', 'comovido': '-1', 'compacto': '-1', 'companheiro': '1', 'comparado': '0', 'comparável': '-1', 'comparsa': '-1', 'compassivo': '1', 'compelido': '-1', 'compenetrado': '0', 'competente': '1', 'competitivo': '0', 'compincha': '1', 'complacente': '1', 'completo': '0', 'complexado': '-1', 'complexo': '-1', 'complicado': '-1', 'comportado': '-1', 'compósito': '0', 'composto': '1', 'comprado': '0', 'compreensível': '1', 'compreensivo': '1', 'comprido': '-1', 'comprometedor': '-1', 'comprometido': '0', 'compromissado': '0', 'compulsivo': '-1', 'compungido': '-1', 'computado': '0', 'comtiano': '0', 'comum': '-1', 'comuna': '-1', 'comunalista': '0', 'comunicativo': '1', 'comunista': '0', 'concebível': '1', 'conceituado': '1', 'conceituoso': '-1', 'concentrado': '-1', 'conceptista': '0', 'conceptualista': '0', 'concernente': '1', 'concertado': '1', 'concho': '-1', 'conciliador': '1', 'conciso': '1', 'concludente': '1', 'concordante': '1', 'concorrente': '-1', 'concorrido': '1', 'concreto': '1', 'concupiscente': '0', 'condenado': '-1', 'condenável': '-1', 'condensado': '0', 'condescendente': '0', 'condicionado': '0', 'condicional': '0', 'condimentado': '1', 'condoído': '-1', 'condoreiro': '-1', 'condutor': '0', 'conduzido': '-1', 'confiado': '0', 'confiante': '1', 'confiável': '1', 'confinado': '0', 'conflituoso': '-1', 'conformado': '-1', 'conformista': '-1', 'confortador': '1', 'confortante': '1', 'confortável': '0', 'confrangedor': '-1', 'confrontado': '-1', 'confundido': '-1', 'confuso': '-1', 'congelado': '-1', 'congestionado': '-1', 'conglomerado': '0', 'congregado': '-1', 'congressista': '0', 'congruente': '1', 'côngruo': '-1', 'conhecedor': '1', 'conhecido': '1', 'conivente': '-1', 'conjugado': '0', 'conjunto': '-1', 'conluiado': '-1', 'conquistador': '0', 'consagrado': '1', 'consciencial': '0', 'consciencioso': '1', 'consciente': '1', 'cônscio': '1', 'conscrito': '0', 'conselheiro': '0', 'consentâneo': '1', 'consequente': '1', 'consertado': '1', 'conservado': '1', 'conservador': '0', 'considerado': '1', 'considerativo': '1', 'considerável': '1', 'consistente': '1', 'consoante': '-1', 'consolado': '0', 'conspícuo': '1', 'conspirador': '-1', 'conspirativo': '-1', 'constante': '1', 'consternado': '-1', 'consternador': '-1', 'constipado': '-1', 'constituído': '1', 'constitutivo': '0', 'constrangedor': '-1', 'constrangido': '-1', 'construtivo': '1', 'consumado': '1', 'consumido': '-1', 'consumidor': '-1', 'consumista': '-1', 'contactável': '0', 'contado': '-1', 'contagiado': '-1', 'contagiante': '-1', 'contagioso': '-1', 'contaminado': '0', 'contemplador': '0', 'contemplativo': '0', 'contemporâneo': '1', 'contemporizador': '0', 'contemporizante': '0', 'contendedor': '-1', 'contendente': '-1', 'contente': '1', 'contestado': '-1', 'contestador': '-1', 'contestante': '-1', 'contido': '-1', 'contíguo': '-1', 'continente': '1', 'contingente': '-1', 'continuador': '0', 'contornado': '-1', 'contracto': '-1', 'contraditório': '-1', 'contraído': '-1', 'contranaturo': '-1', 'contraposto': '-1', 'contrariado': '-1', 'contratado': '0', 'contribuidor': '0', 'contribuinte': '0', 'contristado': '-1', 'contrito': '-1', 'controlado': '1', 'controlador': '-1', 'controverso': '-1', 'controvertido': '-1', 'contumaz': '-1', 'contundente': '-1', 'contundido': '-1', 'contuso': '-1', 'convencido': '0', 'convencionado': '-1', 'convencional': '-1', 'conversadeiro': '0', 'conversado': '0', 'conversador': '0', 'converso': '0', 'convertido': '0', 'convicto': '0', 'convidativo': '1', 'convincente': '1', 'convivente': '1', 'convulsivo': '-1', 'cooperador': '1', 'cooperante': '1', 'cooperativista': '0', 'copto': '0', 'coquete': '-1', 'corado': '0', 'corajoso': '1', 'corcovado': '-1', 'corcunda': '-1', 'cordato': '1', 'cordeiro': '0', 'cordial': '1', 'cornudo': '-1', 'cornuto': '-1', 'corporal': '-1', 'corporativista': '0', 'corpulento': '0', 'correcto': '1', 'correto': '1', 'corrido': '-1', 'corriqueiro': '-1', 'corrompido': '-1', 'corrosivo': '-1', 'corruptível': '-1', 'corruptivo': '-1', 'corrupto': '-1', 'corruptor': '-1', 'cortado': '-1', 'cortejado': '0', 'cortês': '1', 'cortesão': '1', 'coruja': '0', 'coscuvilheiro': '-1', 'cósmico': '0', 'cosmopolita': '1', 'cosmopolítico': '1', 'costumado': '0', 'costumeiro': '1', 'cotado': '1', 'covarde': '-1', 'coxo': '-1', 'crápula': '-1', 'crapuloso': '-1', 'craque': '1', 'crasso': '-1', 'cravado': '-1', 'cravejado': '-1', 'credível': '1', 'credor': '1', 'crédulo': '0', 'crente': '0', 'crescido': '1', 'crescidote': '0', 'cretino': '-1', 'cretinóide': '-1', 'criacionista': '0', 'criador': '1', 'criativo': '1', 'criminoso': '-1', 'crioulo': '0', 'críptico': '-1', 'cris': '-1', 'crisólogo': '1', 'crisóstomo': '1', 'crispado': '-1', 'cristalino': '1', 'cristão': '0', 'criterioso': '1', 'criticável': '-1', 'criticista': '0', 'crítico': '0', 'crivado': '-1', 'crível': '1', 'cromo': '-1', 'crônico': '0', 'cru': '-1', 'crucial': '0', 'crucificador': '-1', 'cruel': '-1', 'cruzado': '-1', 'cubista': '0', 'cuidado': '1', 'cuidadoso': '1', 'culpado': '-1', 'culposo': '-1', 'cultivado': '1', 'culto': '1', 'cúmplice': '0', 'cumpridor': '1', 'curado': '1', 'curandeiro': '-1', 'curativo': '0', 'curial': '1', 'curioso': '0', 'curtido': '1', 'curto': '0', 'curto de vistas': '-1', 'curvado': '-1', 'curvilíneo': '-1', 'curvo': '-1', 'cuspido': '-1', 'custoso': '0', 'czarista': '0', 'dadaísta': '0', 'dadivoso': '1', 'dado': '0', 'daltónico': '-1', 'danado': '-1', 'danificado': '-1', 'danoso': '-1', 'dardejante': '0', 'darwinista': '0', 'deambulante': '-1', 'debandado': '-1', 'debatido': '-1', 'débil': '-1', 'debilitado': '-1', 'debochado': '-1', 'decadente': '-1', 'decadentista': '-1', 'decaído': '-1', 'decantado': '-1', 'decente': '1', 'decepado': '-1', 'decepcionado': '-1', 'decepcionante': '-1', 'decidido': '1', 'decisivo': '0', 'declarado': '0', 'decorado': '-1', 'decoroso': '1', 'decrépito': '-1', 'dedicado': '1', 'deduzido': '0', 'defeituoso': '-1', 'defensor': '1', 'deferente': '1', 'deferido': '1', 'defeso': '-1', 'defesso': '-1', 'deficiente': '-1', 'definhado': '-1', 'definido': '0', 'deformado': '-1', 'defunto': '-1', 'degenerado': '-1', 'degradado': '-1', 'degradante': '-1', 'degredado': '-1', 'deicida': '-1', 'deísta': '0', 'deitado': '-1', 'deixado': '0', 'delambido': '-1', 'delegado': '-1', 'deleitado': '-1', 'deleitoso': '1', 'deletério': '-1', 'delgado': '0', 'deliberado': '1', 'delicado': '1', 'deliciado': '-1', 'delicioso': '1', 'delimitado': '-1', 'delineado': '-1', 'delinquente': '-1', 'delirante': '-1', 'delituoso': '-1', 'demagógico': '-1', 'demagogo': '-1', 'demarcado': '-1', 'demente': '-1', 'demérito': '-1', 'demitido': '-1', 'democrata': '0', 'democrata-cristão': '0', 'democrático': '1', 'démodé': '-1', 'demolidor': '-1', 'demoníaco': '-1', 'demonstrativo': '1', 'demorado': '-1', 'denegrido': '-1', 'dengoso': '-1', 'denodado': '1', 'denominado': '1', 'denso': '-1', 'depauperado': '-1', 'depenado': '-1', 'dependente': '-1', 'dependurado': '-1', 'depilado': '0', 'deplorável': '-1', 'deportado': '-1', 'deposto': '-1', 'depravado': '-1', 'depravador': '-1', 'depreciado': '-1', 'depreciativo': '-1', 'depressivo': '-1', 'depressor': '-1', 'deprimente': '-1', 'deprimido': '-1', 'depurado': '0', 'deputado': '0', 'derivado': '-1', 'derramado': '-1', 'derreado': '-1', 'derretido': '-1', 'derrotado': '-1', 'derrotista': '-1', 'derrubado': '-1', 'desabafado': '1', 'desabitado': '-1', 'desabonado': '-1', 'desabrido': '-1', 'desabrigado': '-1', 'desabusado': '-1', 'desacompanhado': '-1', 'desacordado': '-1', 'desacreditado': '-1', 'desactualizado': '-1', 'desadaptado': '-1', 'desafectado': '1', 'desafecto': '-1', 'desafeto': '-1', 'desafiado': '-1', 'desafiador': '0', 'desafiante': '0', 'desafinado': '-1', 'desafogado': '1', 'desaforado': '-1', 'desaforido': '-1', 'desafortunado': '-1', 'desagradado': '-1', 'desagradável': '-1', 'desagradecido': '-1', 'desairoso': '-1', 'desajeitado': '-1', 'desajustado': '-1', 'desalentado': '-1', 'desalinhado': '-1', 'desalmado': '-1', 'desalojado': '-1', 'desamparado': '-1', 'desanimado': '-1', 'desanimador': '-1', 'desapaixonado': '-1', 'desaparafusado': '-1', 'desaparecido': '-1', 'desaparelhado': '-1', 'desapegado': '-1', 'desapiedado': '-1', 'desapontado': '-1', 'desapontador': '-1', 'desapossado': '-1', 'desapropriado': '-1', 'desaprovador': '-1', 'desaproveitado': '-1', 'desarmado': '-1', 'desarmante': '1', 'desarranjado': '-1', 'desarrazoado': '-1', 'desarrumado': '-1', 'desarticulado': '-1', 'desassisado': '-1', 'desassombrado': '0', 'desassossegado': '-1', 'desastrado': '-1', 'desastroso': '-1', 'desatado': '0', 'desatento': '-1', 'desatinado': '-1', 'desaustinado': '-1', 'desavergonhado': '-1', 'desavisado': '-1', 'desbaratado': '-1', 'desbaratador': '-1', 'desbocado': '-1', 'desbotado': '-1', 'desbragado': '-1', 'desbravador': '0', 'descabelado': '-1', 'descabido': '-1', 'descadeirado': '-1', 'descalço': '-1', 'descamisado': '-1', 'descansado': '0', 'descarado': '-1', 'descarnado': '-1', 'descasado': '0', 'descascado': '-1', 'descautelado': '-1', 'descendente': '-1', 'descente': '0', 'descerimonioso': '1', 'descerrado': '-1', 'desclassificado': '-1', 'descoberto': '1', 'descobridor': '0', 'descolado': '0', 'descomedido': '-1', 'descomplexado': '1', 'descomposto': '0', 'descomprometido': '0', 'descompromissado': '0', 'descomunal': '-1', 'desconcentrado': '-1', 'desconcertado': '-1', 'desconexo': '-1', 'desconfiado': '-1', 'desconfortável': '-1', 'desconhecedor': '-1', 'desconhecido': '-1', 'desconsiderado': '0', 'desconsolado': '-1', 'descontente': '-1', 'descontínuo': '-1', 'descontraído': '1', 'descontrolado': '-1', 'descoordenado': '-1', 'descorado': '-1', 'descoroçoado': '-1', 'descortês': '-1', 'descrente': '0', 'descrito': '-1', 'descuidado': '-1', 'desculpado': '0', 'desculpável': '0', 'desdenhoso': '-1', 'desdentado': '-1', 'desdito': '-1', 'desditoso': '-1', 'desejado': '0', 'desejável': '1', 'desejoso': '-1', 'deselegante': '-1', 'desembaraçado': '1', 'desemparelhado': '-1', 'desempenado': '1', 'desempregado': '-1', 'desencadeado': '0', 'desencalhado': '0', 'desencaminhado': '-1', 'desencaminhador': '-1', 'desencantado': '0', 'desencontrado': '-1', 'desenganado': '1', 'desengonçado': '-1', 'desengraçado': '-1', 'desenrascado': '1', 'desenterrado': '1', 'desenvencilhado': '1', 'desenvolto': '1', 'desenvolvido': '1', 'desenxabido': '-1', 'desequilibrado': '-1', 'deserto': '-1', 'desertor': '-1', 'desesperado': '-1', 'desesperançado': '-1', 'desestabilizador': '-1', 'desfalcado': '0', 'desfalecido': '-1', 'desfavorável': '-1', 'desfavorecido': '-1', 'desfeito': '-1', 'desfigurado': '-1', 'desfolhado': '0', 'desfrutado': '1', 'desgarrado': '-1', 'desgastado': '-1', 'desgastante': '0', 'desgostoso': '-1', 'desgovernado': '-1', 'desgraçado': '-1', 'desgracioso': '-1', 'desgrenhado': '-1', 'designado': '-1', 'designador': '1', 'designativo': '1', 'desigual': '-1', 'desiludido': '-1', 'desimpedido': '0', 'desinfeliz': '-1', 'desinformado': '-1', 'desinibido': '1', 'desinstruído': '-1', 'desinteressado': '-1', 'desinteressante': '-1', 'deslambido': '-1', 'deslavado': '-1', 'desleal': '-1', 'desleixado': '-1', 'desligado': '-1', 'deslocado': '-1', 'deslumbrado': '-1', 'deslumbrante': '1', 'desmaiado': '-1', 'desmanchado': '-1', 'desmantelado': '-1', 'desmarcado': '-1', 'desmazelado': '-1', 'desmedido': '-1', 'desmembrado': '0', 'desmemoriado': '-1', 'desmentido': '-1', 'desmesurado': '-1', 'desmiolado': '-1', 'desmontado': '-1', 'desmoralizado': '-1', 'desmoralizador': '-1', 'desmotivado': '-1', 'desmotivador': '-1', 'desnaturado': '-1', 'desnaturalizado': '0', 'desnorteado': '-1', 'desnudado': '0', 'desnudo': '0', 'desobediente': '-1', 'desobrigado': '0', 'desocupado': '-1', 'desolado': '-1', 'desolador': '-1', 'desolhado': '-1', 'desonesto': '-1', 'desonrado': '-1', 'desonroso': '-1', 'desoprimido': '0', 'desordeiro': '-1', 'desordenado': '-1', 'desorganizado': '-1', 'desorientado': '-1', 'despachado': '1', 'despassarado': '-1', 'despedaçado': '0', 'despedido': '0', 'despegado': '0', 'despeitado': '-1', 'despeitorado': '-1', 'despejado': '-1', 'despenteado': '-1', 'despercebido': '-1', 'desperdiçado': '-1', 'desperdiçador': '-1', 'desperto': '1', 'despesista': '-1', 'despido': '0', 'despirocado': '-1', 'despistado': '-1', 'despojado': '0', 'despótico': '-1', 'despregado': '-1', 'desprendido': '0', 'despreocupado': '0', 'despreparado': '0', 'despretensioso': '1', 'desprevenido': '-1', 'desprezado': '-1', 'desprezável': '-1', 'desprezível': '-1', 'desprimoroso': '-1', 'desproporcionado': '-1', 'despropositado': '-1', 'desprotegido': '-1', 'desprovido': '0', 'despudorado': '-1', 'desqualificado': '-1', 'desquitado': '0', 'desregrado': '-1', 'desregulado': '-1', 'desremediado': '-1', 'desrespeitado': '-1', 'desrespeitador': '-1', 'desrespeitoso': '-1', 'dessexuado': '0', 'destabilizador': '-1', 'destacado': '-1', 'destampado': '-1', 'destapado': '-1', 'destemido': '1', 'destemperado': '-1', 'desterrado': '-1', 'destinado': '1', 'destituído': '0', 'destoante': '-1', 'destorcido': '1', 'destrambelhado': '-1', 'destratado': '-1', 'destravado': '-1', 'destro': '0', 'destroçado': '-1', 'destruído': '-1', 'destruidor': '-1', 'destrutivo': '-1', 'destrutor': '-1', 'desumano': '-1', 'desunido': '0', 'desusado': '-1', 'desvairado': '-1', 'desvalido': '-1', 'desvanecido': '0', 'desvariado': '-1', 'desvelado': '1', 'desvendado': '0', 'desventurado': '-1', 'desventuroso': '-1', 'desviado': '0', 'desvirtuado': '-1', 'desvitalizado': '-1', 'detalhado': '1', 'deteriorado': '-1', 'determinado': '1', 'determinante': '-1', 'determinista': '0', 'detestado': '-1', 'detestável': '-1', 'detido': '-1', 'detrator': '-1', 'deturpado': '-1', 'devaneador': '-1', 'devassado': '-1', 'devasso': '-1', 'devastado': '-1', 'devastador': '-1', 'devorador': '-1', 'devotado': '0', 'devoto': '0', 'devoto de Baco': '-1', 'dextrímano': '0', 'diabólico': '-1', 'diáfano': '1', 'dialogante': '1', 'diamante': '-1', 'difamado': '-1', 'difamador': '-1', 'difamatório': '-1', 'diferençado': '0', 'diferenciado': '1', 'diferente': '0', 'difícil': '-1', 'difundido': '-1', 'difuso': '-1', 'digno': '1', 'digno de confiança': '1', 'digressionista': '-1', 'digressivo': '-1', 'dilacerado': '-1', 'dilatado': '0', 'diletante': '0', 'diligente': '1', 'diminuído': '-1', 'diminuto': '0', 'dinâmico': '1', 'dinamizador': '1', 'diplomado': '0', 'diplomático': '1', 'directo': '0', 'director': '0', 'direito': '1', 'direito de contas': '1', 'direto': '-1', 'diretor': '1', 'dirigente': '1', 'dirigido': '0', 'disciplinado': '1', 'disciplinador': '0', 'díscolo': '-1', 'discordante': '-1', 'discreto': '1', 'discricionário': '-1', 'discriminado': '-1', 'discriminador': '-1', 'discursivo': '0', 'discutido': '-1', 'disfarçado': '-1', 'disforme': '-1', 'disléxico': '-1', 'disparatado': '-1', 'dispensado': '0', 'dispensável': '-1', 'dispersivo': '-1', 'disperso': '-1', 'displicente': '-1', 'disponível': '0', 'disposto': '1', 'disputado': '-1', 'disseminado': '-1', 'dissidente': '-1', 'dissimulado': '-1', 'dissipado': '-1', 'dissipador': '-1', 'dissoluto': '-1', 'dissolvente': '-1', 'dissolvido': '-1', 'distanciado': '-1', 'distante': '-1', 'distinguido': '0', 'distintivo': '0', 'distinto': '1', 'distorcido': '-1', 'distraído': '-1', 'ditador': '-1', 'ditoso': '1', 'divagador': '-1', 'divagante': '-1', 'diversificado': '-1', 'divertido': '1', 'dividido': '0', 'divinal': '1', 'divino': '1', 'divo': '0', 'divorciado': '0', 'divulgador': '0', 'dizimado': '-1', 'dobradiço': '0', 'dobrado': '-1', 'doce': '1', 'dócil': '1', 'documentado': '1', 'doente': '-1', 'doentio': '-1', 'dogmático': '-1', 'dogmatista': '-1', 'doidivanas': '-1', 'doido': '-1', 'doido de todo': '-1', 'doido varrido': '-1', 'dolente': '-1', 'dolorido': '-1', 'doloso': '-1', 'domado': '0', 'domesticado': '1', 'doméstico': '0', 'domiciliado': '0', 'dominado': '-1', 'dominador': '0', 'dominante': '1', 'domingueiro': '0', 'dominicano': '0', 'domínico': '0', 'donairoso': '1', 'donatista': '0', 'donzel': '0', 'dopado': '-1', 'dorido': '-1', 'dormente': '-1', 'dorminhoco': '-1', 'dotado': '1', 'doudo': '-1', 'dourado': '0', 'douto': '1', 'doutrinado': '1', 'doutrinador': '0', 'draconiano': '-1', 'dramático': '-1', 'drástico': '-1', 'drogado': '-1', 'dromomaníaco': '-1', 'dualista': '0', 'dúbio': '-1', 'dubitativo': '-1', 'dublado': '-1', 'duplicado': '-1', 'dúplice': '-1', 'durázio': '1', 'duro': '-1', 'duro da mioleira': '-1', 'duro de ouvido': '-1', 'duvidoso': '-1', 'ébrio': '0', 'ecléctico': '1', 'ecológico': '1', 'económico': '1', 'econômico': '1', 'economizador': '1', 'edificante': '1', 'edipiano': '0', 'educado': '1', 'educador': '0', 'educativo': '1', 'educável': '0', 'efémero': '-1', 'efêmero': '-1', 'efeminado': '-1', 'efervescente': '-1', 'efetivo': '1', 'eficaz': '1', 'eficiente': '1', 'efusivo': '1', 'egocêntrico': '0', 'egoísta': '-1', 'egotista': '-1', 'egrégio': '1', 'elástico': '1', 'electrizante': '1', 'elegante': '1', 'elegíaco': '-1', 'elegido': '0', 'elegível': '0', 'eleiçoeiro': '0', 'eleito': '0', 'elevado': '0', 'elitista': '-1', 'elogiado': '-1', 'elogioso': '1', 'eloquente': '1', 'elucidativo': '1', 'emaciado': '-1', 'emancipado': '0', 'emaranhado': '-1', 'embaçado': '-1', 'embaciado': '-1', 'embaraçado': '-1', 'embasbacado': '-1', 'embatucado': '-1', 'embebido': '0', 'embeiçado': '0', 'embevecido': '-1', 'embirrante': '-1', 'embirrento': '-1', 'emblemático': '1', 'embotado': '-1', 'embriagado': '-1', 'embrulhado': '-1', 'embruxado': '-1', 'embuçado': '-1', 'embuchado': '-1', 'emburrado': '-1', 'embusteiro': '-1', 'embutido': '0', 'emérito': '1', 'emigrado': '-1', 'emigrante': '-1', 'eminente': '1', 'emissário': '-1', 'emocionado': '-1', 'emocional': '0', 'emocionante': '-1', 'emotivo': '0', 'empacotado': '-1', 'empáfio': '-1', 'empalidecido': '-1', 'empalmado': '-1', 'empanturrado': '-1', 'empapado': '0', 'empapuçado': '-1', 'emparedado': '0', 'empatado': '-1', 'empedernido': '-1', 'empenhado': '1', 'emperrado': '-1', 'empertigado': '-1', 'empinado': '0', 'empírico': '0', 'empirista': '0', 'empobrecido': '-1', 'empoeirado': '-1', 'empolado': '-1', 'empoleirado': '0', 'empolgado': '1', 'empolgante': '0', 'emporcalhado': '-1', 'empreendedor': '1', 'empregado': '0', 'emproado': '-1', 'empurrado': '-1', 'emulador': '-1', 'êmulo': '-1', 'enaltecido': '0', 'enamorado': '1', 'encabeçado': '-1', 'encabulado': '-1', 'encaixado': '0', 'encalacrado': '-1', 'encalhado': '-1', 'encamado': '-1', 'encaminhado': '1', 'encanado': '-1', 'encanecido': '0', 'encantado': '0', 'encantador': '1', 'encapotado': '0', 'encapuçado': '0', 'encarado': '0', 'encarapinhado': '1', 'encarapuçado': '0', 'encarcerado': '-1', 'encarnado': '0', 'encarniçado': '-1', 'encarrapitado': '0', 'encarregado': '0', 'encartado': '0', 'encasacado': '0', 'encavacado': '-1', 'encenado': '0', 'encetado': '-1', 'enchapelado': '0', 'encharcado': '0', 'enciumado': '-1', 'enclausurado': '-1', 'encoberto': '-1', 'encolerizado': '-1', 'encolhido': '-1', 'encontrado': '-1', 'encorajado': '1', 'encorajador': '1', 'encorpado': '0', 'encostado': '0', 'encovado': '-1', 'encruado': '-1', 'encurralado': '-1', 'encurvado': '-1', 'endemoniado': '-1', 'endemoninhado': '-1', 'endiabrado': '-1', 'endinheirado': '1', 'endividado': '-1', 'endurecido': '-1', 'enérgico': '1', 'enervado': '-1', 'enervante': '-1', 'enfadado': '-1', 'enfadonho': '-1', 'enfardador': '-1', 'enfarpelado': '0', 'enfarruscado': '0', 'enfartado': '-1', 'enfastiado': '-1', 'enfastiante': '-1', 'enfático': '0', 'enfatuado': '-1', 'enfeitado': '0', 'enfeitiçado': '-1', 'enfermiço': '-1', 'enfezado': '-1', 'enfiado': '-1', 'enfraquecido': '-1', 'enfrascado': '-1', 'enfrentado': '0', 'enfronhado': '1', 'enfunado': '-1', 'enfurecido': '-1', 'engaiolado': '-1', 'enganado': '-1', 'enganador': '-1', 'enganoso': '-1', 'engarrafado': '-1', 'engasgado': '-1', 'engatado': '-1', 'engenhoso': '0', 'englobado': '0', 'engodado': '-1', 'engolfado': '-1', 'engolido': '-1', 'engraçado': '1', 'engravatado': '0', 'engripado': '0', 'engrupido': '-1', 'enigmático': '-1', 'enjeitado': '-1', 'enjoado': '-1', 'enlaçado': '-1', 'enlameado': '0', 'enleado': '-1', 'enlevado': '-1', 'enlouquecido': '-1', 'enlutado': '-1', 'enófilo': '0', 'enojado': '-1', 'enorme': '0', 'enrabichado': '0', 'enraivecido': '-1', 'enraizado': '1', 'enrascado': '-1', 'enredado': '-1', 'enregelado': '-1', 'enresinado': '-1', 'enrijecido': '-1', 'enriquecido': '1', 'enrodilhador': '-1', 'enrolado': '-1', 'enroupado': '0', 'enrubescido': '0', 'enrugado': '-1', 'ensacado': '-1', 'ensaiado': '-1', 'ensanguentado': '-1', 'ensangüentado': '-1', 'ensimesmado': '-1', 'ensinado': '0', 'ensolarado': '1', 'ensonado': '0', 'ensopado': '0', 'ensurdecedor': '-1', 'entalado': '-1', 'entaramelado': '-1', 'enteado': '-1', 'entediado': '-1', 'entediante': '-1', 'entendido': '1', 'enternecedor': '1', 'enternecido': '1', 'enterrado': '0', 'entoado': '1', 'entontecido': '-1', 'entornado': '-1', 'entorpecido': '-1', 'entortado': '-1', 'entradote': '0', 'entrançado': '0', 'entranhado': '1', 'entrecortado': '-1', 'entregador': '-1', 'entregue': '0', 'entremeado': '-1', 'entretecido': '-1', 'entretido': '-1', 'entrevado': '-1', 'entristecido': '-1', 'entroncado': '0', 'entubado': '-1', 'entulhado': '-1', 'entusiasmado': '0', 'entusiasmante': '1', 'entusiasta': '1', 'entusiástico': '1', 'enumerado': '0', 'envaidecido': '-1', 'envelhecido': '-1', 'envenenador': '-1', 'envergado': '-1', 'envergonhado': '-1', 'enviado': '0', 'enviesado': '-1', 'envinagrado': '-1', 'envolto': '-1', 'envolvente': '0', 'envolvido': '-1', 'enxerido': '-1', 'enxofrado': '-1', 'enxovalhado': '-1', 'enxuto': '1', 'épico': '1', 'epicurista': '0', 'epigramático': '-1', 'epilético': '-1', 'equânime': '1', 'equilibrado': '1', 'equipado': '0', 'equitativo': '1', 'eqüitativo': '1', 'equivalente': '0', 'equivocado': '-1', 'equívoco': '-1', 'erecto': '0', 'ereto': '-1', 'ermo': '-1', 'erótico': '0', 'erotomaníaco': '-1', 'errado': '-1', 'errante': '-1', 'errático': '-1', 'erróneo': '0', 'erudito': '1', 'esbaforido': '-1', 'esbanjado': '-1', 'esbanjador': '-1', 'esbatido': '-1', 'esbelto': '1', 'esboçado': '-1', 'esborratado': '-1', 'esbulhado': '0', 'esburacado': '0', 'escabelado': '-1', 'escabroso': '-1', 'escaldado': '-1', 'escaldante': '-1', 'escalvado': '0', 'escamado': '-1', 'escamoso': '-1', 'escamoteado': '0', 'escancarado': '-1', 'escandaloso': '-1', 'escangalhado': '-1', 'escanhoado': '0', 'escanifrado': '-1', 'escanzelado': '-1', 'escapadiço': '-1', 'escape': '-1', 'escapo': '-1', 'escarnecedor': '-1', 'escarnecido': '-1', 'escarninho': '-1', 'escarranchado': '0', 'escarrapachado': '-1', 'escavacado': '-1', 'escaveirado': '-1', 'esclarecedor': '1', 'esclarecido': '1', 'esclerosado': '-1', 'esclerótico': '-1', 'escolado': '0', 'escolarizado': '1', 'escolástico': '0', 'escolhido': '0', 'escondido': '-1', 'esconso': '-1', 'escorado': '1', 'escoriado': '-1', 'escorraçado': '-1', 'escorregadio': '-1', 'escorreito': '1', 'escoteiro': '0', 'escrachado': '-1', 'escravizado': '-1', 'escravo': '1', 'escrupuloso': '1', 'esculachado': '-1', 'esculpido': '-1', 'escultural': '1', 'escuro': '-1', 'escusado': '-1', 'escuso': '-1', 'escutista': '0', 'esdrúxulo': '-1', 'esfaimado': '-1', 'esfalfado': '-1', 'esfarrapado': '-1', 'esférico': '-1', 'esfíngico': '-1', 'esfomeado': '-1', 'esforçado': '1', 'esfuziante': '1', 'esgalgado': '-1', 'esganado': '-1', 'esganiçado': '-1', 'esgazeado': '-1', 'esgotado': '-1', 'esgotante': '-1', 'esgrouviado': '-1', 'esguedelhado': '-1', 'esguio': '0', 'esmagado': '-1', 'esmagador': '0', 'esmerado': '1', 'esmiuçado': '1', 'esmoler': '1', 'esmorecido': '-1', 'esotérico': '0', 'espadaúdo': '0', 'espalhado': '-1', 'espalhafatoso': '-1', 'espalmado': '-1', 'espampanante': '-1', 'espancado': '-1', 'espantado': '-1', 'espantoso': '0', 'esparramado': '-1', 'espartano': '0', 'espatifado': '-1', 'espaventoso': '0', 'espavorido': '-1', 'especado': '-1', 'especial': '1', 'especialista': '0', 'especioso': '0', 'espectacular': '1', 'espectador': '0', 'espectral': '1', 'esperado': '1', 'esperançado': '1', 'esperançoso': '1', 'espertalhão': '-1', 'esperto': '0', 'espetacular': '1', 'espetaculoso': '0', 'espetado': '-1', 'espevitado': '0', 'espezinhado': '-1', 'espigado': '0', 'espigadote': '0', 'espinhento': '-1', 'espinhoso': '-1', 'espiritista': '0', 'espiritual': '0', 'espiritualista': '0', 'espirituoso': '1', 'esplendente': '1', 'esplêndido': '1', 'esplendoroso': '1', 'espoliado': '0', 'espontâneo': '1', 'espremido': '-1', 'espúrio': '-1', 'esquálido': '-1', 'esquecediço': '-1', 'esquecido': '-1', 'esquelético': '-1', 'esquentado': '-1', 'esquerdino': '0', 'esquerdista': '0', 'esquerdo': '0', 'esquerdóide': '-1', 'esquinado': '-1', 'esquisito': '-1', 'esquivo': '-1', 'esquizofrénico': '-1', 'esquizóide': '-1', 'essénio': '0', 'estabanado': '-1', 'estabelecido': '-1', 'estacado': '-1', 'estacionado': '-1', 'estafado': '-1', 'estagnado': '-1', 'estalado': '-1', 'estalinista': '0', 'estampado': '-1', 'estancado': '-1', 'estanhado': '-1', 'estapafúrdio': '-1', 'estarola': '-1', 'estarrecido': '-1', 'estatelado': '-1', 'estático': '0', 'estavanado': '-1', 'estável': '1', 'estendido': '-1', 'estentóreo': '0', 'estentórico': '0', 'estereotipado': '-1', 'estéril': '-1', 'esticado': '-1', 'estigmatizado': '-1', 'estilhaçado': '0', 'estilizado': '-1', 'estiloso': '-1', 'estimado': '1', 'estimável': '1', 'estimulado': '0', 'estimulante': '0', 'estirado': '-1', 'estóico': '-1', 'estoirado': '-1', 'estonteado': '-1', 'estonteante': '-1', 'estourado': '-1', 'estouvado': '-1', 'estrábico': '-1', 'estragado': '-1', 'estrambólico': '-1', 'estrambótico': '-1', 'estrangeirado': '-1', 'estrangeiro': '-1', 'estrangulado': '-1', 'estranho': '-1', 'estreante': '-1', 'estreito': '0', 'estremunhado': '-1', 'estrénuo': '1', 'estribado': '1', 'estricto': '1', 'estridente': '-1', 'estrito': '-1', 'estroina': '-1', 'estropiado': '-1', 'estruturado': '0', 'estudado': '0', 'estudioso': '1', 'estulto': '-1', 'estupefaciente': '-1', 'estupefacto': '-1', 'estupefato': '-1', 'estupendo': '1', 'estúpido': '-1', 'estuporado': '-1', 'estuprado': '-1', 'esvaziado': '-1', 'etéreo': '1', 'eterno': '1', 'etilizado': '-1', 'eufónico': '1', 'eufórico': '1', 'eugenista': '0', 'eunuco': '-1', 'eurocéptico': '0', 'europeísta': '0', 'europeizado': '0', 'evaporado': '-1', 'evasivo': '-1', 'exacerbado': '-1', 'exagerado': '-1', 'exalado': '-1', 'exaltado': '-1', 'examinado': '-1', 'exangue': '-1', 'exasperado': '-1', 'exato': '1', 'exausto': '-1', 'excelente': '1', 'excelso': '1', 'excêntrico': '0', 'excepcional': '1', 'excessivo': '-1', 'excitado': '0', 'excitante': '1', 'excitável': '0', 'excluído': '-1', 'excomungado': '-1', 'execrado': '-1', 'execrável': '-1', 'executado': '-1', 'executável': '0', 'executivo': '1', 'executor': '1', 'exemplar': '1', 'exercitado': '-1', 'exibicionista': '-1', 'exibido': '-1', 'exigente': '0', 'exíguo': '0', 'exilado': '-1', 'eximido': '-1', 'exímio': '1', 'existencialista': '0', 'exonerado': '-1', 'exotérico': '-1', 'exótico': '-1', 'expansionista': '0', 'expansivo': '1', 'expatriado': '-1', 'expedido': '0', 'expeditivo': '1', 'expedito': '1', 'expelido': '-1', 'experiente': '1', 'experimentado': '1', 'experto': '1', 'expirado': '-1', 'explicado': '1', 'explicativo': '0', 'explícito': '0', 'explorado': '1', 'explorador': '-1', 'explosivo': '-1', 'exposto': '0', 'expressionista': '0', 'expressivo': '1', 'expropriado': '-1', 'expulso': '-1', 'expurgado': '-1', 'extasiado': '0', 'extático': '-1', 'extemporâneo': '-1', 'extensivo': '-1', 'extenso': '0', 'extenuado': '-1', 'extenuante': '-1', 'extraído': '-1', 'extraordinário': '1', 'extravagante': '-1', 'extraviado': '-1', 'extremado': '1', 'extremista': '-1', 'extremo': '-1', 'extremoso': '1', 'extrovertido': '1', 'exuberante': '0', 'exultante': '1', 'exumado': '1', 'fabricado': '1', 'fabricante': '0', 'fabuloso': '1', 'façanhudo': '-1', 'faccioso': '-1', 'faceiro': '1', 'faceto': '1', 'fácil': '0', 'facínora': '-1', 'facinoroso': '-1', 'factível': '0', 'factual': '1', 'facundo': '0', 'fadado': '-1', 'fadigado': '-1', 'falacioso': '-1', 'falado': '1', 'falador': '0', 'falansteriano': '0', 'falante': '1', 'falecido': '0', 'falhado': '-1', 'falho': '-1', 'falido': '-1', 'falível': '-1', 'falseta': '-1', 'falsificado': '1', 'falso': '-1', 'falto': '-1', 'faltoso': '-1', 'famélico': '-1', 'famigerado': '0', 'familiar': '0', 'familiarizado': '-1', 'faminto': '-1', 'famoso': '1', 'fanático': '-1', 'fanfarrão': '-1', 'fanho': '-1', 'fanhoso': '-1', 'fantasiado': '-1', 'fantasioso': '1', 'fantasista': '-1', 'fantasmagórico': '0', 'fantástico': '1', 'fareleiro': '-1', 'farfalhudo': '0', 'farisaico': '-1', 'fariseu': '-1', 'farrista': '-1', 'farronqueiro': '-1', 'farsante': '-1', 'farsista': '-1', 'farsola': '-1', 'farto': '0', 'fascinado': '-1', 'fascinante': '1', 'fascista': '-1', 'fastidioso': '-1', 'fatal': '-1', 'fatalista': '-1', 'fatigado': '-1', 'fatigante': '-1', 'fátuo': '-1', 'favorável': '1', 'favorecido': '1', 'febril': '-1', 'fechado': '-1', 'fecundo': '1', 'federalista': '0', 'fedorento': '-1', 'feio': '-1', 'feiticeiro': '1', 'feiticista': '-1', 'feitiço': '-1', 'feito': '1', 'felino': '-1', 'feliz': '1', 'felizardo': '1', 'femeeiro': '-1', 'feniano': '0', 'fenomenal': '1', 'ferido': '-1', 'ferino': '-1', 'fermentado': '1', 'fero': '-1', 'feroz': '-1', 'ferrado': '-1', 'ferrenho': '-1', 'férreo': '-1', 'fértil': '1', 'fertilizado': '0', 'fervoroso': '0', 'fescenino': '-1', 'festeiro': '0', 'festejado': '-1', 'festivo': '1', 'fetichista': '-1', 'feudalista': '0', 'fiador': '1', 'fiável': '1', 'ficcional': '1', 'ficcionista': '0', 'fictício': '-1', 'fidalgo': '0', 'fidedigno': '1', 'fiel': '1', 'figadal': '0', 'figurado': '-1', 'figurista': '0', 'filadelfo': '0', 'filantrópico': '1', 'filantropo': '1', 'filho': '0', 'filho da puta': '-1', 'filosofante': '0', 'filosófico': '0', 'filósofo': '0', 'finado': '-1', 'finalista': '0', 'fincado': '-1', 'fingido': '-1', 'fingidor': '-1', 'finito': '-1', 'finlandês': '0', 'fino': '0', 'finório': '-1', 'firmado': '-1', 'firme': '1', 'fiscal': '0', 'fiscalizado': '1', 'fisgado': '-1', 'fisicista': '0', 'físico': '-1', 'fissurado': '-1', 'fiteiro': '-1', 'fitinhas': '-1', 'fitófago': '0', 'fiúza': '-1', 'fixado': '-1', 'fixe': '1', 'fixista': '0', 'fixo': '0', 'flácido': '0', 'flagelado': '-1', 'flagelante': '-1', 'flamante': '0', 'flamejante': '0', 'flatulento': '-1', 'flébil': '-1', 'fleumático': '0', 'flexível': '1', 'florescente': '1', 'fluente': '1', 'fluido': '1', 'fodido': '-1', 'fofo': '1', 'fofoqueiro': '-1', 'fogoso': '0', 'foito': '0', 'folclórico': '0', 'foleiro': '-1', 'folgado': '-1', 'folgazão': '0', 'folião': '0', 'fomentador': '0', 'foragido': '-1', 'forasteiro': '0', 'forçado': '-1', 'forçoso': '1', 'forjado': '1', 'formado': '0', 'formador': '0', 'formal': '0', 'formalista': '0', 'formidável': '1', 'formoso': '1', 'fornicador': '-1', 'fornido': '1', 'forrado': '0', 'forreta': '-1', 'forro': '1', 'fortalecido': '1', 'forte': '1', 'fortificado': '1', 'fortuito': '-1', 'fosco': '-1', 'fotogénico': '1', 'fotografado': '0', 'fracalhote': '-1', 'fracassado': '-1', 'fraco': '-1', 'fracote': '-1', 'frágil': '-1', 'fragilizado': '-1', 'fragmentado': '-1', 'franciscano': '0', 'franco': '1', 'francófilo': '0', 'francófobo': '-1', 'franquista': '0', 'franzino': '-1', 'fraternal': '1', 'fraterno': '1', 'fraturado': '-1', 'fraudulento': '-1', 'fremente': '0', 'frenético': '-1', 'frequentador': '-1', 'frequente': '-1', 'freqüente': '1', 'frescalhote': '1', 'fresco': '0', 'frígido': '-1', 'frio': '-1', 'friorento': '0', 'frisado': '0', 'frito': '-1', 'frívolo': '-1', 'frontal': '1', 'fronteiriço': '-1', 'frouxo': '-1', 'frugal': '1', 'fruste': '-1', 'frustrado': '-1', 'fruteiro': '0', 'fugaz': '0', 'fugidio': '-1', 'fugido': '-1', 'fugitivo': '-1', 'fujão': '-1', 'fulcral': '-1', 'fulgurante': '0', 'fulminante': '-1', 'fulo': '-1', 'fumador': '0', 'fumante': '0', 'funcional': '1', 'funcionalista': '0', 'fundador': '0', 'fundamentado': '1', 'fundamentalista': '-1', 'fundido': '-1', 'funesto': '-1', 'furão': '0', 'furibundo': '-1', 'furioso': '-1', 'furtivo': '-1', 'fusionista': '0', 'fútil': '-1', 'futurista': '0', 'gabaritado': '1', 'gabarola': '-1', 'gabarolas': '-1', 'gabiru': '-1', 'gadelhudo': '-1', 'gafo': '-1', 'gagá': '-1', 'gago': '-1', 'gaiato': '0', 'gaiteiro': '-1', 'galante': '1', 'galanteador': '0', 'galardoado': '0', 'galdério': '-1', 'galhardo': '1', 'galhofeiro': '0', 'ganancioso': '-1', 'gandulo': '-1', 'ganzado': '-1', 'garantido': '1', 'garboso': '1', 'garganeiro': '-1', 'garibaldino': '0', 'garoto': '-1', 'garrido': '0', 'gaseado': '-1', 'gastador': '-1', 'gasto': '-1', 'gastrónomo': '0', 'gateiro': '0', 'gatuno': '-1', 'gaudério': '-1', 'gay': '0', 'gelado': '-1', 'gélido': '-1', 'gémeo': '-1', 'gêmeo': '-1', 'geminado': '-1', 'generalista': '0', 'generalizado': '-1', 'generalizador': '0', 'genérico': '-1', 'generoso': '1', 'genial': '1', 'génio': '1', 'genioso': '-1', 'gentil': '1', 'gentio': '0', 'genuíno': '1', 'gerador': '0', 'gerente': '0', 'germanófilo': '0', 'germanófobo': '-1', 'gigante': '0', 'gigantesco': '0', 'gingão': '-1', 'giro': '0', 'girondino': '0', 'glabro': '0', 'glamoroso': '1', 'glorificado': '1', 'glorioso': '1', 'glutão': '-1', 'gnóstico': '0', 'goliardo': '-1', 'golpeado': '-1', 'gorado': '-1', 'gordanchudo': '-1', 'gordo': '-1', 'gorducho': '-1', 'gordurento': '-1', 'gorduroso': '-1', 'gostável': '1', 'gostoso': '1', 'governado': '1', 'governista': '0', 'gozado': '1', 'gozador': '-1', 'grácil': '1', 'gracioso': '1', 'graduado': '0', 'grafomaníaco': '-1', 'grafómano': '-1', 'grandalhão': '0', 'grande': '1', 'grandiloquente': '1', 'grandíloquo': '1', 'grandioso': '1', 'grandote': '0', 'grasso': '-1', 'grato': '1', 'graúdo': '1', 'grave': '1', 'grazina': '-1', 'grego': '-1', 'grimpo': '1', 'gringo': '-1', 'gripado': '0', 'grisalho': '0', 'gritante': '-1', 'grosseirão': '-1', 'grosseiro': '-1', 'grosso': '-1', 'grotesco': '-1', 'grudento': '-1', 'grulhento': '0', 'guapo': '1', 'guardado': '-1', 'guerreiro': '0', 'guia': '0', 'guiado': '0', 'guicho': '0', 'guindado': '-1', 'guloso': '-1', 'guterrista': '0', 'hábil': '0', 'habilidoso': '1', 'habilitado': '1', 'habitante': '0', 'habituado': '-1', 'harmónico': '1', 'harmônico': '1', 'harmonioso': '1', 'harto': '0', 'hebraico': '0', 'hebraizante': '0', 'hebreu': '0', 'hediondo': '-1', 'hedonista': '0', 'hegeliano': '0', 'helénico': '-1', 'hercúleo': '1', 'herege': '-1', 'herético': '-1', 'hermafrodita': '0', 'hermafrodito': '0', 'hermético': '-1', 'herodiano': '-1', 'heróico': '1', 'heroinómano': '-1', 'hesitante': '-1', 'heteróclito': '-1', 'heterodoxo': '-1', 'heterogéneo': '0', 'heterogêneo': '0', 'heterossexual': '0', 'hidratado': '0', 'hidrófobo': '-1', 'higiénico': '1', 'higiênico': '0', 'hílare': '1', 'hilariante': '0', 'hindu': '0', 'hiperactivo': '0', 'hiperbólico': '-1', 'hiperconservador': '-1', 'hipercrítico': '-1', 'hiperculto': '1', 'hiperdotado': '1', 'hipersensível': '-1', 'hipnótico': '-1', 'hipnotizado': '-1', 'hipnotizável': '-1', 'hipocondríaco': '-1', 'hipócrita': '-1', 'hipotético': '-1', 'hirsuto': '-1', 'hirto': '0', 'histérico': '-1', 'histórico': '1', 'histriónico': '-1', 'hodierno': '1', 'homeopático': '-1', 'homérico': '1', 'homicida': '-1', 'homiziado': '-1', 'homogéneo': '1', 'homossexual': '0', 'honesto': '1', 'honorário': '1', 'honorável': '1', 'honrado': '1', 'honroso': '1', 'horrendo': '-1', 'hórrido': '-1', 'horrífico': '-1', 'horripilante': '-1', 'horrível': '-1', 'horroroso': '-1', 'hospedado': '-1', 'hóspede': '-1', 'hospedeiro': '1', 'hospitaleiro': '1', 'hostil': '-1', 'humanista': '0', 'humanitário': '1', 'humano': '1', 'humilde': '0', 'humilhado': '-1', 'humorista': '-1', 'humoroso': '-1', 'içado': '-1', 'ictiófago': '0', 'ideal': '1', 'idealista': '0', 'idealizado': '-1', 'idêntico': '-1', 'idílico': '0', 'idiota': '-1', 'idólatra': '0', 'idolatrado': '1', 'idóneo': '1', 'idôneo': '1', 'idoso': '0', 'ignaro': '-1', 'ignóbil': '-1', 'ignominioso': '-1', 'ignorado': '-1', 'ignorante': '-1', 'ignoto': '-1', 'igual': '0', 'igualitário': '0', 'ilegal': '-1', 'ilegítimo': '-1', 'ilegível': '-1', 'ileso': '1', 'iletrado': '-1', 'ilhado': '-1', 'ilibado': '1', 'iliberal': '-1', 'iliterato': '-1', 'ilógico': '-1', 'iludido': '-1', 'iluminado': '1', 'iluminista': '0', 'ilusório': '-1', 'ilustrado': '1', 'ilustrativo': '0', 'ilustre': '1', 'imaculado': '1', 'imaculável': '0', 'imagético': '1', 'imaginado': '-1', 'imaginário': '1', 'imaginativo': '0', 'imaginoso': '0', 'imanente': '1', 'imantado': '1', 'imaterial': '0', 'imaturo': '-1', 'imbatível': '1', 'imbecil': '-1', 'imberbe': '0', 'imbuído': '0', 'imediatista': '0', 'imediato': '1', 'imerecido': '-1', 'imergido': '0', 'imerso': '-1', 'iminente': '0', 'imisericordioso': '-1', 'imitado': '-1', 'imitador': '0', 'imitativo': '0', 'imobilizado': '0', 'imoderado': '-1', 'imodesto': '-1', 'imolado': '1', 'imoral': '-1', 'imorigerado': '-1', 'imortal': '1', 'imortalizado': '1', 'imóvel': '0', 'impaciente': '-1', 'impacto': '-1', 'impagável': '1', 'impante': '0', 'ímpar': '1', 'imparável': '0', 'imparcial': '0', 'impassível': '0', 'impatriota': '-1', 'impávido': '1', 'impávido e sereno': '0', 'impecável': '1', 'impecunioso': '-1', 'impedido': '0', 'impelido': '-1', 'impenetrável': '-1', 'impenitente': '-1', 'imperativo': '-1', 'imperceptível': '-1', 'imperdoável': '-1', 'imperfeito': '-1', 'imperial': '-1', 'imperialista': '-1', 'imperioso': '-1', 'imperito': '-1', 'impermanente': '-1', 'imperscrutável': '-1', 'impertérrito': '1', 'impertinente': '-1', 'imperturbado': '1', 'imperturbável': '1', 'impessoal': '-1', 'impetuoso': '-1', 'impiedoso': '-1', 'ímpio': '-1', 'implacável': '-1', 'implantado': '0', 'implicado': '0', 'implicante': '-1', 'implicativo': '-1', 'implícito': '-1', 'implorante': '0', 'implorativo': '0', 'impoluto': '1', 'imponderado': '-1', 'imponente': '0', 'impontual': '-1', 'impopular': '-1', 'importante': '1', 'importunado': '-1', 'importuno': '-1', 'impossível': '0', 'imposto': '-1', 'impostor': '-1', 'impotente': '-1', 'impreciso': '-1', 'impregnado': '-1', 'impressionado': '0', 'impressionante': '0', 'impressionável': '0', 'impressionista': '0', 'imprestável': '-1', 'imprevidente': '-1', 'imprevisível': '0', 'improcedente': '-1', 'improducente': '-1', 'improdutivo': '-1', 'improvisado': '-1', 'improvisador': '0', 'imprudente': '-1', 'impúbere': '0', 'impudente': '-1', 'impudico': '-1', 'impugnado': '-1', 'impulsionado': '-1', 'impulsivo': '-1', 'impuro': '-1', 'imputado': '-1', 'imundo': '-1', 'imune': '-1', 'imutável': '0', 'inabalável': '0', 'inábil': '-1', 'inabitado': '-1', 'inabordável': '-1', 'inacabado': '-1', 'inaceitável': '-1', 'inacessível': '-1', 'inacreditável': '0', 'inactivo': '-1', 'inadaptado': '-1', 'inadequado': '-1', 'inadiável': '-1', 'inadmissível': '-1', 'inalcançável': '-1', 'inalterado': '0', 'inalterável': '1', 'inamovível': '-1', 'inanimado': '-1', 'inânime': '-1', 'inapagável': '0', 'inaplicado': '-1', 'inapreciável': '-1', 'inapresentável': '-1', 'inapto': '-1', 'inatacável': '1', 'inatingível': '-1', 'inativo': '-1', 'inaudito': '1', 'inautêntico': '-1', 'incandescente': '-1', 'incansável': '1', 'incapaz': '-1', 'incaracterístico': '-1', 'incauto': '-1', 'incendiado': '-1', 'incendiário': '-1', 'incensador': '-1', 'incensurável': '1', 'incentivo': '-1', 'incerto': '-1', 'incessante': '0', 'inchado': '-1', 'incipiente': '-1', 'incisivo': '0', 'incitado': '1', 'incivil': '-1', 'incivilizado': '-1', 'inclemente': '-1', 'inclinado': '-1', 'ínclito': '1', 'incluído': '-1', 'inclusivo': '0', 'incluso': '-1', 'incoercível': '0', 'incoerente': '-1', 'incógnito': '0', 'incognoscível': '-1', 'incólume': '1', 'incomodado': '-1', 'incomodativo': '-1', 'incómodo': '-1', 'incômodo': '-1', 'incomparável': '1', 'incompatível': '-1', 'incompetente': '-1', 'incompleto': '-1', 'incompreensível': '-1', 'incomum': '0', 'incomunicável': '0', 'inconcebível': '1', 'inconciliável': '-1', 'inconcluso': '-1', 'inconcusso': '1', 'inconfessável': '-1', 'inconfidente': '-1', 'inconformado': '0', 'inconfundível': '0', 'incongruente': '-1', 'inconsciente': '-1', 'inconsequente': '-1', 'inconseqüente': '-1', 'inconsiderado': '-1', 'inconsistente': '-1', 'inconsolado': '-1', 'inconsolável': '-1', 'inconstante': '-1', 'incontactável': '0', 'incontestável': '1', 'incontinente': '-1', 'incontrariável': '-1', 'incontrolado': '-1', 'incontroverso': '1', 'inconveniente': '-1', 'inconversável': '-1', 'incorporado': '-1', 'incorrecto': '-1', 'incorrigível': '-1', 'incorruptível': '1', 'incorrupto': '1', 'incrédulo': '0', 'incriminado': '0', 'incriticável': '1', 'incrível': '0', 'inculto': '-1', 'incumbido': '0', 'incumpridor': '-1', 'incurável': '-1', 'incurso': '0', 'indecente': '-1', 'indecifrável': '-1', 'indeciso': '-1', 'indecoroso': '-1', 'indefectível': '1', 'indefenso': '-1', 'indeferido': '-1', 'indefeso': '-1', 'indefinido': '-1', 'indelével': '0', 'indelicado': '-1', 'indemnizado': '1', 'independente': '0', 'independentista': '0', 'inderrotável': '1', 'inderrubável': '1', 'indescritível': '0', 'indesculpável': '-1', 'indesejado': '-1', 'indesejável': '-1', 'indestituível': '0', 'indestronável': '0', 'indestrutível': '1', 'indeterminado': '-1', 'indicado': '1', 'indicador': '0', 'indiciado': '-1', 'indiferente': '-1', 'indígena': '-1', 'indigente': '-1', 'indigesto': '-1', 'indigitado': '-1', 'indigitável': '-1', 'indignado': '-1', 'indigno': '-1', 'índio': '-1', 'indirecto': '-1', 'indireto': '-1', 'indisciplinado': '-1', 'indiscreto': '-1', 'indiscutível': '1', 'indispensável': '0', 'indisposto': '-1', 'indissociável': '0', 'indistinto': '-1', 'inditoso': '-1', 'individualista': '-1', 'indivíduo': '-1', 'indivisível': '0', 'indiviso': '-1', 'indócil': '-1', 'indolente': '-1', 'indomável': '0', 'indominável': '-1', 'indómito': '-1', 'indubitável': '1', 'indulgente': '1', 'industrialista': '0', 'industrioso': '0', 'induzido': '-1', 'inebriado': '-1', 'inebriante': '-1', 'inefável': '-1', 'ineficaz': '-1', 'ineficiente': '-1', 'inelegível': '-1', 'inelutável': '1', 'inenarrável': '-1', 'inepto': '-1', 'inequívoco': '1', 'inerente': '0', 'inerme': '-1', 'inerte': '-1', 'inescrutável': '-1', 'inesgotável': '0', 'inesperado': '0', 'inesquecível': '0', 'inestimável': '1', 'inevitável': '1', 'inexacto': '-1', 'inexcedível': '1', 'inexistente': '-1', 'inexorável': '-1', 'inexperiente': '-1', 'inexperto': '-1', 'inexplicável': '-1', 'inexplícito': '-1', 'inexpressivo': '-1', 'inexprimível': '-1', 'infalível': '1', 'infamado': '-1', 'infamante': '-1', 'infame': '-1', 'infantil': '-1', 'infatigável': '1', 'infectado': '-1', 'infecundo': '-1', 'infeliz': '-1', 'infernal': '-1', 'infértil': '-1', 'infetado': '-1', 'infiel': '-1', 'ínfimo': '-1', 'inflacionista': '0', 'inflado': '-1', 'inflamado': '-1', 'inflexível': '-1', 'influenciado': '-1', 'influenciável': '-1', 'influente': '1', 'informado': '1', 'informador': '0', 'informal': '0', 'informante': '0', 'informe': '-1', 'infortunado': '-1', 'infrene': '-1', 'infrutífero': '-1', 'infundado': '-1', 'ingénuo': '0', 'ingênuo': '-1', 'inglês': '0', 'inglesado': '0', 'ingrato': '-1', 'inibido': '-1', 'iniciado': '-1', 'iniciador': '-1', 'inidóneo': '-1', 'inigualável': '0', 'inimaginável': '1', 'inimigo': '-1', 'inimitável': '0', 'ininteligível': '-1', 'ininterrupto': '0', 'iníquo': '-1', 'injuriado': '-1', 'injuriante': '-1', 'injurioso': '-1', 'injustiçado': '0', 'injusto': '-1', 'inocente': '0', 'inócuo': '0', 'inofensivo': '0', 'inopinado': '0', 'inoportuno': '-1', 'inóspito': '-1', 'inovador': '1', 'inqualificado': '-1', 'inqualificável': '-1', 'inquebrantável': '-1', 'inquestionável': '1', 'inquietante': '-1', 'inquieto': '-1', 'insaciado': '-1', 'insaciável': '0', 'insano': '-1', 'insatisfatório': '-1', 'insatisfeito': '-1', 'inscrito': '0', 'inseguro': '-1', 'insensato': '-1', 'insensível': '-1', 'inseparável': '0', 'inserido': '-1', 'insidioso': '-1', 'insigne': '1', 'insignificante': '-1', 'insincero': '-1', 'insinuador': '-1', 'insinuante': '0', 'insinuativo': '-1', 'insinuoso': '-1', 'insípido': '-1', 'insipiente': '-1', 'insistente': '0', 'insistido': '-1', 'ínsito': '-1', 'insociável': '-1', 'insofrido': '-1', 'insolente': '-1', 'insólito': '-1', 'insondado': '-1', 'insondável': '-1', 'insonso': '-1', 'insosso': '-1', 'inspirado': '1', 'inspirador': '1', 'instalado': '-1', 'instantâneo': '0', 'instável': '-1', 'instigado': '-1', 'instintivo': '0', 'instituído': '0', 'instruído': '1', 'instrutivo': '1', 'insubmisso': '-1', 'insubordinado': '-1', 'insubornável': '1', 'insubstituível': '0', 'insuficiente': '-1', 'insulso': '-1', 'insultado': '-1', 'insultuoso': '-1', 'insuperável': '1', 'insuportável': '-1', 'insurgente': '-1', 'insurrecto': '-1', 'insurreto': '-1', 'insusceptível': '-1', 'insuspeito': '1', 'intacto': '0', 'integrado': '-1', 'integralista': '0', 'integrante': '-1', 'integrista': '-1', 'íntegro': '1', 'inteiriço': '-1', 'inteiro': '-1', 'intelectual': '0', 'intelectualista': '0', 'intelectualóide': '-1', 'inteligente': '1', 'intemerato': '1', 'intemperado': '-1', 'intempestivo': '-1', 'intencionado': '-1', 'intencional': '0', 'intenso': '0', 'intercalado': '0', 'interceptado': '-1', 'intercessor': '0', 'interdito': '-1', 'interessado': '1', 'interessante': '1', 'interesseiro': '-1', 'interino': '-1', 'intermediário': '0', 'internacionalista': '0', 'internado': '-1', 'interpretativo': '0', 'interrogador': '0', 'interrogativo': '-1', 'interrogatório': '-1', 'interrompido': '-1', 'intervencionista': '0', 'interveniente': '0', 'interventor': '0', 'intestino': '0', 'intimidado': '-1', 'intimidador': '-1', 'intimidante': '-1', 'intimidativo': '-1', 'intimidatório': '-1', 'íntimo': '1', 'intimorato': '1', 'intocado': '0', 'intocável': '0', 'intolerante': '-1', 'intolerável': '-1', 'intragável': '-1', 'intranquilo': '-1', 'intransigente': '-1', 'intransitável': '-1', 'intratável': '-1', 'intrépido': '0', 'intrépido e sereno': '0', 'intrigante': '-1', 'intriguista': '-1', 'intrincado': '0', 'intrometido': '-1', 'introspectivo': '0', 'introvertido': '-1', 'intruso': '-1', 'intuitivo': '0', 'inumano': '-1', 'inundado': '0', 'inusitado': '0', 'inusual': '0', 'inútil': '-1', 'inutilizado': '-1', 'invalidado': '0', 'inválido': '-1', 'invariável': '0', 'invasivo': '-1', 'invasor': '-1', 'invectivo': '-1', 'invejado': '0', 'invejável': '-1', 'invejoso': '-1', 'invencível': '1', 'inventado': '1', 'inventariado': '0', 'inventivo': '0', 'inventor': '0', 'invernante': '0', 'invertido': '-1', 'investigado': '0', 'investigador': '0', 'inveterado': '-1', 'inviável': '-1', 'inviolável': '0', 'invisível': '-1', 'invisual': '-1', 'invocado': '-1', 'invulgar': '0', 'invulnerável': '1', 'iracundo': '-1', 'irado': '-1', 'irascível': '-1', 'irmão': '-1', 'irónico': '-1', 'irônico': '-1', 'irracional': '-1', 'irreal': '1', 'irrealista': '-1', 'irrealizável': '-1', 'irreconhecível': '0', 'irrecuperável': '0', 'irredentista': '0', 'irredutível': '-1', 'irrefreável': '0', 'irrefutável': '1', 'irregular': '-1', 'irrelevante': '-1', 'irreligioso': '-1', 'irremovível': '-1', 'irreparável': '0', 'irrepreensível': '1', 'irreprimível': '0', 'irrequieto': '-1', 'irresistível': '1', 'irresoluto': '-1', 'irrespeitoso': '-1', 'irresponsável': '-1', 'irretocável': '-1', 'irreverencioso': '-1', 'irreverente': '-1', 'irrevogável': '-1', 'irridente': '-1', 'irrisório': '-1', 'irritadiço': '-1', 'irritado': '-1', 'irritante': '-1', 'irritativo': '-1', 'irritável': '-1', 'isento': '0', 'islâmico': '0', 'islamita': '0', 'ismaelita': '0', 'isolado': '-1', 'israelita': '0', 'itinerante': '-1', 'jacobino': '0', 'jactante': '-1', 'jalofo': '-1', 'janota': '0', 'javardo': '-1', 'jeca': '-1', 'jeitoso': '1', 'jeremias': '-1', 'jerónimo': '0', 'jocoso': '0', 'jogado': '-1', 'jovem': '0', 'jovial': '1', 'jubilado': '0', 'jubiloso': '1', 'judaico': '0', 'judaizante': '0', 'judeu': '0', 'judicativo': '-1', 'judicioso': '0', 'judio': '0', 'julgado': '1', 'jurado': '-1', 'jururu': '-1', 'justaposto': '-1', 'justiceiro': '1', 'justificado': '1', 'justificativo': '0', 'justificável': '1', 'justo': '1', 'kafkiano': '-1', 'kantiano': '0', 'laborioso': '0', 'labrego': '-1', 'labroste': '-1', 'labutador': '1', 'lacónico': '-1', 'lacónio': '-1', 'lacrado': '-1', 'lacrimoso': '-1', 'ladino': '-1', 'ladro': '-1', 'laical': '-1', 'laico': '-1', 'lambão': '-1', 'lambareiro': '-1', 'lambeiro': '-1', 'lambuzado': '-1', 'lamecha': '-1', 'lamentável': '-1', 'lamentoso': '-1', 'lampeiro': '-1', 'lamuriante': '-1', 'lamuriento': '-1', 'lamurioso': '-1', 'lancinante': '-1', 'langoroso': '-1', 'languescente': '-1', 'lânguido': '-1', 'laparoto': '-1', 'lapidado': '0', 'lapuz': '-1', 'largo': '-1', 'lascivo': '0', 'lastimável': '-1', 'lastimoso': '-1', 'latente': '-1', 'lateral': '-1', 'lato': '-1', 'laudativo': '1', 'laudatório': '1', 'laureado': '-1', 'lavadiço': '0', 'lavado': '1', 'lavrado': '1', 'lavrador': '-1', 'laxista': '-1', 'lazarento': '-1', 'lãzudo': '-1', 'leal': '1', 'ledo': '1', 'legal': '1', 'legalizado': '-1', 'legendário': '1', 'legitimista': '0', 'legítimo': '1', 'leigo': '-1', 'lelo': '-1', 'lembrado': '0', 'lendário': '1', 'leninista': '0', 'lenitivo': '1', 'lento': '-1', 'leonino': '-1', 'lépido': '0', 'leproso': '-1', 'lerdo': '-1', 'lesado': '-1', 'lesbiana': '0', 'lésbica': '0', 'lesionado': '-1', 'lesivo': '-1', 'leso': '-1', 'lestes': '1', 'lesto': '1', 'letal': '-1', 'letárgico': '-1', 'letrado': '1', 'levado': '-1', 'levado da breca': '-1', 'levado das maleitas': '-1', 'levado do diabo': '-1', 'levantado': '-1', 'leve': '0', 'leviano': '-1', 'lhano': '1', 'liberal': '0', 'liberal-conservador': '0', 'liberal-democrata': '0', 'liberalista': '0', 'libertado': '0', 'libertador': '0', 'libertário': '-1', 'libertino': '-1', 'liberto': '0', 'libidinoso': '-1', 'licenciado': '0', 'licencioso': '-1', 'lícito': '1', 'líder': '0', 'lídimo': '1', 'lido': '1', 'ligado': '-1', 'ligeiro': '0', 'liliputiano': '-1', 'limitado': '-1', 'límpido': '1', 'limpo': '1', 'lindo': '1', 'linear': '0', 'lingrinhas': '-1', 'linguareiro': '-1', 'linguarudo': '-1', 'liquidado': '1', 'lírico': '-1', 'liró': '0', 'liso': '0', 'lisonjeador': '1', 'lisonjeiro': '1', 'literato': '-1', 'lítico': '1', 'lívido': '-1', 'livre': '0', 'lógico': '1', 'logrativo': '-1', 'loiro': '0', 'longânime': '1', 'longânimo': '1', 'longe': '-1', 'longínquo': '-1', 'loquaz': '0', 'lorpa': '-1', 'lotado': '-1', 'louco': '-1', 'louro': '0', 'louvado': '-1', 'louvaminheiro': '-1', 'louvável': '1', 'lúbrico': '0', 'lúcido': '1', 'ludibriado': '-1', 'ludibriante': '-1', 'ludibrioso': '-1', 'lúgubre': '-1', 'luminoso': '1', 'lunático': '-1', 'lusco': '-1', 'lusófilo': '0', 'lusófobo': '-1', 'lustrado': '0', 'lustroso': '0', 'lutador': '1', 'luterano': '0', 'lutuoso': '-1', 'luxuoso': '1', 'luxuriante': '0', 'luxurioso': '0', 'luzido': '0', 'macabeu': '0', 'macabro': '-1', 'macaco': '-1', 'maçado': '-1', 'maçador': '-1', 'macambúzio': '-1', 'macanjo': '-1', 'macareno': '-1', 'macavenco': '-1', 'machista': '-1', 'macho': '0', 'machucado': '-1', 'maciço': '0', 'macilento': '-1', 'macio': '0', 'macróbio': '0', 'maçudo': '-1', 'maculado': '-1', 'madraço': '-1', 'madrasta': '-1', 'madrugador': '0', 'maduro': '1', 'mafioso': '-1', 'magano': '-1', 'magistral': '1', 'magnânimo': '1', 'magnético': '1', 'magnificente': '1', 'magnífico': '1', 'mago': '1', 'magoado': '-1', 'magrelo': '0', 'magricela': '0', 'magro': '0', 'maior': '-1', 'maior e vacinado': '0', 'maioral': '-1', 'majestático': '1', 'majestoso': '1', 'major': '0', 'malabarista': '-1', 'mal-afamado': '-1', 'mal-afeiçoado': '-1', 'mal-afortunado': '-1', 'mal-agradecido': '-1', 'mal-amado': '-1', 'malandreco': '-1', 'malandro': '-1', 'malcheiroso': '-1', 'mal-cheiroso': '-1', 'mal-comportado': '-1', 'malcriado': '-1', 'maldisposto': '-1', 'maldito': '-1', 'maldizente': '-1', 'maldoso': '-1', 'maleável': '1', 'maledicente': '-1', 'maleducado': '-1', 'maléfico': '-1', 'malencarado': '-1', 'mal-encarado': '-1', 'malevolente': '-1', 'malévolo': '-1', 'malfadado': '-1', 'malfazejo': '-1', 'malfeito': '-1', 'mal-feito': '-1', 'malfeitor': '-1', 'malformado': '-1', 'malhado': '-1', 'mal-humorado': '-1', 'malicioso': '-1', 'maligno': '-1', 'mal-intencionado': '-1', 'malogrado': '-1', 'mal-pago': '-1', 'malquisto': '-1', 'malsão': '-1', 'malsucedido': '-1', 'malthusiano': '0', 'maltrapilho': '-1', 'maltratado': '-1', 'maluco': '-1', 'malvado': '-1', 'mal-vestido': '-1', 'malvisto': '-1', 'mamalhudo': '-1', 'mamífero': '-1', 'mamudo': '-1', 'manancial': '0', 'mancebo': '0', 'manchado': '-1', 'manco': '-1', 'mancomunado': '-1', 'mandado': '0', 'mandão': '-1', 'mandingueiro': '1', 'mandrião': '-1', 'maneirista': '-1', 'maneiro': '1', 'maneta': '-1', 'manhoso': '-1', 'maníaco': '-1', 'maníaco-depressivo': '-1', 'manietado': '-1', 'manifesto': '0', 'maninho': '-1', 'manipulado': '-1', 'manipulador': '-1', 'manipulável': '-1', 'maniqueísta': '0', 'maniqueu': '0', 'manita': '-1', 'mano': '0', 'manobrado': '-1', 'manso': '0', 'manteigueiro': '-1', 'mantido': '0', 'maoísta': '0', 'maometano': '0', 'maquiavélico': '-1', 'maquiavelista': '-1', 'maquilhado': '0', 'maquinado': '-1', 'maquinal': '0', 'marau': '-1', 'maravilhado': '-1', 'maravilhoso': '1', 'marcado': '1', 'marcante': '-1', 'marcelista': '0', 'marginal': '-1', 'marginalizado': '-1', 'marialva': '-1', 'mariano': '0', 'maricão': '-1', 'maricas': '-1', 'mariola': '-1', 'marioneta': '-1', 'mariquinhas': '-1', 'marital': '0', 'marmanjo': '0', 'maronita': '0', 'maroto': '-1', 'marralheiro': '-1', 'marrano': '-1', 'marrão': '-1', 'marreco': '-1', 'marxista': '0', 'mascarado': '-1', 'masculino': '1', 'másculo': '1', 'masochista': '-1', 'masoquista': '-1', 'massudo': '-1', 'mastodôntico': '0', 'matador': '-1', 'mate': '-1', 'material': '0', 'materialista': '-1', 'maternal': '0', 'matias': '-1', 'matinal': '0', 'matreiro': '-1', 'matutino': '0', 'matuto': '-1', 'mau': '-1', 'mau aluno': '-1', 'mau pagador': '-1', 'mauritano': '0', 'mavioso': '1', 'mavórcio': '-1', 'mazombo': '-1', 'mazorro': '-1', 'mecanicista': '0', 'medianeiro': '0', 'mediano': '0', 'mediático': '0', 'mediato': '-1', 'médio': '0', 'medíocre': '-1', 'meditabundo': '-1', 'meditado': '-1', 'meditador': '0', 'meditativo': '0', 'medonho': '-1', 'medrado': '1', 'medricas': '-1', 'medroso': '-1', 'mefistofélico': '-1', 'megalomaníaco': '-1', 'megalómano': '-1', 'megalômano': '-1', 'meigo': '1', 'meio-apalermado': '-1', 'meio-doido': '-1', 'meio-morto': '-1', 'melado': '-1', 'melancólico': '-1', 'melhor': '0', 'melífluo': '1', 'melindrado': '-1', 'melindroso': '-1', 'melódico': '1', 'melodioso': '1', 'melodramático': '-1', 'melómano': '-1', 'meloso': '0', 'memorando': '1', 'memorável': '1', 'memorioso': '1', 'mencionado': '-1', 'mendaz': '-1', 'mendicante': '-1', 'menineiro': '0', 'menino': '0', 'menosprezável': '-1', 'mensageiro': '-1', 'mental': '0', 'mentecapto': '-1', 'mentiroso': '-1', 'mentiroso compulsivo': '-1', 'mentiroso inveterado': '-1', 'mercante': '-1', 'mercantil': '-1', 'mercantilista': '-1', 'mercenário': '-1', 'merecedor': '1', 'merecido': '1', 'merencório': '-1', 'mergulhado': '-1', 'meritório': '1', 'mesquinho': '-1', 'mestiço': '-1', 'mestra': '0', 'mestre': '0', 'mesurado': '1', 'metafísico': '-1', 'metafórico': '0', 'metediço': '-1', 'meticuloso': '0', 'metido': '-1', 'metódico': '1', 'metodista': '0', 'mexeriqueiro': '-1', 'mexido': '1', 'migalheiro': '-1', 'miguelista': '0', 'mijão': '-1', 'milagreiro': '0', 'milagroso': '1', 'milionário': '0', 'militar': '0', 'militarista': '0', 'mimado': '-1', 'mimalho': '-1', 'mimoso': '1', 'minado': '-1', 'minguado': '-1', 'minimalista': '0', 'mínimo': '-1', 'minorado': '0', 'minucioso': '1', 'minúsculo': '-1', 'míope': '-1', 'mirabolante': '-1', 'mirolho': '-1', 'mirrado': '-1', 'misantropo': '-1', 'miserabilista': '-1', 'miserando': '-1', 'miserável': '-1', 'misericordioso': '1', 'mísero': '-1', 'misseiro': '0', 'misterioso': '0', 'místico': '0', 'misto': '-1', 'misturado': '-1', 'mítico': '1', 'mitológico': '1', 'mitómano': '-1', 'mitrado': '1', 'miudinho': '-1', 'miúdo': '0', 'mocado': '-1', 'moçárabe': '0', 'mociço': '1', 'moço': '0', 'modal': '0', 'modelado': '1', 'modelar': '1', 'moderado': '1', 'modernaço': '1', 'modernista': '0', 'moderno': '1', 'modesto': '1', 'modificado': '0', 'modorrento': '-1', 'modorro': '-1', 'moedor': '-1', 'mofino': '-1', 'moído': '-1', 'moinante': '-1', 'moldado': '-1', 'moldável': '1', 'mole': '-1', 'molenga': '-1', 'molengão': '-1', 'moleque': '-1', 'molestado': '-1', 'molhado': '0', 'molieresco': '-1', 'momentâneo': '0', 'monárquico': '0', 'monarquista': '0', 'mongolóide': '-1', 'mono': '-1', 'monocórdico': '-1', 'monógamo': '0', 'monomaníaco': '-1', 'monopolista': '-1', 'monopolizado': '-1', 'monopolizador': '-1', 'monoteísta': '0', 'monótono': '-1', 'monstruoso': '-1', 'montado': '0', 'montês': '-1', 'moquenco': '-1', 'morador': '0', 'moralista': '-1', 'moralizador': '0', 'moralizante': '0', 'mórbido': '-1', 'morboso': '-1', 'mordaz': '-1', 'mordente': '-1', 'mordido': '-1', 'moreno': '0', 'morfinómano': '-1', 'moribundo': '-1', 'morigerado': '1', 'morno': '-1', 'moroso': '-1', 'mortal': '0', 'mortiço': '-1', 'mortífero': '-1', 'mortificado': '-1', 'morto': '-1', 'mostrado': '0', 'mostrador': '0', 'motivado': '1', 'motivador': '1', 'motivante': '0', 'mouro': '0', 'movido': '0', 'movimentado': '1', 'muçulmano': '0', 'mudado': '0', 'mudo': '-1', 'mula': '-1', 'mulato': '0', 'mulherengo': '-1', 'multifacetado': '0', 'multilíngue': '0', 'multíparo': '0', 'multíplice': '0', 'mundano': '-1', 'mundo': '1', 'municipalista': '0', 'munido': '0', 'munificente': '1', 'murado': '-1', 'murcho': '-1', 'murmurante': '-1', 'musculado': '1', 'musculoso': '1', 'musical': '1', 'músico': '1', 'mutável': '-1', 'mutilado': '-1', 'mutualista': '0', 'nabo': '-1', 'nacional-comunista': '0', 'nacionalista': '0', 'nado': '0', 'naïf': '0', 'namoradeiro': '0', 'namoradiço': '0', 'namorado': '1', 'namorador': '0', 'nanico': '-1', 'napoleónico': '0', 'narcisista': '-1', 'narcótico': '-1', 'narcotizado': '-1', 'narigudo': '-1', 'narrado': '-1', 'nascente': '-1', 'nascido': '0', 'nativista': '0', 'nativo': '0', 'nato': '0', 'natural': '1', 'naturalizado': '0', 'naturista': '0', 'nauseado': '-1', 'nauseante': '-1', 'navegado': '1', 'nazi': '-1', 'nazista': '-1', 'nebuloso': '-1', 'necessário': '1', 'necessitado': '-1', 'necrófago': '-1', 'necrófilo': '-1', 'nédio': '-1', 'nefando': '-1', 'nefasto': '-1', 'nefelibata': '-1', 'negaceiro': '-1', 'negado': '-1', 'negativo': '-1', 'negligente': '-1', 'negregado': '-1', 'negro': '0', 'negróide': '-1', 'neocolonialista': '0', 'neodarwinista': '0', 'neomalthusiano': '0', 'neonazi': '0', 'neoplatónico': '0', 'nervoso': '-1', 'néscio': '-1', 'nestoriano': '0', 'neurasténico': '-1', 'neurótico': '-1', 'neutral': '0', 'neutro': '0', 'niilista': '0', 'ninheiro': '-1', 'niquento': '-1', 'nítido': '1', 'nobre': '1', 'nocivo': '-1', 'noctâmbulo': '0', 'noctívago': '0', 'nojento': '-1', 'nómada': '-1', 'nomeado': '1', 'nominalista': '0', 'normal': '1', 'norteado': '0', 'nostálgico': '0', 'notado': '1', 'notável': '1', 'noto': '0', 'notório': '0', 'novato': '0', 'novel': '0', 'noveleiro': '-1', 'noviço': '-1', 'novidadeiro': '-1', 'novo': '0', 'nu': '0', 'nubente': '0', 'núbil': '0', 'nulo': '-1', 'numeroso': '-1', 'nutrido': '0', 'obcecado': '-1', 'obcecante': '-1', 'obediente': '0', 'obeso': '-1', 'objectivo': '1', 'oblíquo': '-1', 'obreiro': '0', 'obrigado': '-1', 'obsceno': '-1', 'obscurecido': '-1', 'obscuro': '-1', 'obsequiador': '0', 'obsequioso': '0', 'observado': '1', 'observador': '1', 'observante': '1', 'obsessivo': '-1', 'obsoleto': '-1', 'obstinado': '-1', 'obstrucionista': '-1', 'obtuso': '-1', 'óbvio': '0', 'ocidentalizado': '0', 'ocioso': '-1', 'oco': '-1', 'ocultado': '0', 'ocultista': '0', 'oculto': '-1', 'ocupado': '0', 'odiado': '-1', 'odiável': '-1', 'odiento': '-1', 'odioso': '-1', 'ofegante': '-1', 'ofendido': '-1', 'ofensivo': '-1', 'oferecido': '-1', 'ofertado': '-1', 'oficial': '0', 'oficializado': '0', 'ofuscado': '-1', 'oleoso': '-1', 'olhado': '1', 'olheirento': '-1', 'oligofrénico': '-1', 'omisso': '-1', 'omitido': '-1', 'omnipotente': '1', 'omnipresente': '1', 'omnisciente': '1', 'omnívoro': '0', 'ondulado': '0', 'ondulante': '-1', 'onerado': '-1', 'onipotente': '0', 'onipresente': '0', 'onisciente': '0', 'onzeneiro': '-1', 'opaco': '-1', 'operado': '1', 'operante': '1', 'operário': '0', 'operativo': '1', 'operatório': '1', 'operoso': '1', 'opinante': '0', 'opinativo': '0', 'opiniático': '-1', 'opiómano': '-1', 'opíparo': '1', 'oponente': '-1', 'oportunista': '-1', 'oportuno': '1', 'oposicionista': '0', 'opositor': '-1', 'oposto': '-1', 'opressivo': '-1', 'opresso': '-1', 'opressor': '-1', 'oprimente': '-1', 'oprimido': '-1', 'optimista': '1', 'óptimo': '1', 'opulento': '-1', 'oratoriano': '0', 'ordeiro': '1', 'ordenado': '1', 'ordinário': '-1', 'orelhudo': '-1', 'órfão': '0', 'orgânico': '-1', 'organizado': '1', 'organizador': '0', 'orgulhoso': '-1', 'orientador': '0', 'originado': '0', 'original': '1', 'originário': '-1', 'oriundo': '-1', 'orleanista': '0', 'ornado': '0', 'ortodoxo': '0', 'orvalhado': '-1', 'oscilante': '-1', 'ossudo': '-1', 'ostensivo': '-1', 'ostentativo': '-1', 'ostentoso': '-1', 'otimista': '-1', 'ótimo': '1', 'ousado': '0', 'outorgado': '1', 'ouvido': '0', 'oxítono': '-1', 'pacato': '1', 'pachola': '-1', 'pachorrento': '0', 'paciente': '1', 'pacificador': '1', 'pacífico': '1', 'pacóvio': '-1', 'padecedor': '0', 'padecente': '0', 'padroeiro': '1', 'pagão': '0', 'pago': '1', 'pagodeiro': '0', 'palaciano': '0', 'paladino': '0', 'palavroso': '-1', 'palerma': '-1', 'palhaço': '-1', 'paliativo': '1', 'pálido': '-1', 'palpável': '1', 'palpitante': '0', 'palrador': '0', 'palreiro': '0', 'panal': '-1', 'panasca': '-1', 'pançudo': '-1', 'pândego': '0', 'pando': '-1', 'panegírico': '0', 'panema': '-1', 'pangermânico': '0', 'pantafaçudo': '-1', 'pantanoso': '0', 'panteísta': '0', 'pantemineiro': '-1', 'papalvo': '-1', 'papão': '-1', 'papista': '-1', 'par': '0', 'paradigmático': '0', 'parado': '-1', 'paradoxal': '-1', 'paradoxo': '-1', 'paralisado': '-1', 'paralítico': '-1', 'paranóico': '-1', 'parasita': '-1', 'parasito': '-1', 'parceiro': '0', 'parcimonioso': '1', 'parco': '1', 'pardo': '-1', 'parecido': '-1', 'parente': '-1', 'parido': '-1', 'parlamentar': '-1', 'parlamentarista': '0', 'parnasiano': '0', 'parolo': '-1', 'parracho': '-1', 'parrudo': '-1', 'participante': '0', 'participativo': '1', 'partícipe': '0', 'particular': '1', 'particularista': '0', 'partidário': '1', 'partidarista': '-1', 'partido': '-1', 'parvalhão': '-1', 'parvo': '-1', 'parvónio': '-1', 'pascácio': '-1', 'pasmado': '-1', 'pasmo': '-1', 'paspalhão': '-1', 'paspalho': '-1', 'passadista': '-1', 'passado': '-1', 'passageiro': '0', 'passável': '1', 'passeador': '0', 'passeante': '0', 'passeiro': '-1', 'passível': '-1', 'passivo': '-1', 'passo': '-1', 'pastel': '1', 'pastoral': '-1', 'pastoso': '1', 'pastrano': '-1', 'pataqueiro': '-1', 'patarata': '-1', 'patau': '-1', 'patego': '-1', 'patente': '0', 'paternal': '1', 'paternalista': '0', 'pateta': '-1', 'patético': '-1', 'patibular': '-1', 'patife': '-1', 'patola': '-1', 'patriarcal': '1', 'patriota': '1', 'patrioteiro': '-1', 'patriótico': '1', 'patudo': '-1', 'patusco': '-1', 'pausado': '0', 'pautado': '1', 'pavoroso': '-1', 'pecador': '-1', 'pechoso': '-1', 'peco': '-1', 'peculiar': '0', 'pedante': '-1', 'pedestre': '0', 'pedinte': '-1', 'pedrado': '-1', 'pedrista': '0', 'pegajoso': '-1', 'peganhento': '-1', 'peguilhento': '-1', 'pegureiro': '-1', 'peitado': '-1', 'peitudo': '0', 'pejado': '-1', 'pelado': '0', 'pelintra': '-1', 'peludo': '0', 'penalizado': '-1', 'pencudo': '-1', 'pendente': '1', 'pendido': '-1', 'pendurado': '-1', 'peneirento': '-1', 'penetra': '-1', 'penetrado': '0', 'penetrante': '1', 'penhorado': '1', 'penitente': '0', 'penoso': '-1', 'pensado': '-1', 'pensador': '0', 'pensativo': '0', 'penso': '-1', 'pequenino': '0', 'pequeno': '0', 'pequenote': '0', 'pequerrucho': '0', 'percebido': '0', 'perceptível': '1', 'perceptivo': '1', 'perdedor': '-1', 'perdido': '-1', 'perdoado': '0', 'perdoador': '0', 'perdoável': '0', 'perdulário': '-1', 'perecedor': '-1', 'perecível': '-1', 'peregrino': '1', 'peremptório': '0', 'perene': '1', 'perfeito': '1', 'pérfido': '-1', 'perfilhado': '0', 'perfumado': '1', 'perfurado': '0', 'perguntador': '0', 'perigoso': '-1', 'peripatético': '0', 'perito': '1', 'permanente': '0', 'permeável': '1', 'permissivo': '0', 'pernalto': '0', 'pernão': '0', 'perneta': '-1', 'pernicioso': '-1', 'pernilongo': '0', 'pernóstico': '-1', 'pernudo': '0', 'perpendicular': '1', 'perpetuado': '0', 'perplexo': '-1', 'perro': '-1', 'perscrutador': '1', 'perseguido': '-1', 'perseverante': '1', 'persistente': '1', 'pessoal': '0', 'personalista': '0', 'perspectivista': '0', 'perspicaz': '1', 'perspícuo': '1', 'persuadido': '-1', 'persuasivo': '1', 'persuasor': '0', 'persuasório': '0', 'pertencente': '1', 'pertinaz': '-1', 'pertinente': '1', 'perturbado': '-1', 'perturbador': '-1', 'perturbante': '-1', 'perverso': '-1', 'pervertedor': '-1', 'pervertido': '-1', 'pesadão': '-1', 'pesado': '0', 'pesadote': '0', 'pesaroso': '-1', 'pescoçudo': '0', 'pesporrente': '-1', 'pesquisador': '0', 'pessimista': '-1', 'péssimo': '-1', 'pessoalista': '0', 'pestanejante': '0', 'pestanudo': '0', 'petiz': '0', 'petrarquista': '0', 'pétreo': '-1', 'petrificado': '-1', 'petrificante': '-1', 'petulante': '-1', 'pezudo': '0', 'picaço': '-1', 'picado': '-1', 'picante': '-1', 'pícaro': '-1', 'pictórico': '0', 'picuinhas': '-1', 'piedoso': '1', 'piegas': '-1', 'pífio': '-1', 'pigmeu': '-1', 'pilífero': '0', 'piloso': '0', 'pimpão': '0', 'pindérico': '-1', 'pinguço': '-1', 'pinoca': '-1', 'pintado': '1', 'pintalegrete': '0', 'pio': '1', 'piolhoso': '-1', 'pioneiro': '0', 'pior': '-1', 'pipi': '-1', 'pirado': '-1', 'piramidal': '1', 'piranga': '-1', 'pirangueiro': '-1', 'piromaníaco': '-1', 'pirómano': '-1', 'piroso': '-1', 'pisado': '-1', 'pisco': '-1', 'pitónico': '-1', 'pitoresco': '1', 'pitosga': '-1', 'plácido': '1', 'plaino': '-1', 'planeado': '-1', 'planejado': '0', 'plangente': '-1', 'planificado': '0', 'plano': '0', 'plantado': '-1', 'plasmado': '1', 'plástico': '0', 'platónico': '0', 'plausível': '1', 'plebeu': '-1', 'pleno': '1', 'pluralista': '0', 'plurilingue': '0', 'pobre': '-1', 'pobre coitado': '-1', 'pobre de espírito': '-1', 'pobre e mal agradecido': '-1', 'pobretana': '-1', 'pobretão': '-1', 'pobrete': '-1', 'poderoso': '0', 'podre': '-1', 'poeta': '0', 'poético': '0', 'polémico': '-1', 'polemista': '-1', 'poliandra': '0', 'policial': '-1', 'polido': '0', 'polígamo': '0', 'poliglota': '1', 'politeísta': '0', 'politicante': '-1', 'político': '0', 'politiqueiro': '-1', 'polivalente': '1', 'poltrão': '-1', 'pombalista': '0', 'pomposo': '0', 'ponderado': '1', 'ponderoso': '1', 'ponteiro': '-1', 'pontual': '1', 'pontudo': '-1', 'pop': '-1', 'popular': '1', 'populista': '-1', 'porcalhão': '-1', 'porcino': '-1', 'porco': '-1', 'porfiado': '-1', 'pormenorizado': '1', 'pornográfico': '-1', 'poroso': '0', 'porqueiro': '0', 'porreiro': '1', 'portador': '0', 'portentoso': '1', 'portista': '0', 'positivista': '0', 'positivo': '1', 'possante': '1', 'possessivo': '-1', 'possesso': '-1', 'possibilista': '0', 'possidónio': '-1', 'possuído': '-1', 'possuidor': '-1', 'postergado': '0', 'postiço': '-1', 'posto': '-1', 'potente': '1', 'poupado': '1', 'pousado': '-1', 'pragmático': '1', 'pragmatista': '0', 'praticante': '-1', 'prático': '1', 'prazenteiro': '1', 'precatado': '1', 'precavido': '1', 'precioso': '1', 'precipitado': '-1', 'precisado': '-1', 'preciso': '1', 'preclaro': '1', 'precoce': '-1', 'preconceituoso': '-1', 'precursor': '-1', 'predestinado': '0', 'predilecto': '0', 'predisposto': '-1', 'preeminente': '1', 'preferido': '0', 'pregado': '-1', 'preguiçoso': '-1', 'prejudicado': '-1', 'prejudicial': '-1', 'prematuro': '0', 'premeditado': '-1', 'premente': '-1', 'premiado': '1', 'premido': '0', 'prendado': '1', 'prenhe': '0', 'preocupado': '0', 'preparado': '1', 'preponderante': '-1', 'prepotente': '-1', 'presbíope': '-1', 'presbiterano': '0', 'presciente': '1', 'prescrito': '-1', 'presente': '1', 'preservado': '1', 'presidencialista': '0', 'presidente': '0', 'presidiário': '-1', 'preso': '-1', 'pressuroso': '0', 'prestante': '1', 'prestativo': '1', 'prestável': '1', 'preste': '1', 'prestes': '1', 'prestigiado': '1', 'prestigiante': '1', 'prestigioso': '1', 'prestimoso': '1', 'presto': '1', 'presumido': '-1', 'presumível': '0', 'presunçoso': '-1', 'presuntivo': '1', 'pretendente': '0', 'pretendido': '1', 'pretensioso': '-1', 'pretenso': '-1', 'preto': '-1', 'prevenido': '1', 'previdente': '1', 'previsível': '-1', 'prezado': '1', 'prezável': '1', 'primário': '-1', 'primaz': '-1', 'primeiro': '-1', 'primitivo': '-1', 'primo': '-1', 'primogénito': '0', 'primoroso': '1', 'principal': '-1', 'principiante': '-1', 'prisioneiro': '-1', 'privilegiado': '0', 'probabilista': '0', 'problemático': '-1', 'probo': '1', 'procedente': '1', 'processado': '0', 'procriador': '1', 'prodigioso': '1', 'pródigo': '-1', 'produtivo': '1', 'produtor': '0', 'produzido': '1', 'proeminente': '1', 'profanador': '-1', 'profano': '-1', 'professo': '0', 'proficiente': '1', 'profícuo': '1', 'profissional': '1', 'profundo': '0', 'profuso': '-1', 'prognóstico': '-1', 'progressista': '1', 'progressivo': '1', 'proibitivo': '-1', 'projetado': '0', 'prolífero': '1', 'prolífico': '1', 'prolixo': '-1', 'prolongado': '-1', 'prometedor': '1', 'prometido': '0', 'promíscuo': '-1', 'promissor': '1', 'promitente': '1', 'pronóstico': '-1', 'pronto': '1', 'pronunciado': '0', 'propenso': '0', 'propício': '1', 'proporcional': '1', 'propositado': '-1', 'proposital': '-1', 'proprietário': '0', 'próprio': '1', 'prosaico': '-1', 'proscrito': '-1', 'prosista': '-1', 'próspero': '1', 'prostituído': '-1', 'prostituto': '-1', 'prostrado': '-1', 'proteccionista': '0', 'protector': '1', 'protegido': '-1', 'protervo': '-1', 'protestante': '0', 'protestativo': '0', 'protetor': '1', 'provado': '0', 'provável': '1', 'provecto': '0', 'proveitoso': '1', 'proveniente': '-1', 'providencial': '1', 'providencialista': '0', 'providente': '1', 'provido': '0', 'provinciano': '-1', 'provindo': '0', 'provocador': '-1', 'provocante': '-1', 'provocativo': '-1', 'provocatório': '-1', 'provocável': '-1', 'próximo': '-1', 'prudente': '1', 'pseudo-intelectual': '-1', 'psicopata': '-1', 'psicótico': '-1', 'púbere': '0', 'pubescente': '0', 'publicado': '0', 'público': '0', 'pudendo': '0', 'pudibundo': '0', 'pudico': '0', 'púdico': '1', 'pueril': '-1', 'pugnaz': '0', 'pujante': '1', 'pulcro': '1', 'pulha': '-1', 'pulverizado': '-1', 'pundonoroso': '1', 'pungente': '0', 'purificado': '0', 'purista': '0', 'puritano': '-1', 'puro': '1', 'purpurino': '-1', 'púrrio': '-1', 'pusilânime': '-1', 'puta': '-1', 'putativo': '1', 'puto': '-1', 'putrefato': '-1', 'pútrido': '-1', 'puxadinho': '-1', 'puxado': '-1', 'quadrado': '-1', 'quadrúpede': '-1', 'qualificado': '1', 'quarentão': '0', 'quebrado': '-1', 'quebrantado': '-1', 'quebrável': '-1', 'quedo': '0', 'queimado': '-1', 'queixinhas': '-1', 'queixoso': '-1', 'queixudo': '-1', 'quente': '0', 'queque': '-1', 'querido': '1', 'querubínico': '1', 'questionado': '-1', 'questionável': '-1', 'quezilento': '-1', 'quieto': '0', 'quimérico': '1', 'quisto': '1', 'quitado': '-1', 'quixotesco': '-1', 'rabelaisiano': '-1', 'rabeta': '-1', 'rabicho': '-1', 'rabigo': '0', 'rabino': '-1', 'rabudo': '-1', 'rabugento': '-1', 'rábula': '-1', 'rabulista': '-1', 'racional': '1', 'racionalista': '0', 'racista': '-1', 'radiante': '1', 'radicado': '0', 'radical': '0', 'radicalista': '-1', 'radioso': '1', 'raivento': '-1', 'raivoso': '-1', 'ralado': '-1', 'ralador': '-1', 'ralhão': '-1', 'ralheta': '-1', 'rameloso': '-1', 'rancoroso': '-1', 'rançoso': '-1', 'ranheta': '-1', 'ranhoso': '-1', 'ranzinza': '-1', 'rapace': '-1', 'rapado': '0', 'rapaz': '0', 'rápido': '1', 'rapioqueiro': '-1', 'raposeiro': '-1', 'raposino': '-1', 'raptado': '0', 'raquítico': '-1', 'raro': '1', 'rasca': '-1', 'rasgado': '0', 'raso': '-1', 'rasteiro': '-1', 'rastejante': '-1', 'ratado': '-1', 'ratificado': '1', 'rato': '0', 'razoável': '1', 'reaccionário': '-1', 'reacionário': '-1', 'reactivo': '-1', 'real': '1', 'realçado': '-1', 'realista': '1', 'realizado': '1', 'rebaixado': '-1', 'rebarbativo': '-1', 'rebatido': '0', 'rebelado': '-1', 'rebelde': '-1', 'rebolião': '0', 'reboludo': '0', 'rebuscado': '-1', 'recalcado': '-1', 'recalcitrante': '-1', 'recapturado': '0', 'recatado': '1', 'recenseado': '0', 'receoso': '-1', 'receptível': '1', 'receptivo': '1', 'rechaçado': '0', 'recheado': '1', 'rechonchudo': '-1', 'reclinado': '-1', 'recluso': '-1', 'recolhido': '0', 'recolocado': '0', 'recomendado': '0', 'recomendável': '1', 'recompensado': '0', 'recomposto': '1', 'reconciliador': '1', 'reconfortado': '1', 'reconfortante': '0', 'reconstituído': '0', 'recordado': '0', 'recostado': '-1', 'recreativo': '1', 'recriminador': '-1', 'recrutado': '0', 'rectilíneo': '1', 'recto': '1', 'recuperado': '1', 'recuperável': '1', 'recusado': '-1', 'redentor': '0', 'redentorista': '0', 'redimível': '0', 'redivivo': '1', 'redondo': '-1', 'reducionista': '-1', 'redundante': '-1', 'redutor': '-1', 'reduzido': '-1', 'reelegível': '1', 'reestruturado': '0', 'refalsado': '-1', 'refeito': '1', 'referente': '1', 'referido': '-1', 'refilão': '-1', 'refinado': '0', 'reflectido': '1', 'reflectivo': '1', 'refletido': '1', 'refletivo': '1', 'reflexivo': '1', 'reflexo': '-1', 'reforçado': '1', 'reformado': '0', 'reformista': '0', 'refractário': '-1', 'refrescado': '0', 'refrescante': '1', 'refugiado': '-1', 'refulgente': '1', 'refutado': '-1', 'regalado': '1', 'regatão': '-1', 'regateador': '-1', 'regateiro': '-1', 'regelado': '-1', 'regenerado': '1', 'regenerável': '1', 'régio': '1', 'regionalista': '0', 'regrado': '1', 'regressado': '0', 'regulado': '1', 'regular': '1', 'reinadio': '1', 'reinante': '1', 'reincidente': '-1', 'reiterado': '1', 'reiterativo': '-1', 'reivindicador': '0', 'reivindicativo': '0', 'rejeitado': '-1', 'rejuvenescido': '1', 'relacionado': '-1', 'relambório': '-1', 'relapso': '-1', 'relatado': '0', 'relativista': '0', 'relaxado': '-1', 'reles': '-1', 'relevante': '1', 'religioso': '0', 'relutante': '-1', 'remansado': '0', 'remansoso': '0', 'remediado': '0', 'remelado': '-1', 'remeloso': '-1', 'remendado': '-1', 'remendão': '-1', 'remendeiro': '-1', 'remisso': '-1', 'remoçado': '1', 'remontado': '1', 'remunerado': '1', 'renascentista': '0', 'rendido': '-1', 'renegado': '-1', 'renitente': '0', 'renomado': '1', 'renomeado': '1', 'renovado': '1', 'rente': '0', 'repassado': '-1', 'repelente': '-1', 'repelido': '-1', 'repentino': '-1', 'repentinoso': '-1', 'repentista': '0', 'repetente': '-1', 'repetido': '1', 'repetidor': '-1', 'repetitivo': '-1', 'repimpado': '0', 'repleto': '1', 'replicador': '-1', 'repolhudo': '0', 'reportado': '1', 'reposto': '1', 'repousado': '0', 'repreendido': '1', 'repreensível': '-1', 'representado': '0', 'representante': '0', 'representativo': '1', 'represo': '-1', 'repressivo': '-1', 'repressor': '-1', 'reprimido': '-1', 'reprovado': '-1', 'reprovador': '-1', 'reprovável': '-1', 'reptante': '-1', 'réptil': '-1', 'republicano': '0', 'repudiado': '0', 'repugnante': '-1', 'repulsivo': '-1', 'repulso': '-1', 'reputado': '1', 'requebrado': '-1', 'requintado': '1', 'reservado': '0', 'resfriado': '-1', 'resgatado': '0', 'resguardado': '-1', 'residente': '0', 'resignado': '-1', 'resistente': '0', 'resmungão': '-1', 'resoluto': '1', 'resolvido': '1', 'respeitado': '1', 'respeitador': '1', 'respeitável': '1', 'respeitoso': '1', 'respingão': '-1', 'respondão': '-1', 'respondedor': '-1', 'responsabilizável': '0', 'responsável': '1', 'ressabiado': '-1', 'ressabido': '1', 'ressaltado': '1', 'ressarcido': '1', 'ressentido': '-1', 'ressequido': '-1', 'ressonador': '0', 'ressonante': '-1', 'ressuscitado': '1', 'restabelecido': '1', 'restaurado': '1', 'restringido': '-1', 'restritivo': '0', 'restrito': '0', 'resultante': '0', 'resumido': '0', 'retalhado': '0', 'retardado': '-1', 'reticente': '-1', 'retido': '0', 'retirado': '0', 'reto': '1', 'retorcido': '-1', 'retórico': '-1', 'retornado': '0', 'retorto': '-1', 'retracto': '-1', 'retraído': '-1', 'retratado': '1', 'retrógrado': '-1', 'retrospectivo': '0', 'retumbante': '-1', 'réu': '-1', 'reunido': '-1', 'revanchista': '0', 'revel': '-1', 'revelado': '1', 'revelho': '-1', 'reverenciado': '1', 'reverenciador': '0', 'reverencioso': '0', 'reverendo': '1', 'reverente': '0', 'revestido': '0', 'revigorado': '1', 'revoltado': '-1', 'revoltante': '-1', 'revoltoso': '-1', 'revolucionado': '-1', 'revolucionário': '0', 'rezina': '-1', 'rezingão': '-1', 'ribaldeiro': '-1', 'ribaldo': '-1', 'ricaço': '0', 'ricalhaço': '0', 'rico': '1', 'ridente': '1', 'ridicularizado': '0', 'ridicularizador': '-1', 'ridicularizante': '-1', 'ridículo': '-1', 'rígido': '0', 'rigorista': '0', 'rigoroso': '1', 'rijo': '1', 'riscado': '-1', 'risível': '-1', 'risonho': '1', 'ríspido': '-1', 'ritual': '0', 'rival': '-1', 'roberto': '-1', 'robustecido': '1', 'robusto': '1', 'rodado': '-1', 'rodeado': '0', 'roedor': '-1', 'rogativo': '0', 'rolê': '-1', 'rolho': '-1', 'roliço': '-1', 'romanesco': '0', 'romântico': '0', 'rompido': '-1', 'roncador': '0', 'roncante': '0', 'roncão': '0', 'ronceiro': '-1', 'rosado': '0', 'rotativista': '0', 'rotineiro': '0', 'roto': '0', 'rotundo': '-1', 'roubado': '-1', 'rouco': '-1', 'roufenho': '-1', 'roxo': '-1', 'rúbeo': '0', 'rubicundo': '0', 'ruborescido': '0', 'ruborizado': '0', 'rubro': '0', 'ruço': '0', 'rude': '-1', 'rudimentar': '-1', 'ruidoso': '-1', 'ruim': '-1', 'ruinoso': '-1', 'ruivo': '0', 'russófilo': '0', 'russófobo': '-1', 'rústico': '-1', 'sabe': '1', 'sabedor': '1', 'sabichão': '0', 'sabido': '0', 'sábio': '1', 'sacado': '-1', 'sacana': '-1', 'saciado': '0', 'sacramentado': '0', 'sagrado': '1', 'sacrificado': '1', 'sacrificador': '0', 'sacrílego': '-1', 'sacrista': '-1', 'sacrossanto': '0', 'sacudido': '1', 'sádico': '-1', 'sadio': '1', 'sadista': '-1', 'safado': '-1', 'sáfaro': '-1', 'sáfio': '-1', 'safo': '0', 'sagaz': '1', 'sage': '1', 'saído': '1', 'salazarista': '-1', 'salesiano': '0', 'salientado': '0', 'saliente': '-1', 'saloio': '-1', 'saltão': '0', 'saltitante': '-1', 'salutar': '1', 'salvável': '0', 'salvo': '0', 'samaritano': '0', 'sanado': '1', 'sancionado': '0', 'sandeu': '-1', 'sangrento': '-1', 'sanguinário': '-1', 'sangüinário': '-1', 'sanguíneo': '-1', 'sangüíneo': '-1', 'sanguinolento': '-1', 'sanhudo': '-1', 'santificado': '0', 'santo': '1', 'são': '1', 'sapeca': '-1', 'sapiente': '1', 'sapudo': '-1', 'sarado': '1', 'sarcástico': '-1', 'sardanapalesco': '-1', 'sardento': '0', 'sardo': '0', 'sardónico': '-1', 'sarnento': '-1', 'sarnoso': '-1', 'sarraceno': '0', 'satânico': '-1', 'satírico': '-1', 'satisfeito': '1', 'saturado': '-1', 'saturante': '-1', 'saudável': '1', 'saudoso': '-1', 'sebento': '-1', 'seboso': '-1', 'secante': '-1', 'seco': '-1', 'sectário': '-1', 'secular': '-1', 'secularista': '0', 'secundário': '-1', 'sedentário': '-1', 'sedente': '-1', 'sedento': '-1', 'sedicioso': '-1', 'sedoso': '0', 'sedutor': '1', 'seduzido': '-1', 'segregado': '-1', 'seguidor': '1', 'seguinte': '0', 'segurado': '0', 'seguro': '1', 'selado': '-1', 'seleccionado': '1', 'selectivo': '0', 'selecto': '1', 'selvagem': '-1', 'selvático': '-1', 'sem carácter': '-1', 'semelhante': '-1', 'semibárbaro': '-1', 'semicivilizado': '-1', 'semiconsciente': '-1', 'semidivino': '1', 'semierudito': '0', 'semilouco': '-1', 'semimorto': '-1', 'seminal': '1', 'seminu': '-1', 'semivivo': '-1', 'sem-sabor': '-1', 'sem-sal': '-1', 'senhor do seu nariz': '0', 'senil': '-1', 'sensaborão': '-1', 'sensacional': '1', 'sensacionalista': '-1', 'sensato': '1', 'sensibilizado': '-1', 'sensibilizante': '-1', 'sensitivo': '0', 'sensível': '1', 'sensual': '1', 'sensualista': '0', 'sentenciado': '-1', 'sentencioso': '-1', 'sentido': '-1', 'sentimental': '0', 'sentimentalista': '0', 'separado': '0', 'separatista': '0', 'sepultado': '0', 'sequaz': '1', 'seqüestrado': '0', 'sequestrável': '-1', 'sequioso': '-1', 'seráfico': '0', 'serelepe': '-1', 'sereno': '1', 'sério': '0', 'serôdio': '-1', 'sertanejo': '-1', 'servente': '0', 'serviçal': '0', 'servido': '-1', 'servil': '-1', 'servo': '0', 'setembrista': '0', 'setuagenário': '0', 'severo': '-1', 'sevo': '-1', 'sexagenário': '0', 'sexista': '0', 'sexuado': '0', 'sexual': '0', 'sexualizado': '0', 'sexy': '1', 'sibilino': '-1', 'sifilítico': '-1', 'significativo': '1', 'silencioso': '0', 'silente': '0', 'simbólico': '0', 'simbolista': '0', 'simétrico': '1', 'similar': '0', 'símile': '0', 'símio': '-1', 'simoniano': '0', 'simpático': '1', 'simpatizante': '1', 'simples': '1', 'simplificador': '0', 'simplista': '-1', 'simplório': '-1', 'simulado': '-1', 'sincero': '1', 'sindicalista': '0', 'sindicalizado': '0', 'singelo': '0', 'singular': '0', 'sinistro': '-1', 'sintético': '0', 'sintoísta': '0', 'sinuoso': '-1', 'sistemático': '1', 'sistêmico': '1', 'sisudo': '-1', 'sitiado': '-1', 'situado': '-1', 'snob': '-1', 'snobe': '-1', 'só': '-1', 'soberano': '0', 'soberbo': '1', 'sobranceiro': '0', 'sobrealimentado': '-1', 'sobrecarregado': '-1', 'sobredotado': '1', 'sobrenatural': '1', 'sobressaltado': '-1', 'sóbrio': '1', 'social': '1', 'social-democrata': '0', 'socialista': '0', 'sociável': '1', 'sócio': '-1', 'sociologista': '0', 'socorrido': '0', 'soez': '-1', 'sofista': '-1', 'sofisticado': '1', 'sofredor': '-1', 'sôfrego': '-1', 'sofrido': '-1', 'sofrível': '0', 'soldado': '0', 'solene': '0', 'solenizado': '-1', 'solerte': '-1', 'solícito': '1', 'solidário': '1', 'sólido': '0', 'solitário': '-1', 'solteiro': '0', 'solto': '-1', 'soluçante': '-1', 'solucionado': '1', 'solucionista': '0', 'sombreado': '-1', 'sombrio': '-1', 'sonâmbulo': '-1', 'sonante': '1', 'sonhado': '-1', 'sonhador': '0', 'sonolento': '-1', 'sonso': '-1', 'sopeiro': '-1', 'sórdido': '-1', 'sorna': '-1', 'sorrateiro': '-1', 'sorrelfo': '-1', 'sorridente': '1', 'sorteado': '-1', 'sorumbático': '-1', 'sossegado': '1', 'soturno': '-1', 'sovado': '-1', 'sovina': '-1', 'sozinho': '-1', 'sportinguista': '0', 'stressado': '-1', 'suado': '0', 'suarento': '0', 'suave': '1', 'suavizado': '-1', 'subalterno': '-1', 'subdividido': '0', 'subentendido': '-1', 'subjectivo': '0', 'subjetivo': '0', 'subjugado': '-1', 'subjugador': '-1', 'subjugante': '-1', 'sublimado': '0', 'sublime': '1', 'submergido': '-1', 'submerso': '-1', 'submetido': '-1', 'submisso': '-1', 'subordinado': '0', 'subordinador': '0', 'subordinante': '-1', 'subornado': '-1', 'subornador': '-1', 'subornável': '-1', 'subscrito': '0', 'subsequente': '0', 'subserviente': '-1', 'subsidiado': '0', 'subsidiário': '-1', 'substancialista': '0', 'subtil': '0', 'subversivo': '-1', 'subversor': '-1', 'sucessor': '0', 'sucinto': '0', 'súdito': '-1', 'suficiente': '1', 'sufocado': '-1', 'sufocador': '-1', 'sufocante': '-1', 'sufragâneo': '-1', 'sufragista': '0', 'sugestionável': '-1', 'sugestivo': '0', 'suicida': '-1', 'suíno': '-1', 'sujeito': '-1', 'sujo': '-1', 'sumário': '0', 'sumido': '-1', 'sumptuoso': '1', 'superconfiante': '1', 'superdefensivo': '-1', 'superdotado': '1', 'superelegante': '1', 'superexigente': '0', 'superficial': '-1', 'supérfluo': '-1', 'superintendente': '1', 'superior': '1', 'superlotado': '-1', 'superprotector': '0', 'supersensível': '-1', 'supersticioso': '-1', 'supimpa': '1', 'supino': '0', 'suplantado': '-1', 'suplementar': '0', 'suportável': '1', 'suposto': '-1', 'supranumerário': '-1', 'supremo': '1', 'suprimido': '-1', 'surdo': '0', 'surgido': '0', 'surpreendente': '1', 'surpreendido': '-1', 'surpreso': '-1', 'surrado': '-1', 'surreal': '-1', 'surrealista': '-1', 'surto': '0', 'susceptível': '-1', 'suscetível': '-1', 'suspeito': '-1', 'suspenso': '-1', 'suspicaz': '-1', 'suspirante': '0', 'suspiroso': '0', 'sussurrante': '0', 'sustado': '0', 'sustentado': '0', 'sutil': '0', 'tabagista': '-1', 'tablóide': '-1', 'tabu': '0', 'tacanho': '-1', 'tachado': '-1', 'tácito': '-1', 'taciturno': '-1', 'taful': '0', 'tagarela': '-1', 'talentoso': '1', 'talhado': '1', 'talibã': '0', 'taludo': '0', 'tamanco': '-1', 'tamaninho': '-1', 'tangível': '1', 'tanso': '-1', 'tapado': '-1', 'tarado': '-1', 'tarado sexual': '-1', 'tarasco': '-1', 'tardíloquo': '-1', 'tardio': '-1', 'tardo': '-1', 'tareco': '-1', 'tarimbeiro': '-1', 'tarouco': '-1', 'tartamudo': '-1', 'tartufo': '-1', 'tato': '-1', 'tatuado': '0', 'taxativo': '-1', 'taylorista': '0', 'teatral': '-1', 'tecnicista': '0', 'técnico': '1', 'tedioso': '-1', 'teimoso': '-1', 'teísta': '0', 'telegráfico': '0', 'telhudo': '-1', 'temerário': '0', 'temeroso': '-1', 'temido': '-1', 'temível': '-1', 'temoroso': '-1', 'temperado': '1', 'temperamental': '-1', 'temperante': '0', 'tempestivo': '-1', 'tempestuoso': '-1', 'temporal': '-1', 'temporão': '-1', 'temporário': '-1', 'temporizador': '1', 'temudo': '-1', 'tenaz': '0', 'tendencioso': '-1', 'tenebroso': '-1', 'tenro': '-1', 'tenso': '-1', 'tentado': '-1', 'tentador': '-1', 'ténue': '-1', 'tênue': '0', 'teórico': '0', 'terminante': '0', 'terno': '1', 'ternurento': '1', 'terráqueo': '0', 'terrenho': '-1', 'terreno': '0', 'terrestre': '0', 'terrificante': '-1', 'terrífico': '-1', 'terrível': '-1', 'terrorífico': '-1', 'terrorista': '-1', 'terso': '0', 'teso': '-1', 'testo': '1', 'testudo': '-1', 'tetro': '-1', 'tétrico': '-1', 'tíbio': '-1', 'tido': '1', 'tigre': '-1', 'tigrino': '-1', 'tímido': '-1', 'timorato': '0', 'tinhoso': '-1', 'típico': '0', 'tirado': '-1', 'tirânico': '-1', 'tirano': '-1', 'tiririca': '-1', 'tiritante': '-1', 'tísico': '-1', 'tisnado': '0', 'titilante': '0', 'titubeante': '-1', 'titular': '1', 'tocado': '-1', 'tocador': '-1', 'tocante': '0', 'todo-poderoso': '0', 'toldado': '-1', 'toleirão': '-1', 'tolerante': '1', 'tolerável': '1', 'tolhido': '-1', 'tolo': '-1', 'tomado': '0', 'tombado': '-1', 'tomista': '0', 'tonante': '0', 'tonificado': '1', 'tontinho': '-1', 'tonto': '-1', 'torcedor': '0', 'torcido': '-1', 'tormentoso': '-1', 'torneado': '-1', 'torpe': '-1', 'torso': '-1', 'torto': '-1', 'tortuoso': '-1', 'torturado': '-1', 'torturador': '-1', 'torturante': '-1', 'torvo': '-1', 'tosco': '-1', 'total': '0', 'totó': '-1', 'tóxico': '-1', 'toxicodependente': '-1', 'toxicómano': '-1', 'trabalhadeira': '1', 'trabalhado': '-1', 'trabalhador': '1', 'trabalhista': '0', 'trabalhoso': '-1', 'tradicional': '1', 'tradicionalista': '0', 'traficante': '-1', 'trafulha': '-1', 'tragável': '1', 'trágico': '-1', 'traiçoeiro': '-1', 'traído': '-1', 'traidor': '-1', 'trajado': '0', 'tramado': '-1', 'trampolineiro': '-1', 'tramposo': '-1', 'trangalhadanças': '-1', 'tranquilizador': '1', 'tranquilizante': '1', 'tranquilo': '1', 'tranqüilo': '1', 'transcendental': '-1', 'transcendentalista': '0', 'transcendente': '1', 'transeunte': '0', 'transexual': '0', 'transfigurado': '0', 'transformado': '0', 'transformista': '0', 'transido': '-1', 'transigente': '-1', 'transitório': '-1', 'translúcido': '1', 'transmissível': '-1', 'transparente': '1', 'transpassado': '-1', 'transpirado': '0', 'transplantado': '0', 'transportado': '-1', 'transposto': '-1', 'transtornado': '-1', 'transversal': '-1', 'transviado': '-1', 'trapaceiro': '-1', 'trapacento': '-1', 'trapalhão': '-1', 'trapista': '0', 'traquejado': '1', 'traquina': '-1', 'traquinas': '-1', 'traspassado': '-1', 'tratado': '1', 'tratante': '-1', 'tratável': '1', 'trauliteiro': '-1', 'travado': '-1', 'travesso': '-1', 'travestido': '-1', 'treinado': '1', 'tremebundo': '-1', 'tremelicas': '-1', 'tremendo': '-1', 'tremente': '-1', 'tremido': '-1', 'trémulo': '-1', 'trêmulo': '-1', 'trepador': '0', 'tresloucado': '-1', 'tresmalhado': '-1', 'trespassado': '-1', 'trevoso': '-1', 'tributário': '1', 'trigueiro': '0', 'trilhado': '1', 'trincado': '-1', 'trintão': '0', 'trio': '0', 'triste': '-1', 'tristonho': '-1', 'triturado': '-1', 'triunfador': '1', 'triunfalista': '0', 'triunfante': '1', 'trivial': '-1', 'trocado': '-1', 'trocador': '0', 'trocista': '-1', 'troglodita': '-1', 'troliteiro': '-1', 'trombudo': '-1', 'tronco': '-1', 'troncudo': '0', 'trôpego': '-1', 'tropical': '1', 'trotskista': '0', 'truanesco': '-1', 'trucidante': '-1', 'truculento': '-1', 'truncado': '-1', 'tumultuado': '-1', 'tumultuário': '-1', 'tumultuoso': '-1', 'turbador': '-1', 'turbulento': '-1', 'túrgido': '-1', 'turrão': '-1', 'tutelado': '0', 'ubíquo': '1', 'ufano': '0', 'ultraconservador': '0', 'ultrajado': '-1', 'ultrajante': '-1', 'ultraliberal': '0', 'ultramontano': '0', 'ultranacionalista': '0', 'ultrapassado': '-1', 'unanimista': '0', 'unário': '1', 'único': '1', 'unido': '-1', 'unificador': '1', 'uniforme': '0', 'uniformizador': '1', 'unionista': '0', 'unitário': '0', 'unitarista': '0', 'universal': '0', 'universalista': '0', 'universalizado': '0', 'unívoco': '1', 'uno': '0', 'untuoso': '-1', 'urbanita': '0', 'urbano': '0', 'urinado': '-1', 'usado': '-1', 'usual': '1', 'usurário': '-1', 'usurpador': '-1', 'útil': '1', 'utilitário': '1', 'utilitarista': '0', 'utópico': '0', 'utopista': '0', 'uxoricida': '-1', 'vacilante': '0', 'vacinado': '0', 'vadio': '-1', 'vagabundo': '-1', 'vagamundo': '-1', 'vagaroso': '-1', 'vago': '-1', 'vaiado': '0', 'vaidoso': '-1', 'valentão': '0', 'valente': '1', 'valetudinário': '-1', 'valido': '0', 'válido': '1', 'valioso': '1', 'valoroso': '1', 'vandálico': '-1', 'vândalo': '-1', 'vanguardeiro': '1', 'vanguardista': '0', 'vantajoso': '1', 'vão': '-1', 'vaporoso': '0', 'varado': '-1', 'varela': '-1', 'variado': '-1', 'variegado': '-1', 'varonil': '1', 'varrido': '-1', 'vassalo': '-1', 'vasto': '0', 'vaticanista': '0', 'vazio': '-1', 'vedado': '-1', 'veemente': '0', 'velado': '-1', 'veleiro': '0', 'velejador': '0', 'velhaco': '-1', 'velho': '0', 'velho e relho': '-1', 'velhote': '0', 'veloso': '0', 'veloz': '1', 'venal': '-1', 'vencedor': '1', 'vencido': '-1', 'vencível': '-1', 'vendedor': '-1', 'vendido': '-1', 'venenoso': '-1', 'venerado': '1', 'venerando': '1', 'venerável': '1', 'ventrudo': '-1', 'venturoso': '1', 'vero': '1', 'veraz': '1', 'verdadeiro': '1', 'vergado': '-1', 'vergonhoso': '-1', 'verídico': '1', 'vermelho': '-1', 'vermelhusco': '-1', 'vernáculo': '1', 'verosímil': '1', 'verosimilhante': '1', 'verossímil': '1', 'verrinoso': '-1', 'versado': '1', 'versátil': '1', 'vertical': '1', 'vertido': '-1', 'vesgo': '-1', 'vestido': '0', 'veterano': '0', 'vetusto': '0', 'vexado': '-1', 'viajado': '1', 'viajante': '0', 'vibrante': '0', 'vicentino': '0', 'vicentista': '0', 'viciado': '-1', 'vicioso': '-1', 'viçoso': '1', 'videirinho': '-1', 'videiro': '0', 'vidente': '1', 'vidrado': '-1', 'vigarista': '-1', 'vígaro': '-1', 'vigiado': '0', 'vígil': '1', 'vigilante': '1', 'vigoroso': '1', 'vil': '-1', 'vilão': '-1', 'vinagrento': '-1', 'vincado': '-1', 'vinculado': '0', 'vindicativo': '0', 'vindo': '-1', 'vingativo': '-1', 'vinolento': '-1', 'violado': '-1', 'violentado': '-1', 'violento': '-1', 'violeta': '-1', 'viperino': '-1', 'vira-casacas': '-1', 'virado': '-1', 'virgem': '0', 'virginal': '0', 'viril': '1', 'virtuoso': '1', 'virulento': '-1', 'visado': '-1', 'visceral': '-1', 'viscoso': '-1', 'visionário': '1', 'visível': '0', 'visto': '1', 'vistoso': '1', 'visual': '1', 'vital': '-1', 'vitalista': '0', 'vitalizador': '1', 'vítima': '-1', 'vitorioso': '1', 'viúvo': '0', 'vivaço': '1', 'vivaz': '1', 'vivedor': '1', 'vivido': '1', 'vívido': '0', 'vivificador': '1', 'vivificante': '0', 'vivo': '1', 'vizinho': '0', 'voador': '1', 'vociferador': '-1', 'vociferante': '-1', 'volante': '-1', 'volátil': '-1', 'voltado': '-1', 'volumoso': '0', 'voluntarioso': '-1', 'voluntarista': '0', 'voluptuoso': '0', 'volúvel': '-1', 'vomitado': '-1', 'vorace': '-1', 'voraz': '-1', 'vulgar': '-1', 'vulgarizado': '-1', 'vulgarizador': '-1', 'vulnerável': '-1', 'vultoso': '-1', 'wagneriano': '0', 'xenófilo': '1', 'xenófobo': '-1', 'xexé': '-1', 'xiita': '0', 'zaino': '-1', 'zangado': '-1', 'zargo': '0', 'zarolho': '-1', 'zelador': '0', 'zeloso': '1', 'zelote': '-1', 'zombeteiro': '-1', 'zonzo': '-1', 'zote': '-1', 'zumbidor': '-1'}\n"
          ],
          "name": "stdout"
        }
      ]
    },
    {
      "cell_type": "code",
      "metadata": {
        "id": "L9vLPAqGVCPL",
        "colab_type": "code",
        "colab": {
          "base_uri": "https://localhost:8080/",
          "height": 34
        },
        "outputId": "ec8ea8d1-d98e-48b7-fcd6-c1d2d1f6e5a7"
      },
      "source": [
        "print (dic_palavra_polaridade.get('abusivo'))"
      ],
      "execution_count": null,
      "outputs": [
        {
          "output_type": "stream",
          "text": [
            "-1\n"
          ],
          "name": "stdout"
        }
      ]
    },
    {
      "cell_type": "code",
      "metadata": {
        "id": "F2tZo-fNVCIs",
        "colab_type": "code",
        "colab": {
          "base_uri": "https://localhost:8080/",
          "height": 34
        },
        "outputId": "87a5520a-74f6-48e9-d285-9b71e4c073b7"
      },
      "source": [
        "print (dic_palavra_polaridade.get('sorridente'))"
      ],
      "execution_count": null,
      "outputs": [
        {
          "output_type": "stream",
          "text": [
            "1\n"
          ],
          "name": "stdout"
        }
      ]
    },
    {
      "cell_type": "code",
      "metadata": {
        "id": "RpkFZQCaVCDT",
        "colab_type": "code",
        "colab": {
          "base_uri": "https://localhost:8080/",
          "height": 34
        },
        "outputId": "dc0bea9a-3ed2-4746-aefc-f17ff71e8aef"
      },
      "source": [
        "print (dic_palavra_polaridade.get('liberal'))"
      ],
      "execution_count": null,
      "outputs": [
        {
          "output_type": "stream",
          "text": [
            "0\n"
          ],
          "name": "stdout"
        }
      ]
    },
    {
      "cell_type": "code",
      "metadata": {
        "id": "RGujca34VB9W",
        "colab_type": "code",
        "colab": {}
      },
      "source": [
        "def Score_sentimento(frase):\n",
        "    frase = frase.lower()                     # coloca toda a frase em minusculo\n",
        "    l_sentimento = []                         # cria uma lista vazia\n",
        "    for p in frase.split():\n",
        "        l_sentimento.append(int(dic_palavra_polaridade.get(p, 0)))      # para cada palavra obtem a polaridade\n",
        "    print (l_sentimento)                                                # imprime a lista de polaridades\n",
        "    score = sum(l_sentimento)                                           # soma todos os valores da lista\n",
        "    if score > 0:\n",
        "        return 'Positivo, Score:{}'.format(score)                       # se maior que 0 retorna 'positivo'\n",
        "    elif score == 0:\n",
        "        return 'Neutro, Score:{}'.format(score)                         # se igual a 0 retorna 'neutro'\n",
        "    else:\n",
        "        return 'Negativo, Score:{}'.format(score)                       # se menor que 0 retorna 'negativo'"
      ],
      "execution_count": null,
      "outputs": []
    },
    {
      "cell_type": "code",
      "metadata": {
        "id": "lF7krHNZVBWL",
        "colab_type": "code",
        "colab": {
          "base_uri": "https://localhost:8080/",
          "height": 54
        },
        "outputId": "45ff8b2d-2ca8-48c7-d399-aa7b57ca9977"
      },
      "source": [
        "Score_sentimento('Eu estou muito feliz hoje, porém, triste com a política')"
      ],
      "execution_count": null,
      "outputs": [
        {
          "output_type": "stream",
          "text": [
            "[0, 0, 0, 1, 0, 0, -1, 0, 0, 0]\n"
          ],
          "name": "stdout"
        },
        {
          "output_type": "execute_result",
          "data": {
            "application/vnd.google.colaboratory.intrinsic+json": {
              "type": "string"
            },
            "text/plain": [
              "'Neutro, Score:0'"
            ]
          },
          "metadata": {
            "tags": []
          },
          "execution_count": 148
        }
      ]
    },
    {
      "cell_type": "code",
      "metadata": {
        "id": "9kGgLvmqVAxD",
        "colab_type": "code",
        "colab": {
          "base_uri": "https://localhost:8080/",
          "height": 37
        },
        "outputId": "d33a14d2-47b2-4e62-8760-28037214387d"
      },
      "source": [
        "dic_palavra_polaridade.get('feliz')"
      ],
      "execution_count": null,
      "outputs": [
        {
          "output_type": "execute_result",
          "data": {
            "application/vnd.google.colaboratory.intrinsic+json": {
              "type": "string"
            },
            "text/plain": [
              "'1'"
            ]
          },
          "metadata": {
            "tags": []
          },
          "execution_count": 149
        }
      ]
    },
    {
      "cell_type": "code",
      "metadata": {
        "id": "3ArakJlmjd1P",
        "colab_type": "code",
        "colab": {
          "base_uri": "https://localhost:8080/",
          "height": 54
        },
        "outputId": "b2c0877b-4358-475a-e5e1-b49a9e818087"
      },
      "source": [
        "Score_sentimento('Estou Muito Feliz hoje,super animado com o trabalho novo! :)')"
      ],
      "execution_count": null,
      "outputs": [
        {
          "output_type": "stream",
          "text": [
            "[0, 0, 1, 0, 1, 0, 0, 0, 0, 0]\n"
          ],
          "name": "stdout"
        },
        {
          "output_type": "execute_result",
          "data": {
            "application/vnd.google.colaboratory.intrinsic+json": {
              "type": "string"
            },
            "text/plain": [
              "'Positivo, Score:2'"
            ]
          },
          "metadata": {
            "tags": []
          },
          "execution_count": 150
        }
      ]
    },
    {
      "cell_type": "code",
      "metadata": {
        "id": "6GdfYNV4jdNJ",
        "colab_type": "code",
        "colab": {
          "base_uri": "https://localhost:8080/",
          "height": 37
        },
        "outputId": "09d47004-ce96-4cb8-c0ca-17911fef774d"
      },
      "source": [
        "dic_palavra_polaridade.get('animado')"
      ],
      "execution_count": null,
      "outputs": [
        {
          "output_type": "execute_result",
          "data": {
            "application/vnd.google.colaboratory.intrinsic+json": {
              "type": "string"
            },
            "text/plain": [
              "'1'"
            ]
          },
          "metadata": {
            "tags": []
          },
          "execution_count": 151
        }
      ]
    },
    {
      "cell_type": "code",
      "metadata": {
        "id": "ZFTfvgG3jcnS",
        "colab_type": "code",
        "colab": {
          "base_uri": "https://localhost:8080/",
          "height": 54
        },
        "outputId": "469ba763-4dd9-49f3-de56-842dc3460673"
      },
      "source": [
        "Score_sentimento('Estou muito triste, desanimado com algumas coisas')"
      ],
      "execution_count": null,
      "outputs": [
        {
          "output_type": "stream",
          "text": [
            "[0, 0, 0, -1, 0, 0, 0]\n"
          ],
          "name": "stdout"
        },
        {
          "output_type": "execute_result",
          "data": {
            "application/vnd.google.colaboratory.intrinsic+json": {
              "type": "string"
            },
            "text/plain": [
              "'Negativo, Score:-1'"
            ]
          },
          "metadata": {
            "tags": []
          },
          "execution_count": 152
        }
      ]
    },
    {
      "cell_type": "code",
      "metadata": {
        "id": "2AYq-kRpjbvE",
        "colab_type": "code",
        "colab": {
          "base_uri": "https://localhost:8080/",
          "height": 37
        },
        "outputId": "c1cef65f-9efa-4583-86b8-988d35e59b0f"
      },
      "source": [
        "dic_palavra_polaridade.get('triste')"
      ],
      "execution_count": null,
      "outputs": [
        {
          "output_type": "execute_result",
          "data": {
            "application/vnd.google.colaboratory.intrinsic+json": {
              "type": "string"
            },
            "text/plain": [
              "'-1'"
            ]
          },
          "metadata": {
            "tags": []
          },
          "execution_count": 153
        }
      ]
    },
    {
      "cell_type": "markdown",
      "metadata": {
        "id": "XI4kjbwObpuH",
        "colab_type": "text"
      },
      "source": [
        "####Nos sistemas para reconhecimento de voz o processo é semelhante."
      ]
    },
    {
      "cell_type": "markdown",
      "metadata": {
        "id": "gCFui1CDlHpz",
        "colab_type": "text"
      },
      "source": [
        "#### Exemplo de robô Python \"Backend\"  -  Globo Esporte - Numerologos.\n"
      ]
    },
    {
      "cell_type": "markdown",
      "metadata": {
        "id": "HkaXo9fsG4Dw",
        "colab_type": "text"
      },
      "source": [
        "https://globoesporte.globo.com/numerologos/"
      ]
    },
    {
      "cell_type": "markdown",
      "metadata": {
        "id": "8M9twG_-mwy4",
        "colab_type": "text"
      },
      "source": [
        "####Exemplo de robô Python \"Backend\"  -  ChatBots for Senior People and Patients with Alzheimer’s Disease\n"
      ]
    },
    {
      "cell_type": "markdown",
      "metadata": {
        "id": "LbsGrUbHlDJJ",
        "colab_type": "text"
      },
      "source": [
        "http://endurancerobots.com/azbnmaterial/a-robot-companion-for-senior-people-and-patients-with-alzheimer-s-disease/"
      ]
    },
    {
      "cell_type": "markdown",
      "metadata": {
        "id": "z_lZdhOSoeL8",
        "colab_type": "text"
      },
      "source": [
        "####Referências."
      ]
    },
    {
      "cell_type": "markdown",
      "metadata": {
        "id": "XS4Hb6O-AkqJ",
        "colab_type": "text"
      },
      "source": [
        "https://trieengenharia.com/5-motivos-para-usar-python-na-industria-4-0/"
      ]
    },
    {
      "cell_type": "markdown",
      "metadata": {
        "id": "X_eGTifDrVlE",
        "colab_type": "text"
      },
      "source": [
        "https://www.nltk.org\n"
      ]
    },
    {
      "cell_type": "markdown",
      "metadata": {
        "id": "sH3zV3xdry8x",
        "colab_type": "text"
      },
      "source": [
        "https://scikit-learn.org/stable/modules/naive_bayes.html"
      ]
    },
    {
      "cell_type": "markdown",
      "metadata": {
        "id": "wDqCHZTYswQr",
        "colab_type": "text"
      },
      "source": [
        "https://scikit-learn.org/stable/modules/generated/sklearn.naive_bayes.MultinomialNB.html"
      ]
    },
    {
      "cell_type": "markdown",
      "metadata": {
        "id": "0wE2NwzWusJ1",
        "colab_type": "text"
      },
      "source": [
        "http://www.nilc.icmc.usp.br/nilc/tools/corpora.htm"
      ]
    },
    {
      "cell_type": "markdown",
      "metadata": {
        "id": "lLfsu_TLu7sm",
        "colab_type": "text"
      },
      "source": [
        "http://comet.fflch.usp.br"
      ]
    },
    {
      "cell_type": "markdown",
      "metadata": {
        "id": "xN4WGX_3wO1s",
        "colab_type": "text"
      },
      "source": [
        "https://pypi.org/project/fuzzywuzzy/"
      ]
    },
    {
      "cell_type": "markdown",
      "metadata": {
        "id": "hDd5I2Ii1O1z",
        "colab_type": "text"
      },
      "source": [
        "http://b2find.eudat.eu/dataset/b6bd16c2-a8ab-598f-be41-1e7aeecd60d3"
      ]
    }
  ]
}